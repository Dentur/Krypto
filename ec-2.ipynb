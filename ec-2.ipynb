{
 "metadata": {
  "name": ""
 },
 "nbformat": 3,
 "nbformat_minor": 0,
 "worksheets": [
  {
   "cells": [
    {
     "cell_type": "code",
     "collapsed": false,
     "input": [
      "%matplotlib inline\n",
      "import matplotlib.pyplot as plt\n",
      "import numpy as np\n",
      "import string"
     ],
     "language": "python",
     "metadata": {},
     "outputs": [],
     "prompt_number": 151
    },
    {
     "cell_type": "code",
     "collapsed": false,
     "input": [
      "#PRIME = 991\n",
      "PRIME = 127\n",
      "#PRIME = 11\n",
      "if (PRIME+1)%4 != 0:\n",
      "    print \"error\""
     ],
     "language": "python",
     "metadata": {},
     "outputs": [],
     "prompt_number": 152
    },
    {
     "cell_type": "code",
     "collapsed": false,
     "input": [
      "def add(a,b):\n",
      "    return (a+b)%PRIME\n",
      "\n",
      "def mult(a,b):\n",
      "    return (a*b)%PRIME\n",
      "\n",
      "def exp(a,n):\n",
      "    r = 1\n",
      "    x = a\n",
      "    m = n + PRIME - 1\n",
      "    while(m):\n",
      "        if( m&1 ):\n",
      "            r=mult(r,a)\n",
      "            \n",
      "        a = mult(a,a)\n",
      "        m = m>>1\n",
      "    return r\n",
      "\n",
      "def div(a,b):\n",
      "    if ( b==0 ):\n",
      "        return None\n",
      "    \n",
      "    return mult(a,exp(b,PRIME-2))\n",
      "\n",
      "def isSquare(a):\n",
      "    return (exp(a,(PRIME-1)>>1) == 1) | (a==0)\n",
      "\n",
      "def root(a):\n",
      "    return (exp(a,(PRIME+1)>>2))\n",
      "    "
     ],
     "language": "python",
     "metadata": {},
     "outputs": [],
     "prompt_number": 153
    },
    {
     "cell_type": "code",
     "collapsed": false,
     "input": [
      "X = np.arange(PRIME)\n",
      "Y = isSquare(X)\n",
      "print X\n",
      "print Y"
     ],
     "language": "python",
     "metadata": {},
     "outputs": [
      {
       "output_type": "stream",
       "stream": "stdout",
       "text": [
        "[  0   1   2   3   4   5   6   7   8   9  10  11  12  13  14  15  16  17\n",
        "  18  19  20  21  22  23  24  25  26  27  28  29  30  31  32  33  34  35\n",
        "  36  37  38  39  40  41  42  43  44  45  46  47  48  49  50  51  52  53\n",
        "  54  55  56  57  58  59  60  61  62  63  64  65  66  67  68  69  70  71\n",
        "  72  73  74  75  76  77  78  79  80  81  82  83  84  85  86  87  88  89\n",
        "  90  91  92  93  94  95  96  97  98  99 100 101 102 103 104 105 106 107\n",
        " 108 109 110 111 112 113 114 115 116 117 118 119 120 121 122 123 124 125\n",
        " 126]\n",
        "[ True  True  True False  True False False False  True  True False  True\n",
        " False  True False  True  True  True  True  True False  True  True False\n",
        " False  True  True False False False  True  True  True False  True  True\n",
        "  True  True  True False False  True  True False  True False False  True\n",
        " False  True  True False  True False False False False False False False\n",
        "  True  True  True False  True False False False  True  True  True  True\n",
        "  True  True  True False  True False False  True False  True  True False\n",
        "  True False False  True  True False False False False False  True False\n",
        " False False  True  True  True False False  True  True False False  True\n",
        " False False False False False  True False  True False  True False False\n",
        "  True  True  True False  True False False]\n"
       ]
      }
     ],
     "prompt_number": 154
    },
    {
     "cell_type": "code",
     "collapsed": false,
     "input": [
      "x1 = 2\n",
      "a  = 3\n",
      "b  = (-(x1**3 + a*x1))%PRIME\n",
      "print a,b"
     ],
     "language": "python",
     "metadata": {},
     "outputs": [
      {
       "output_type": "stream",
       "stream": "stdout",
       "text": [
        "3 113\n"
       ]
      }
     ],
     "prompt_number": 155
    },
    {
     "cell_type": "code",
     "collapsed": false,
     "input": [
      "def Y2(x):\n",
      "    return (x**3 + a*x + b)%PRIME"
     ],
     "language": "python",
     "metadata": {},
     "outputs": [],
     "prompt_number": 156
    },
    {
     "cell_type": "code",
     "collapsed": false,
     "input": [
      "Y = Y2(X)\n",
      "print X,Y"
     ],
     "language": "python",
     "metadata": {},
     "outputs": [
      {
       "output_type": "stream",
       "stream": "stdout",
       "text": [
        "[  0   1   2   3   4   5   6   7   8   9  10  11  12  13  14  15  16  17\n",
        "  18  19  20  21  22  23  24  25  26  27  28  29  30  31  32  33  34  35\n",
        "  36  37  38  39  40  41  42  43  44  45  46  47  48  49  50  51  52  53\n",
        "  54  55  56  57  58  59  60  61  62  63  64  65  66  67  68  69  70  71\n",
        "  72  73  74  75  76  77  78  79  80  81  82  83  84  85  86  87  88  89\n",
        "  90  91  92  93  94  95  96  97  98  99 100 101 102 103 104 105 106 107\n",
        " 108 109 110 111 112 113 114 115 116 117 118 119 120 121 122 123 124 125\n",
        " 126] [113 117   0  22  62 126  93  96  14 107   0  80  99  63 105 104  66 124\n",
        "  30  44  45  39  32  30  39  65 114  65  51  78  25  25  84  81  22  40\n",
        "  14  77 108 113  98  69  32 120  85  60  51  64 105  53  41  75  34  51\n",
        "   5  29   2  57  73  56  12  74 121  32  67 105  25  87  43  26  42  97\n",
        "  70  94  48  65  24  58  46 121  35  48  39  14 106  67  30   1 113 118\n",
        "  22  85  59  77  18  15  74  74  21  48  34 112  34  60  69  67  60  54\n",
        "  55  69 102  33 122 121  36   0  19  99 119  85   3   6 100  37  77  99\n",
        " 109]\n"
       ]
      }
     ],
     "prompt_number": 157
    },
    {
     "cell_type": "code",
     "collapsed": false,
     "input": [
      "y1 = root(Y[isSquare(Y)])\n",
      "x1 = X[isSquare(Y)]\n",
      "y2 = y1[ y1!=0 ]\n",
      "x2 = x1[ y1!=0 ]\n",
      "x  = np.hstack([x1,x2])\n",
      "y  = np.hstack([y1, (-y2)%PRIME])\n",
      "print x\n",
      "print y"
     ],
     "language": "python",
     "metadata": {},
     "outputs": [
      {
       "output_type": "stream",
       "stream": "stdout",
       "text": [
        "[  0   1   2   3   4   9  10  12  15  17  18  19  22  23  30  31  32  33\n",
        "  34  39  40  41  42  43  45  47  50  52  56  58  61  62  63  66  67  69\n",
        "  70  72  73  79  80  86  87  88  90  94  95  96  97  98 100 102 103 104\n",
        " 106 109 112 113 114 115 116 117 122 123 125   0   1   3   4   9  12  15\n",
        "  17  18  19  22  23  30  31  32  33  34  39  40  41  42  43  45  47  50\n",
        "  52  56  58  61  62  63  66  67  69  70  72  73  79  80  86  87  88  90\n",
        "  94  95  96  97  98 100 102 103 104 106 109 112 113 114 116 117 122 123\n",
        " 125]\n",
        "[ 42  25   0  99  69  19   0  37  72  88  41  60  64  41 122 122  81   9\n",
        "  99  42  15 113  64  82  21   8  26  62  16  94  70  11  64 122  50  36\n",
        "  13  18 100  11  17  41   1  42  99  79  74  70  70 104  62  62  21 113\n",
        "  21 113  73  11 121   0 107  37 117  52  37  85 102  28  58 108  90  55\n",
        "  39  86  67  63  86   5   5  46 118  28  85 112  14  63  45 106 119 101\n",
        "  65 111  33  57 116  63   5  77  91 114 109  27 116 110  86 126  85  28\n",
        "  48  53  57  57  23  65  65 106  14 106  14  54 116   6  20  90  10  75\n",
        "  90]\n"
       ]
      }
     ],
     "prompt_number": 158
    },
    {
     "cell_type": "code",
     "collapsed": false,
     "input": [
      "plt.axis([-1,PRIME,-1,PRIME])\n",
      "plt.plot(x,y,'x',marker='o')\n",
      "\n",
      "\n"
     ],
     "language": "python",
     "metadata": {},
     "outputs": [
      {
       "metadata": {},
       "output_type": "pyout",
       "prompt_number": 159,
       "text": [
        "[<matplotlib.lines.Line2D at 0x105f35410>]"
       ]
      },
      {
       "metadata": {},
       "output_type": "display_data",
       "png": "[encoded data removed]",
       "text": [
        "<matplotlib.figure.Figure at 0x105f35890>"
       ]
      }
     ],
     "prompt_number": 159
    },
    {
     "cell_type": "code",
     "collapsed": false,
     "input": [
      "punkte = np.column_stack([x,y])"
     ],
     "language": "python",
     "metadata": {},
     "outputs": [],
     "prompt_number": 160
    },
    {
     "cell_type": "code",
     "collapsed": false,
     "input": [
      "punkte = np.vstack([punkte, [None,None]])"
     ],
     "language": "python",
     "metadata": {},
     "outputs": [],
     "prompt_number": 161
    },
    {
     "cell_type": "code",
     "collapsed": false,
     "input": [
      "print punkte\n",
      "print punkte.size\n"
     ],
     "language": "python",
     "metadata": {},
     "outputs": [
      {
       "output_type": "stream",
       "stream": "stdout",
       "text": [
        "[[0 42]\n",
        " [1 25]\n",
        " [2 0]\n",
        " [3 99]\n",
        " [4 69]\n",
        " [9 19]\n",
        " [10 0]\n",
        " [12 37]\n",
        " [15 72]\n",
        " [17 88]\n",
        " [18 41]\n",
        " [19 60]\n",
        " [22 64]\n",
        " [23 41]\n",
        " [30 122]\n",
        " [31 122]\n",
        " [32 81]\n",
        " [33 9]\n",
        " [34 99]\n",
        " [39 42]\n",
        " [40 15]\n",
        " [41 113]\n",
        " [42 64]\n",
        " [43 82]\n",
        " [45 21]\n",
        " [47 8]\n",
        " [50 26]\n",
        " [52 62]\n",
        " [56 16]\n",
        " [58 94]\n",
        " [61 70]\n",
        " [62 11]\n",
        " [63 64]\n",
        " [66 122]\n",
        " [67 50]\n",
        " [69 36]\n",
        " [70 13]\n",
        " [72 18]\n",
        " [73 100]\n",
        " [79 11]\n",
        " [80 17]\n",
        " [86 41]\n",
        " [87 1]\n",
        " [88 42]\n",
        " [90 99]\n",
        " [94 79]\n",
        " [95 74]\n",
        " [96 70]\n",
        " [97 70]\n",
        " [98 104]\n",
        " [100 62]\n",
        " [102 62]\n",
        " [103 21]\n",
        " [104 113]\n",
        " [106 21]\n",
        " [109 113]\n",
        " [112 73]\n",
        " [113 11]\n",
        " [114 121]\n",
        " [115 0]\n",
        " [116 107]\n",
        " [117 37]\n",
        " [122 117]\n",
        " [123 52]\n",
        " [125 37]\n",
        " [0 85]\n",
        " [1 102]\n",
        " [3 28]\n",
        " [4 58]\n",
        " [9 108]\n",
        " [12 90]\n",
        " [15 55]\n",
        " [17 39]\n",
        " [18 86]\n",
        " [19 67]\n",
        " [22 63]\n",
        " [23 86]\n",
        " [30 5]\n",
        " [31 5]\n",
        " [32 46]\n",
        " [33 118]\n",
        " [34 28]\n",
        " [39 85]\n",
        " [40 112]\n",
        " [41 14]\n",
        " [42 63]\n",
        " [43 45]\n",
        " [45 106]\n",
        " [47 119]\n",
        " [50 101]\n",
        " [52 65]\n",
        " [56 111]\n",
        " [58 33]\n",
        " [61 57]\n",
        " [62 116]\n",
        " [63 63]\n",
        " [66 5]\n",
        " [67 77]\n",
        " [69 91]\n",
        " [70 114]\n",
        " [72 109]\n",
        " [73 27]\n",
        " [79 116]\n",
        " [80 110]\n",
        " [86 86]\n",
        " [87 126]\n",
        " [88 85]\n",
        " [90 28]\n",
        " [94 48]\n",
        " [95 53]\n",
        " [96 57]\n",
        " [97 57]\n",
        " [98 23]\n",
        " [100 65]\n",
        " [102 65]\n",
        " [103 106]\n",
        " [104 14]\n",
        " [106 106]\n",
        " [109 14]\n",
        " [112 54]\n",
        " [113 116]\n",
        " [114 6]\n",
        " [116 20]\n",
        " [117 90]\n",
        " [122 10]\n",
        " [123 75]\n",
        " [125 90]\n",
        " [None None]]\n",
        "256\n"
       ]
      }
     ],
     "prompt_number": 162
    },
    {
     "cell_type": "code",
     "collapsed": false,
     "input": [
      "def addec(p1,p2): #alte Version\n",
      "    #print p1,p2\n",
      "    if p2[0] == None: \n",
      "        return p1\n",
      "    if p1[0] == None:\n",
      "        return p1\n",
      "    if (p1[0] == p2[0]):\n",
      "        if (p1[1] == p2[1] and p1[1] != 0 and p2[1] != 0):\n",
      "            #m  = div((3*p1[0]**2 +a)%PRIME,(2*p1[1])%PRIME)\n",
      "            m = div((3*p1[0]**2 + a) % PRIME,(2*p1[1])%PRIME)\n",
      "            m2 = mult(m,m)\n",
      "            #x3 = add(m2, - add(p1[0],p1[0]))\n",
      "            x3 = add(m2,-(2*p1[0]%PRIME))\n",
      "            #y3 = add(mult(m,add(-x3,p1[0])),-p1[1])\n",
      "            y3 = add(mult(m,add(p1[0],-x3)),-p1[1])\n",
      "            return [x3,y3]\n",
      "        else:\n",
      "            return [None , None]\n",
      "    else:\n",
      "        m  = div(add(p1[1],-p2[1]),add(p1[0],-p2[0])) #Steigung\n",
      "        print m\n",
      "        m2 = mult(m,m)\n",
      "        x3 = add(m2, -add(p1[0],-p2[0])) #-p2!\n",
      "        y3 = add(mult(m,add(-x3,p1[0])),-p2[1])\n",
      "        #y3 = add(mult(add(p1[0],-x3),m),-p1[1])\n",
      "        \n",
      "        return [x3,y3]\n",
      "    \n",
      "def addec(p1,p2):\n",
      "    if p2[0] == None: \n",
      "        return p1 #P1 + neutrales Element = p1\n",
      "    if p1[0] == None:\n",
      "        return p2 #P2 + neutrales Element = p2\n",
      "    if (p1[0] == p2[0]): #X-Achse stimmt \u00fcberein\n",
      "        if (p1[1] == p2[1] and p1[1] != 0): #Y-Achse stimmt \u00fcberein\n",
      "            m  = div((3*p1[0]**2 +a)%PRIME,(2*p1[1])%PRIME) #m = (3*x^2 + a) / (2*y1)\n",
      "            x3 = add((m*m) % PRIME, - add(p1[0],p2[0])) #x3 = m^2 - x1 - x2\n",
      "            y3 = add(mult(m,add(p1[0],-x3)),-p1[1]) #y3 = m(x1 - x3) - y1\n",
      "            return [x3,y3]\n",
      "        else:\n",
      "            return [None , None] #Wenn (4,2) und (4,-2)/ (4,-2%PRIME) addiert wird, ist das Ergebnis neutral (quasi unsere 0)\n",
      "    else: #X ist unterschiedlich\n",
      "        m  = div(add(p2[1],-p1[1]),add(p2[0],-p1[0])) #m = y2 - y1 / x2 -x1\n",
      "        m2 = mult(m,m)\n",
      "        x3 = add(m2, - add(p1[0],p2[0])) #x3 = m^2 - x1 - x2\n",
      "        y3 = add(mult(m,add(-x3,p1[0])),-p1[1]) #y3 = m(x1 - x3) - y1\n",
      "        \n",
      "        return [x3,y3]\n",
      "    \n",
      "    \n",
      "def expec(p1,n):\n",
      "    p2=p1\n",
      "    for i in range (0,n):\n",
      "        p2=addec(p2,p1)\n",
      "    return p2\n",
      "        "
     ],
     "language": "python",
     "metadata": {},
     "outputs": [],
     "prompt_number": 163
    },
    {
     "cell_type": "code",
     "collapsed": false,
     "input": [
      "print addec(punkte[0],punkte[0]) #(1,1) + (1,1)  =(7,3)\n",
      "\n",
      "print addec([7,3],punkte[0]) #(7,3) + (1,1) = (10,3)?  \n",
      "\n",
      "print addec([8,4],punkte[0]) #(10,3) + (1,1) = NONE?\n",
      "\n",
      "print addec([6,0],punkte[0])\n",
      "print addec([8,7],punkte[0])\n",
      "print addec([7,8],punkte[0])"
     ],
     "language": "python",
     "metadata": {},
     "outputs": [
      {
       "output_type": "stream",
       "stream": "stdout",
       "text": [
        "[52, 65]\n",
        "[37, 19]\n",
        "[86, 49]\n",
        "[43, 5]\n",
        "[29, 69]\n",
        "[14, 26]\n"
       ]
      }
     ],
     "prompt_number": 164
    },
    {
     "cell_type": "code",
     "collapsed": false,
     "input": [
      "#Ausgabe der Additionstabelle\n",
      "print \"+\",\n",
      "for k in range(punkte.size/2 - 1):\n",
      "    print \"\\t\", punkte[k], \"\",\n",
      "print()\n",
      "for i in range(punkte.size/2 - 1):\n",
      "    print(punkte[i]),\"\",\n",
      "    for j in range(punkte.size/2 -1):\n",
      "        ergebnis = addec(punkte[i],punkte[j])\n",
      "        if(ergebnis[0] == None):\n",
      "            print ergebnis, \"\",\n",
      "        else:\n",
      "            print ergebnis, \"\",       \n",
      "    print()"
     ],
     "language": "python",
     "metadata": {},
     "outputs": [
      {
       "output_type": "stream",
       "stream": "stdout",
       "text": [
        "+ \t[0 42]  \t[1 25]  \t[2 0]  \t[3 99]  \t[4 69]  \t[9 19]  \t[10 0]  \t[12 37]  \t[15 72]  \t[17 88]  \t[18 41]  \t[19 60]  \t[22 64]  \t[23 41]  \t[30 122]  \t[31 122]  \t[32 81]  \t[33 9]  \t[34 99]  \t[39 42]  \t[40 15]  \t[41 113]  \t[42 64]  \t[43 82]  \t[45 21]  \t[47 8]  \t[50 26]  \t[52 62]  \t[56 16]  \t[58 94]  \t[61 70]  \t[62 11]  \t[63 64]  \t[66 122]  \t[67 50]  \t[69 36]  \t[70 13]  \t[72 18]  \t[73 100]  \t[79 11]  \t[80 17]  \t[86 41]  \t[87 1]  \t[88 42]  \t[90 99]  \t[94 79]  \t[95 74]  \t[96 70]  \t[97 70]  \t[98 104]  \t[100 62]  \t[102 62]  \t[103 21]  \t[104 113]  \t[106 21]  \t[109 113]  \t[112 73]  \t[113 11]  \t[114 121]  \t[115 0]  \t[116 107]  \t[117 37]  \t[122 117]  \t[123 52]  \t[125 37]  \t[0 85]  \t[1 102]  \t[3 28]  \t[4 58]  \t[9 108]  \t[12 90]  \t[15 55]  \t[17 39]  \t[18 86]  \t[19 67]  \t[22 63]  \t[23 86]  \t[30 5]  \t[31 5]  \t[32 46]  \t[33 118]  \t[34 28]  \t[39 85]  \t[40 112]  \t[41 14]  \t[42 63]  \t[43 45]  \t[45 106]  \t[47 119]  \t[50 101]  \t[52 65]  \t[56 111]  \t[58 33]  \t[61 57]  \t[62 116]  \t[63 63]  \t[66 5]  \t[67 77]  \t[69 91]  \t[70 114]  \t[72 109]  \t[73 27]  \t[79 116]  \t[80 110]  \t[86 86]  \t[87 126]  \t[88 85]  \t[90 28]  \t[94 48]  \t[95 53]  \t[96 57]  \t[97 57]  \t[98 23]  \t[100 65]  \t[102 65]  \t[103 106]  \t[104 14]  \t[106 106]  \t[109 14]  \t[112 54]  \t[113 116]  \t[114 6]  \t[116 20]  \t[117 90]  \t[122 10]  \t[123 75]  \t[125 90]  ()\n",
        "[0 42]  [52, 65]  [34, 28]  [58, 33]  [104, 14]  [113, 116]  [43, 82]  [94, 48]  [109, 14]  [116, 107]  [87, 126]  [31, 122]  [41, 113]  [106, 106]  [98, 23]  [90, 99]  [72, 18]  [47, 119]  [95, 53]  [1, 102]  [88, 85]  [125, 90]  [72, 109]  [123, 75]  [1, 25]  [19, 60]  [32, 46]  [96, 70]  [0, 85]  [96, 57]  [2, 0]  [100, 62]  [97, 70]  [95, 74]  [69, 36]  [73, 27]  [34, 99]  [125, 37]  [41, 14]  [67, 77]  [52, 62]  [123, 52]  [113, 11]  [17, 39]  [39, 85]  [116, 20]  [10, 0]  [33, 118]  [56, 111]  [32, 81]  [23, 86]  [88, 42]  [112, 73]  [122, 10]  [3, 28]  [22, 63]  [12, 90]  [122, 117]  [4, 58]  [86, 41]  [56, 16]  [90, 28]  [42, 64]  [103, 106]  [42, 63]  [40, 112]  [None, None]  [43, 45]  [47, 8]  [12, 37]  [73, 100]  [4, 69]  [58, 94]  [103, 21]  [104, 113]  [45, 106]  [39, 42]  [45, 21]  [106, 21]  [18, 86]  [97, 57]  [67, 50]  [69, 91]  [22, 64]  [98, 104]  [19, 67]  [117, 90]  [9, 108]  [23, 41]  [3, 99]  [63, 64]  [79, 116]  [115, 0]  [15, 72]  [102, 62]  [114, 121]  [50, 26]  [87, 1]  [33, 9]  [66, 5]  [79, 11]  [31, 5]  [9, 19]  [70, 13]  [109, 113]  [114, 6]  [66, 122]  [100, 65]  [30, 5]  [117, 37]  [63, 63]  [50, 101]  [62, 116]  [40, 15]  [61, 57]  [61, 70]  [17, 88]  [18, 41]  [30, 122]  [80, 17]  [102, 65]  [86, 86]  [62, 11]  [15, 55]  [94, 79]  [112, 54]  [80, 110]  [70, 114]  ()\n",
        "[1 25]  [34, 28]  [86, 41]  [114, 6]  [95, 53]  [69, 36]  [62, 116]  [61, 57]  [90, 28]  [97, 70]  [125, 90]  [50, 26]  [61, 70]  [123, 75]  [50, 101]  [109, 113]  [96, 70]  [67, 77]  [125, 37]  [0, 85]  [31, 122]  [95, 74]  [100, 62]  [122, 117]  [114, 121]  [102, 65]  [90, 99]  [23, 86]  [9, 19]  [72, 109]  [86, 86]  [10, 0]  [9, 108]  [104, 113]  [79, 11]  [32, 46]  [52, 62]  [87, 1]  [56, 111]  [79, 116]  [73, 27]  [106, 21]  [58, 33]  [109, 14]  [117, 37]  [12, 90]  [100, 65]  [3, 28]  [45, 21]  [73, 100]  [122, 10]  [94, 48]  [45, 106]  [123, 52]  [106, 106]  [104, 14]  [87, 126]  [23, 41]  [15, 72]  [2, 0]  [41, 113]  [32, 81]  [112, 73]  [98, 23]  [22, 63]  [17, 39]  [43, 82]  [None, None]  [30, 122]  [116, 107]  [52, 65]  [66, 122]  [113, 116]  [80, 17]  [22, 64]  [56, 16]  [18, 41]  [112, 54]  [3, 99]  [39, 85]  [116, 20]  [47, 8]  [113, 11]  [42, 64]  [103, 21]  [115, 0]  [39, 42]  [0, 42]  [96, 57]  [33, 9]  [18, 86]  [69, 91]  [19, 60]  [62, 11]  [19, 67]  [58, 94]  [98, 104]  [12, 37]  [70, 13]  [4, 58]  [67, 50]  [88, 42]  [97, 57]  [66, 5]  [17, 88]  [1, 102]  [70, 114]  [72, 18]  [47, 119]  [102, 62]  [40, 112]  [31, 5]  [15, 55]  [63, 64]  [41, 14]  [94, 79]  [40, 15]  [63, 63]  [80, 110]  [30, 5]  [117, 90]  [34, 99]  [43, 45]  [4, 69]  [88, 85]  [42, 63]  [103, 106]  [33, 118]  ()\n",
        "[2 0]  [58, 33]  [114, 6]  [None, None]  [17, 39]  [73, 27]  [113, 116]  [115, 0]  [67, 77]  [52, 65]  [3, 28]  [122, 10]  [100, 65]  [98, 23]  [39, 85]  [125, 90]  [112, 54]  [66, 5]  [109, 14]  [62, 116]  [23, 86]  [106, 106]  [61, 57]  [50, 101]  [86, 86]  [88, 85]  [87, 126]  [42, 63]  [15, 55]  [94, 48]  [0, 85]  [41, 14]  [34, 28]  [123, 75]  [32, 46]  [12, 90]  [97, 57]  [90, 28]  [102, 65]  [4, 58]  [116, 20]  [95, 53]  [43, 45]  [47, 119]  [45, 106]  [70, 114]  [56, 111]  [80, 110]  [117, 90]  [69, 91]  [22, 63]  [19, 67]  [72, 109]  [104, 14]  [103, 106]  [40, 112]  [33, 118]  [31, 5]  [9, 108]  [1, 102]  [10, 0]  [79, 116]  [96, 57]  [18, 86]  [63, 63]  [30, 5]  [58, 94]  [114, 121]  [17, 88]  [73, 100]  [113, 11]  [67, 50]  [52, 62]  [3, 99]  [122, 117]  [100, 62]  [98, 104]  [39, 42]  [125, 37]  [112, 73]  [66, 122]  [109, 113]  [62, 11]  [23, 41]  [106, 21]  [61, 70]  [50, 26]  [86, 41]  [88, 42]  [87, 1]  [42, 64]  [15, 72]  [94, 79]  [0, 42]  [41, 113]  [34, 99]  [123, 52]  [32, 81]  [12, 37]  [97, 70]  [90, 99]  [102, 62]  [4, 69]  [116, 107]  [95, 74]  [43, 82]  [47, 8]  [45, 21]  [70, 13]  [56, 16]  [80, 17]  [117, 37]  [69, 36]  [22, 64]  [19, 60]  [72, 18]  [104, 113]  [103, 21]  [40, 15]  [33, 9]  [31, 122]  [9, 19]  [1, 25]  [79, 11]  [96, 70]  [18, 41]  [63, 64]  [30, 122]  ()\n",
        "[3 99]  [104, 14]  [95, 53]  [17, 39]  [10, 0]  [4, 58]  [67, 77]  [3, 28]  [45, 21]  [122, 10]  [2, 0]  [117, 37]  [40, 15]  [9, 19]  [4, 69]  [1, 25]  [42, 64]  [117, 90]  [100, 65]  [90, 28]  [39, 85]  [86, 86]  [125, 90]  [97, 57]  [33, 9]  [98, 23]  [0, 42]  [112, 73]  [32, 81]  [87, 126]  [87, 1]  [95, 74]  [123, 52]  [34, 99]  [15, 72]  [9, 108]  [116, 107]  [72, 18]  [123, 75]  [39, 42]  [97, 70]  [41, 113]  [40, 112]  [56, 111]  [67, 50]  [34, 28]  [104, 113]  [1, 102]  [122, 117]  [42, 63]  [45, 106]  [33, 118]  [90, 99]  [56, 16]  [0, 85]  [100, 62]  [86, 41]  [116, 20]  [98, 104]  [125, 37]  [17, 88]  [112, 54]  [32, 46]  [15, 55]  [72, 109]  [41, 14]  [47, 119]  [30, 5]  [None, None]  [23, 86]  [22, 63]  [113, 11]  [66, 5]  [115, 0]  [52, 62]  [109, 113]  [88, 42]  [23, 41]  [61, 70]  [79, 11]  [52, 65]  [43, 45]  [63, 63]  [73, 27]  [19, 67]  [80, 110]  [31, 5]  [106, 21]  [12, 90]  [94, 79]  [69, 36]  [18, 41]  [103, 106]  [103, 21]  [30, 122]  [70, 13]  [102, 62]  [96, 70]  [88, 85]  [50, 26]  [62, 11]  [70, 114]  [73, 100]  [31, 122]  [114, 121]  [109, 14]  [58, 33]  [22, 64]  [102, 65]  [47, 8]  [61, 57]  [66, 122]  [79, 116]  [113, 116]  [106, 106]  [63, 64]  [58, 94]  [94, 48]  [43, 82]  [19, 60]  [50, 101]  [12, 37]  [80, 17]  [69, 91]  [18, 86]  [96, 57]  [62, 116]  [114, 6]  ()\n",
        "[4 69]  [113, 116]  [69, 36]  [73, 27]  [4, 58]  [3, 28]  [87, 126]  [23, 86]  [0, 42]  [43, 82]  [39, 85]  [109, 14]  [18, 41]  [56, 16]  [10, 0]  [50, 101]  [80, 17]  [86, 41]  [15, 72]  [90, 99]  [17, 39]  [117, 37]  [31, 122]  [41, 113]  [66, 122]  [104, 14]  [98, 23]  [30, 5]  [109, 113]  [88, 85]  [67, 50]  [50, 26]  [62, 116]  [102, 62]  [106, 106]  [103, 106]  [30, 122]  [62, 11]  [123, 52]  [2, 0]  [80, 110]  [79, 116]  [52, 62]  [9, 108]  [56, 111]  [63, 64]  [98, 104]  [112, 73]  [106, 21]  [114, 121]  [47, 119]  [96, 70]  [102, 65]  [67, 77]  [45, 106]  [66, 5]  [18, 86]  [61, 70]  [0, 85]  [79, 11]  [39, 42]  [1, 25]"
       ]
      },
      {
       "output_type": "stream",
       "stream": "stdout",
       "text": [
        "  [19, 60]  [100, 62]  [70, 13]  [97, 70]  [12, 90]  [116, 20]  [23, 41]  [None, None]  [58, 94]  [104, 113]  [33, 118]  [73, 100]  [19, 67]  [117, 90]  [87, 1]  [3, 99]  [69, 91]  [41, 14]  [40, 15]  [122, 117]  [34, 99]  [115, 0]  [32, 81]  [42, 63]  [125, 37]  [15, 55]  [94, 79]  [113, 11]  [61, 57]  [86, 86]  [22, 63]  [9, 19]  [112, 54]  [70, 114]  [90, 28]  [43, 45]  [58, 33]  [1, 102]  [123, 75]  [72, 18]  [17, 88]  [114, 6]  [31, 5]  [32, 46]  [22, 64]  [103, 21]  [34, 28]  [45, 21]  [116, 107]  [100, 65]  [125, 90]  [94, 48]  [122, 10]  [63, 63]  [88, 42]  [12, 37]  [96, 57]  [52, 65]  [95, 53]  [47, 8]  [97, 57]  [95, 74]  [40, 112]  [33, 9]  [72, 109]  [42, 64]  ()\n",
        "[9 19]  [43, 82]  [62, 116]  [113, 116]  [67, 77]  [87, 126]  [32, 46]  [88, 85]  [15, 72]  [114, 6]  [98, 23]  [95, 53]  [112, 54]  [117, 37]  [56, 16]  [123, 75]  [63, 63]  [9, 108]  [79, 116]  [79, 11]  [104, 14]  [50, 101]  [102, 65]  [102, 62]  [97, 57]  [122, 10]  [106, 106]  [40, 112]  [67, 50]  [19, 60]  [4, 69]  [117, 90]  [1, 102]  [31, 5]  [125, 90]  [3, 28]  [70, 114]  [69, 91]  [50, 26]  [0, 42]  [33, 118]  [90, 28]  [58, 94]  [4, 58]  [10, 0]  [80, 110]  [39, 42]  [18, 86]  [98, 104]  [43, 45]  [17, 39]  [94, 79]  [41, 14]  [109, 14]  [39, 85]  [47, 119]  [103, 106]  [19, 67]  [2, 0]  [15, 55]  [45, 21]  [62, 11]  [61, 57]  [45, 106]  [30, 5]  [66, 5]  [73, 27]  [52, 62]  [22, 64]  [58, 33]  [None, None]  [17, 88]  [12, 90]  [12, 37]  [88, 42]  [56, 111]  [3, 99]  [103, 21]  [32, 81]  [100, 62]  [30, 122]  [104, 113]  [114, 121]  [94, 48]  [87, 1]  [96, 70]  [106, 21]  [0, 85]  [115, 0]  [73, 100]  [72, 109]  [1, 25]  [23, 86]  [86, 86]  [72, 18]  [116, 20]  [125, 37]  [113, 11]  [52, 65]  [86, 41]  [95, 74]  [61, 70]  [47, 8]  [34, 28]  [122, 117]  [69, 36]  [40, 15]  [18, 41]  [97, 70]  [100, 65]  [70, 13]  [41, 113]  [90, 99]  [96, 57]  [31, 122]  [42, 63]  [23, 41]  [33, 9]  [42, 64]  [116, 107]  [123, 52]  [66, 122]  [34, 99]  [109, 113]  [22, 63]  [80, 17]  [112, 73]  [63, 64]  ()\n",
        "[10 0]  [94, 48]  [61, 57]  [115, 0]  [3, 28]  [23, 86]  [88, 85]  [None, None]  [98, 23]  [96, 57]  [17, 39]  [32, 46]  [86, 86]  [67, 77]  [4, 58]  [95, 53]  [97, 57]  [18, 86]  [106, 106]  [102, 65]  [73, 27]  [109, 14]  [114, 6]  [79, 116]  [100, 65]  [113, 116]  [104, 14]  [116, 20]  [117, 90]  [58, 33]  [56, 111]  [1, 102]  [72, 109]  [90, 28]  [122, 10]  [22, 63]  [112, 54]  [123, 75]  [62, 116]  [39, 85]  [42, 63]  [125, 90]  [19, 67]  [103, 106]  [9, 108]  [63, 63]  [0, 85]  [30, 5]  [15, 55]  [31, 5]  [12, 90]  [43, 45]  [34, 28]  [87, 126]  [47, 119]  [33, 118]  [40, 112]  [69, 91]  [45, 106]  [41, 14]  [2, 0]  [50, 101]  [52, 65]  [66, 5]  [70, 114]  [80, 110]  [94, 79]  [61, 70]  [3, 99]  [23, 41]  [88, 42]  [98, 104]  [96, 70]  [17, 88]  [32, 81]  [86, 41]  [67, 50]  [4, 69]  [95, 74]  [97, 70]  [18, 41]  [106, 21]  [102, 62]  [73, 100]  [109, 113]  [114, 121]  [79, 11]  [100, 62]  [113, 11]  [104, 113]  [116, 107]  [117, 37]  [58, 94]  [56, 16]  [1, 25]  [72, 18]  [90, 99]  [122, 117]  [22, 64]  [112, 73]  [123, 52]  [62, 11]  [39, 42]  [42, 64]  [125, 37]  [19, 60]  [103, 21]  [9, 19]  [63, 64]  [0, 42]  [30, 122]  [15, 72]  [31, 122]  [12, 37]  [43, 82]  [34, 99]  [87, 1]  [47, 8]  [33, 9]  [40, 15]  [69, 36]  [45, 21]  [41, 113]  [50, 26]  [52, 62]  [66, 122]  [70, 13]  [80, 17]  ()\n",
        "[12 37]  [109, 14]  [90, 28]  [67, 77]  [45, 21]  [0, 42]  [15, 72]  [98, 23]  [18, 41]  [95, 53]  [9, 19]  [41, 113]  [42, 64]  [66, 122]  [47, 8]  [34, 99]  [72, 109]  [98, 104]  [112, 54]  [69, 91]  [56, 16]  [97, 57]  [123, 75]  [70, 114]  [116, 107]  [117, 37]  [86, 86]  [100, 62]  [113, 11]  [106, 106]  [73, 100]  [122, 117]  [125, 37]  [116, 20]  [1, 25]  [2, 0]  [34, 28]  [42, 63]  [31, 5]  [103, 21]  [86, 41]  [72, 18]  [47, 119]  [39, 42]  [17, 88]  [1, 102]  [23, 41]  [15, 55]  [88, 42]  [40, 112]  [10, 0]  [103, 106]  [95, 74]  [100, 65]  [4, 69]  [56, 111]  [0, 85]  [33, 118]  [3, 99]  [32, 81]  [22, 64]  [63, 63]  [125, 90]  [67, 50]  [41, 14]  [117, 90]  [4, 58]  [66, 5]  [113, 116]  [104, 14]  [17, 39]  [None, None]  [9, 108]  [88, 85]  [12, 90]  [104, 113]  [115, 0]  [94, 48]  [96, 70]  [109, 113]  [114, 6]  [58, 94]  [30, 5]  [87, 126]  [94, 79]  [18, 86]  [19, 67]  [87, 1]  [3, 28]  [23, 86]  [90, 99]  [80, 17]  [39, 85]  [33, 9]  [63, 64]  [97, 70]  [61, 70]  [22, 63]  [122, 10]  [106, 21]  [114, 121]  [80, 110]  [58, 33]  [123, 52]  [52, 62]  [79, 116]  [43, 82]  [96, 57]  [50, 26]  [40, 15]  [102, 65]  [30, 122]  [62, 11]  [32, 46]  [50, 101]  [112, 73]  [73, 27]  [19, 60]  [69, 36]  [31, 122]  [102, 62]  [52, 65]  [70, 13]  [43, 45]  [45, 106]  [61, 57]  [79, 11]  [62, 116]  ()\n",
        "[15 72]  [116, 107]  [97, 70]  [52, 65]  [122, 10]  [43, 82]  [114, 6]  [96, 57]  [95, 53]  [70, 13]  [32, 46]  [102, 65]  [102, 62]  [125, 90]  [106, 106]  [79, 11]  [61, 70]  [17, 39]  [123, 52]  [86, 41]  [19, 60]  [90, 99]  [112, 73]  [95, 74]  [62, 11]  [61, 57]  [69, 36]  [94, 79]  [2, 0]  [42, 64]  [0, 42]  [45, 106]  [66, 5]  [109, 113]  [62, 116]  [113, 116]  [114, 121]  [106, 21]  [100, 62]  [109, 14]  [58, 94]  [50, 26]  [73, 100]  [104, 14]  [98, 23]  [52, 62]  [56, 16]  [12, 90]  [10, 0]  [87, 1]  [88, 85]  [23, 41]  [18, 86]  [31, 122]  [87, 126]  [23, 86]  [73, 27]  [104, 113]  [67, 77]  [9, 108]  [117, 37]  [125, 37]  [63, 64]  [3, 28]  [96, 70]  [22, 63]  [58, 33]  [113, 11]  [66, 122]  [33, 9]  [12, 37]  [9, 19]  [None, None]  [18, 41]  [17, 88]  [39, 85]  [45, 21]  [100, 65]  [98, 104]  [103, 106]  [34, 99]  [4, 69]  [32, 81]  [40, 15]  [39, 42]  [88, 42]  [56, 111]  [4, 58]  [22, 64]  [103, 21]  [80, 110]  [90, 28]  [94, 48]  [79, 116]  [31, 5]  [43, 45]  [117, 90]  [3, 99]  [80, 17]  [47, 119]  [15, 55]  [122, 117]  [86, 86]  [30, 5]  [67, 50]  [34, 28]  [97, 57]  [41, 113]  [40, 112]  [50, 101]  [42, 63]  [123, 75]  [1, 102]  [30, 122]  [72, 109]  [19, 67]  [47, 8]  [112, 54]  [70, 114]  [63, 63]  [41, 14]  [1, 25]  [69, 91]  [0, 85]  [115, 0]  [72, 18]  [33, 118]  [116, 20]  ()\n",
        "[17 88]  [87, 126]  [125, 90]  [3, 28]  [2, 0]  [39, 85]  [98, 23]  [17, 39]  [9, 19]  [32, 46]  [10, 0]  [15, 72]  [33, 9]  [45, 21]  [39, 42]  [41, 113]  [116, 107]  [15, 55]  [86, 86]  [123, 75]  [4, 58]  [100, 65]  [95, 53]  [112, 54]  [40, 15]  [67, 77]  [56, 16]  [97, 70]  [122, 117]  [104, 14]  [104, 113]  [125, 37]  [90, 99]  [72, 18]  [117, 37]  [45, 106]  [42, 64]  [34, 99]  [90, 28]  [4, 69]  [112, 73]  [1, 25]  [33, 118]  [0, 85]  [98, 104]  [72, 109]  [87, 1]  [41, 14]  [32, 81]  [116, 20]  [9, 108]  [40, 112]  [123, 52]  [0, 42]  [56, 111]  [86, 41]  [100, 62]  [42, 63]  [67, 50]  [95, 74]  [3, 99]  [97, 57]  [122, 10]  [117, 90]  [34, 28]  [1, 102]  [103, 106]  [80, 110]  [115, 0]  [73, 27]  [12, 90]  [88, 42]  [18, 86]  [None, None]  [96, 70]  [106, 21]  [113, 11]  [73, 100]  [114, 121]  [50, 26]  [96, 57]  [19, 67]  [70, 114]  [23, 86]  [43, 45]  [30, 5]  [69, 91]  [109, 113]  [22, 63]  [58, 94]  [31, 122]  [66, 122]  [47, 119]  [47, 8]  [80, 17]  [63, 64]  [62, 11]  [52, 62]  [113, 116]  [79, 11]  [102, 62]  [63, 63]  [23, 41]  [69, 36]  [61, 70]  [106, 106]  [94, 48]  [12, 37]  [62, 116]  [103, 21]  [114, 6]  [18, 41]  [50, 101]  [88, 85]  [109, 14]  [70, 13]  [94, 79]  [58, 33]  [19, 60]  [43, 82]  [79, 116]  [22, 64]  [30, 122]  [31, 5]  [66, 5]  [52, 65]  [102, 65]  [61, 57]  ()\n",
        "[18 41]  [31, 122]  [50, 26]  [122, 10]  [117, 37]  [109, 14]  [95, 53]  [32, 46]  [41, 113]  [102, 65]  [15, 72]  [123, 75]  [70, 114]  [1, 25]  [86, 86]  [69, 91]  [80, 110]  [10, 0]  [102, 62]  [106, 21]  [106, 106]  [62, 11]  [79, 11]  [114, 121]  [63, 63]  [125, 90]  [79, 116]  [103, 106]  [3, 99]  [69, 36]  [103, 21]  [67, 50]  [117, 90]  [43, 45]  [90, 28]  [67, 77]  [30, 5]  [19, 67]  [109, 113]  [100, 65]  [47, 119]  [31, 5]  [23, 86]  [56, 16]  [9, 19]  [66, 5]  [47, 8]  [9, 108]  [17, 88]  [94, 79]  [98, 23]  [73, 27]  [15, 55]  [50, 101]  [0, 42]  [39, 85]  [4, 58]  [58, 94]  [45, 21]  [98, 104]  [66, 122]  [61, 70]  [62, 116]  [2, 0]  [18, 86]  [45, 106]  [104, 14]  [22, 63]  [52, 65]  [19, 60]  [88, 85]  [12, 37]  [17, 39]  [96, 57]  [None, None]  [4, 69]  [22, 64]  [40, 15]  [88, 42]  [0, 85]  [70, 13]  [73, 100]  [96, 70]  [43, 82]  [23, 41]  [12, 90]  [104, 113]  [39, 42]  [113, 116]  [94, 48]  [1, 102]  [72, 18]  [87, 126]  [112, 54]  [116, 20]  [40, 112]  [122, 117]  [115, 0]  [61, 57]  [56, 111]  [32, 81]  [52, 62]  [33, 9]  [41, 14]  [113, 11]  [123, 52]  [116, 107]  [30, 122]  [100, 62]  [97, 57]  [112, 73]  [34, 99]  [125, 37]  [114, 6]  [90, 99]  [33, 118]  [58, 33]  [42, 64]  [34, 28]  [72, 109]  [95, 74]  [80, 17]  [42, 63]  [87, 1]  [3, 28]  [63, 64]  [86, 41]  [97, 70]  ()\n",
        "[19 60]  [41, 113]  [61, 70]  [100, 65]  [40, 15]  [18, 41]  [112, 54]  [86, 86]  [42, 64]  [102, 62]  [33, 9]  [70, 114]  [62, 116]  [116, 107]  [52, 65]  [30, 5]  [79, 11]  [23, 41]  [63, 64]  [96, 70]  [66, 122]  [70, 13]  [114, 121]  [97, 70]  [102, 65]  [97, 57]  [80, 17]  [67, 50]  [23, 86]  [1, 25]  [88, 85]  [58, 94]  [19, 67]  [66, 5]  [63, 63]  [103, 21]  [50, 26]  [18, 86]  [52, 62]  [96, 57]  [98, 104]  [80, 110]  [10, 0]  [22, 64]  [58, 33]  [106, 21]  [113, 116]  [87, 1]  [73, 27]  [45, 106]  [47, 8]  [2, 0]  [43, 45]  [30, 122]  [12, 37]  [17, 88]  [3, 99]  [9, 108]  [94, 48]  [94, 79]  [43, 82]  [112, 73]  [62, 11]  [73, 100]  [109, 113]  [104, 113]  [45, 21]  [56, 111]  [109, 14]  [117, 37]  [56, 16]  [104, 14]  [39, 42]  [106, 106]  [4, 58]  [None, None]  [87, 126]  [32, 46]  [103, 106]  [113, 11]  [123, 52]  [17, 39]  [100, 62]  [15, 72]  [3, 28]  [0, 85]  [12, 90]  [115, 0]  [0, 42]  [98, 23]  [69, 91]  [72, 109]  [9, 19]  [61, 57]  [1, 102]  [117, 90]  [33, 118]  [39, 85]  [50, 101]  [88, 42]  [40, 112]  [86, 41]  [122, 10]  [31, 5]  [47, 119]  [72, 18]  [95, 53]  [69, 36]  "
       ]
      },
      {
       "output_type": "stream",
       "stream": "stdout",
       "text": [
        "[122, 117]  [114, 6]  [95, 74]  [34, 28]  [42, 63]  [79, 116]  [34, 99]  [15, 55]  [67, 77]  [125, 90]  [90, 28]  [123, 75]  [116, 20]  [31, 122]  [41, 14]  [22, 63]  [4, 69]  [90, 99]  [32, 81]  [125, 37]  ()\n",
        "[22 64]  [106, 106]  [123, 75]  [98, 23]  [9, 19]  [56, 16]  [117, 37]  [67, 77]  [66, 122]  [125, 90]  [45, 21]  [1, 25]  [116, 107]  [18, 41]  [103, 21]  [72, 18]  [34, 28]  [67, 50]  [97, 57]  [31, 5]  [0, 42]  [112, 54]  [90, 28]  [63, 63]  [42, 64]  [15, 72]  [100, 65]  [86, 41]  [88, 42]  [109, 14]  [23, 41]  [32, 81]  [95, 74]  [42, 63]  [41, 113]  [10, 0]  [72, 109]  [116, 20]  [69, 91]  [47, 8]  [100, 62]  [34, 99]  [103, 106]  [4, 69]  [3, 99]  [41, 14]  [73, 100]  [117, 90]  [113, 11]  [33, 118]  [2, 0]  [47, 119]  [125, 37]  [86, 86]  [39, 42]  [0, 85]  [56, 111]  [40, 112]  [17, 88]  [122, 117]  [12, 37]  [70, 114]  [95, 53]  [98, 104]  [1, 102]  [15, 55]  [39, 85]  [18, 86]  [88, 85]  [87, 126]  [3, 28]  [115, 0]  [45, 106]  [113, 116]  [22, 63]  [87, 1]  [None, None]  [58, 33]  [52, 62]  [106, 21]  [61, 57]  [94, 79]  [80, 110]  [104, 14]  [58, 94]  [66, 5]  [43, 45]  [104, 113]  [17, 39]  [73, 27]  [123, 52]  [30, 122]  [4, 58]  [40, 15]  [70, 13]  [112, 73]  [114, 121]  [12, 90]  [32, 46]  [109, 113]  [61, 70]  [30, 5]  [94, 48]  [90, 99]  [96, 70]  [50, 101]  [19, 60]  [52, 65]  [79, 11]  [33, 9]  [62, 116]  [80, 17]  [102, 62]  [122, 10]  [79, 116]  [97, 70]  [23, 86]  [43, 82]  [31, 122]  [69, 36]  [62, 11]  [96, 57]  [63, 64]  [19, 67]  [9, 108]  [114, 6]  [50, 26]  [102, 65]  ()\n",
        "[23 41]  [98, 23]  [50, 101]  [39, 85]  [4, 69]  [10, 0]  [56, 16]  [4, 58]  [47, 8]  [106, 106]  [39, 42]  [86, 86]  [52, 65]  [103, 21]  [3, 99]  [112, 54]  [114, 6]  [109, 113]  [66, 122]  [102, 62]  [2, 0]  [18, 41]  [79, 116]  [80, 17]  [96, 57]  [0, 42]  [45, 21]  [1, 102]  [19, 67]  [67, 77]  [88, 42]  [69, 91]  [123, 75]  [63, 63]  [100, 65]  [56, 111]  [61, 57]  [70, 114]  [62, 11]  [17, 88]  [41, 14]  [97, 57]  [18, 86]  [67, 50]  [87, 1]  [102, 65]  [113, 11]  [50, 26]  [43, 45]  [80, 110]  [0, 85]  [66, 5]  [90, 28]  [9, 19]  [98, 104]  [15, 55]  [117, 90]  [30, 5]  [104, 113]  [31, 5]  [73, 100]  [30, 122]  [109, 14]  [106, 21]  [62, 116]  [79, 11]  [45, 106]  [112, 73]  [23, 86]  [3, 28]  [103, 106]  [94, 79]  [100, 62]  [73, 27]  [40, 112]  [32, 81]  [58, 94]  [None, None]  [116, 20]  [125, 37]  [19, 60]  [96, 70]  [63, 64]  [17, 39]  [52, 62]  [97, 70]  [114, 121]  [122, 117]  [47, 119]  [12, 90]  [95, 53]  [40, 15]  [9, 108]  [22, 64]  [116, 107]  [72, 109]  [34, 99]  [33, 118]  [87, 126]  [95, 74]  [72, 18]  [70, 13]  [115, 0]  [125, 90]  [42, 63]  [117, 37]  [88, 85]  [58, 33]  [90, 99]  [12, 37]  [69, 36]  [33, 9]  [41, 113]  [104, 14]  [15, 72]  [34, 28]  [22, 63]  [113, 116]  [122, 10]  [32, 46]  [1, 25]  [94, 48]  [42, 64]  [61, 70]  [86, 41]  [43, 82]  [123, 52]  [31, 122]  ()\n",
        "[30 122]  [90, 99]  [109, 113]  [125, 90]  [1, 25]  [50, 101]  [123, 75]  [95, 53]  [34, 99]  [79, 11]  [41, 113]  [69, 91]  [30, 5]  [72, 18]  [112, 54]  [19, 67]  [66, 5]  [9, 19]  [114, 121]  [104, 113]  [79, 116]  [61, 70]  [106, 21]  [96, 70]  [80, 110]  [90, 28]  [102, 62]  [4, 58]  [22, 64]  [123, 52]  [40, 15]  [3, 99]  [67, 50]  [94, 79]  [31, 5]  [117, 37]  [18, 86]  [58, 94]  [87, 1]  [97, 57]  [39, 85]  [43, 45]  [87, 126]  [86, 86]  [18, 41]  [45, 106]  [33, 9]  [10, 0]  [12, 37]  [73, 27]  [15, 72]  [104, 14]  [98, 104]  [62, 11]  [100, 65]  [0, 42]  [56, 16]  [23, 86]  [66, 122]  [17, 88]  [80, 17]  [52, 62]  [50, 26]  [45, 21]  [9, 108]  [2, 0]  [106, 106]  [3, 28]  [61, 57]  [69, 36]  [32, 46]  [96, 57]  [98, 23]  [114, 6]  [88, 85]  [103, 21]  [52, 65]  [116, 107]  [None, None]  [39, 42]  [112, 73]  [94, 48]  [12, 90]  [31, 122]  [58, 33]  [17, 39]  [73, 100]  [47, 8]  [122, 10]  [43, 82]  [117, 90]  [116, 20]  [109, 14]  [70, 114]  [40, 112]  [103, 106]  [113, 11]  [113, 116]  [62, 116]  [4, 69]  [88, 42]  [22, 63]  [42, 64]  [15, 55]  [115, 0]  [95, 74]  [72, 109]  [70, 13]  [0, 85]  [63, 63]  [86, 41]  [42, 63]  [122, 117]  [102, 65]  [125, 37]  [47, 119]  [19, 60]  [34, 28]  [41, 14]  [1, 102]  [32, 81]  [63, 64]  [33, 118]  [23, 41]  [67, 77]  [97, 70]  [56, 111]  [100, 62]  ()\n",
        "[31 122]  [72, 18]  [96, 70]  [112, 54]  [42, 64]  [80, 17]  [63, 63]  [97, 57]  [72, 109]  [61, 70]  [116, 107]  [80, 110]  [79, 11]  [34, 28]  [114, 6]  [66, 5]  [109, 113]  [94, 48]  [112, 73]  [22, 63]  [30, 122]  [97, 70]  [52, 62]  [86, 41]  [50, 26]  [70, 114]  [70, 13]  [17, 88]  [104, 14]  [34, 99]  [122, 10]  [73, 27]  [94, 79]  [9, 108]  [30, 5]  [33, 9]  [106, 21]  [45, 106]  [12, 90]  [61, 57]  [3, 99]  [18, 86]  [45, 21]  [96, 57]  [43, 82]  [87, 1]  [32, 46]  [73, 100]  [87, 126]  [10, 0]  [40, 15]  [9, 19]  [58, 94]  [63, 64]  [52, 65]  [22, 64]  [12, 37]  [2, 0]  [19, 60]  [23, 86]  [69, 36]  [100, 62]  [114, 121]  [58, 33]  [104, 113]  [23, 41]  [18, 41]  [39, 42]  [79, 116]  [41, 113]  [100, 65]  [109, 14]  [103, 21]  [50, 101]  [0, 42]  [113, 116]  [106, 106]  [125, 90]  [39, 85]  [None, None]  [125, 37]  [67, 77]  [56, 111]  [1, 25]  [98, 23]  [4, 69]  [3, 28]  [88, 85]  [86, 86]  [117, 37]  [43, 45]  [41, 14]  [66, 122]  [102, 65]  [15, 55]  [98, 104]  [103, 106]  [56, 16]  [102, 62]  [115, 0]  [47, 119]  [0, 85]  [95, 53]  [19, 67]  [4, 58]  [42, 63]  [90, 28]  [90, 99]  [88, 42]  [62, 116]  [122, 117]  [1, 102]  [40, 112]  [62, 11]  [116, 20]  [67, 50]  [15, 72]  [123, 75]  [69, 91]  [31, 5]  [33, 118]  [123, 52]  [117, 90]  [17, 39]  [47, 8]  [95, 74]  [113, 11]  [32, 81]  ()\n",
        "[32 81]  [47, 119]  [67, 77]  [66, 5]  [117, 90]  [86, 41]  [9, 108]  [18, 86]  [98, 104]  [17, 39]  [15, 55]  [10, 0]  [23, 41]  [67, 50]  [109, 113]  [9, 19]  [94, 48]  [123, 52]  [39, 42]  [15, 72]  [100, 62]  [4, 69]  [98, 23]  [47, 8]  [73, 100]  [45, 106]  [0, 85]  [61, 57]  [62, 11]  [103, 106]  [69, 91]  [50, 101]  [109, 14]  [66, 122]  [2, 0]  [1, 102]  [58, 33]  [18, 41]  [117, 37]  [106, 21]  [114, 6]  [45, 21]  [70, 13]  [50, 26]  [95, 74]  [43, 82]  [31, 5]  [69, 36]  [102, 62]  [80, 17]  [41, 14]  [63, 64]  [106, 106]  [56, 111]  [79, 11]  [102, 65]  [62, 116]  [30, 122]  [125, 37]  [79, 116]  [122, 117]  [103, 21]  [3, 28]  [90, 99]  [19, 60]  [31, 122]  [97, 70]  [116, 107]  [52, 62]  [40, 112]  [30, 5]  [114, 121]  [34, 28]  [96, 70]  [70, 114]  [123, 75]  [61, 70]  [19, 67]  [112, 54]  [125, 90]  [None, None]  [34, 99]  [33, 9]  [33, 118]  [72, 18]  [42, 64]  [41, 113]  [90, 28]  [80, 110]  [42, 63]  [87, 126]  [3, 99]  [112, 73]  [87, 1]  [22, 64]  [52, 65]  [100, 65]  [63, 63]  [22, 63]  [95, 53]  [86, 86]  [40, 15]  [43, 45]  [104, 14]  [97, 57]  [4, 58]  [58, 94]  [88, 42]  [122, 10]  [104, 113]  [88, 85]  [17, 88]  [0, 42]  [12, 90]  [39, 85]  [96, 57]  [116, 20]  [94, 79]  [73, 27]  [23, 86]  [56, 16]  [113, 11]  [12, 37]  [1, 25]  [72, 109]  [115, 0]  [32, 46]  [113, 116]  ()\n",
        "[33 9]  [95, 53]  [125, 37]  [109, 14]  [100, 65]  [15, 72]  [79, 116]  [106, 106]  [112, 54]  [123, 52]  [86, 86]  [102, 62]  [63, 64]  [97, 57]  [66, 122]  [114, 121]  [112, 73]  [39, 42]  [72, 18]  [32, 81]  [117, 37]  [34, 99]  [95, 74]  [116, 20]  [70, 13]  [50, 101]  [1, 25]  [45, 106]  [73, 100]  [125, 90]  [12, 37]  [104, 113]  [106, 21]  [52, 62]  [62, 11]  [0, 42]  [97, 70]  [96, 70]  [122, 117]  [18, 41]  [9, 108]  [61, 70]  [17, 39]  [45, 21]  [47, 8]  [86, 41]  [22, 64]  [0, 85]  [23, 41]  [22, 63]  [56, 16]  [3, 28]  [109, 113]  [41, 113]  [9, 19]  [10, 0]  [2, 0]  [12, 90]  [103, 21]  [87, 1]  [40, 15]  [42, 63]  [90, 99]  [4, 69]  [100, 62]  [56, 111]  [67, 77]  [47, 119]  [43, 82]  [122, 10]  [104, 14]  [58, 33]  [4, 58]  [19, 60]  [73, 27]  [17, 88]  [94, 48]  [96, 57]  [94, 79]  [67, 50]  [34, 28]  [None, None]  [40, 112]  [32, 46]  [115, 0]  [103, 106]  [88, 42]  [3, 99]  [87, 126]  [88, 85]  [79, 11]  [63, 63]  [98, 23]  [80, 17]  [80, 110]  [66, 5]  [19, 67]  [23, 86]  [31, 122]  [98, 104]  [43, 45]  [33, 118]  [52, 65]  [50, 26]  [58, 94]  [90, 28]  [114, 6]  [42, 64]  [117, 90]  [30, 122]  [41, 14]  [70, 114]  [69, 91]  [69, 36]  [123, 75]  [18, 86]  [113, 116]  [61, 57]  [62, 116]  [102, 65]  [31, 5]  [116, 107]  [30, 5]  [113, 11]  [39, 85]  [72, 109]  [15, 55]  [1, 102]  ()\n",
        "[34 99]  [1, 102]  [0, 85]  [62, 116]  [90, 28]  [90, 99]  [79, 11]  [102, 65]  [69, 91]  [86, 41]  [123, 75]  [106, 21]  [96, 70]  [31, 5]  [102, 62]  [104, 113]  [22, 63]  [15, 72]  [32, 81]  [4, 69]  [123, 52]  [122, 117]  [56, 111]  [88, 42]  [52, 62]  [50, 26]  [95, 74]  [104, 14]  [66, 122]  [41, 14]  [97, 57]  [45, 21]  [2, 0]  [23, 41]  [109, 113]  [125, 90]  [12, 90]  [73, 100]  [39, 42]  [62, 11]  [87, 126]  [87, 1]  [43, 82]  [79, 116]  [41, 113]  [3, 28]  [112, 54]  [98, 23]  [18, 41]  [58, 33]  [95, 53]  [19, 60]  [10, 0]  [125, 37]  [50, 101]  [109, 14]  [106, 106]  [94, 48]  [1, 25]  [9, 19]  [72, 18]  [113, 11]  [100, 62]  [117, 37]  [17, 39]  [67, 77]  [69, 36]  [113, 116]  [63, 64]  [34, 28]  [114, 6]  [30, 122]  [32, 46]  [70, 13]  [96, 57]  [100, 65]  [80, 17]  [63, 63]  [12, 37]  [56, 16]  [33, 118]  [40, 15] "
       ]
      },
      {
       "output_type": "stream",
       "stream": "stdout",
       "text": [
        " [None, None]  [72, 109]  [33, 9]  [88, 85]  [103, 21]  [86, 86]  [61, 57]  [116, 107]  [45, 106]  [43, 45]  [31, 122]  [114, 121]  [94, 79]  [73, 27]  [3, 99]  [52, 65]  [97, 70]  [0, 42]  [17, 88]  [115, 0]  [70, 114]  [9, 108]  [22, 64]  [15, 55]  [80, 110]  [42, 63]  [4, 58]  [61, 70]  [47, 119]  [19, 67]  [67, 50]  [112, 73]  [117, 90]  [23, 86]  [42, 64]  [30, 5]  [18, 86]  [66, 5]  [98, 104]  [116, 20]  [58, 94]  [47, 8]  [122, 10]  [40, 112]  [39, 85]  [103, 106]  ()\n",
        "[39 42]  [88, 85]  [31, 122]  [23, 86]  [39, 85]  [17, 39]  [104, 14]  [73, 27]  [56, 16]  [19, 60]  [4, 58]  [106, 106]  [66, 122]  [0, 42]  [2, 0]  [79, 116]  [30, 122]  [100, 62]  [117, 37]  [123, 52]  [3, 28]  [15, 72]  [69, 36]  [1, 25]  [18, 41]  [87, 126]  [67, 77]  [80, 110]  [106, 21]  [113, 116]  [98, 104]  [79, 11]  [102, 65]  [62, 11]  [109, 14]  [47, 119]  [80, 17]  [102, 62]  [90, 99]  [10, 0]  [30, 5]  [50, 101]  [96, 70]  [45, 106]  [0, 85]  [70, 13]  [67, 50]  [97, 70]  [109, 113]  [61, 70]  [103, 106]  [52, 62]  [62, 116]  [98, 23]  [9, 108]  [18, 86]  [66, 5]  [114, 121]  [56, 111]  [50, 26]  [4, 69]  [41, 113]  [43, 82]  [86, 41]  [63, 64]  [112, 73]  [22, 63]  [42, 63]  [73, 100]  [115, 0]  [94, 79]  [87, 1]  [40, 112]  [23, 41]  [43, 45]  [15, 55]  [104, 113]  [17, 88]  [31, 5]  [1, 102]  [33, 9]  [32, 81]  [72, 18]  [None, None]  [122, 117]  [116, 20]  [95, 74]  [117, 90]  [58, 94]  [88, 42]  [114, 6]  [100, 65]  [12, 90]  [45, 21]  [97, 57]  [63, 63]  [123, 75]  [19, 67]  [94, 48]  [41, 14]  [90, 28]  [34, 99]  [3, 99]  [61, 57]  [69, 91]  [122, 10]  [12, 37]  [47, 8]  [72, 109]  [9, 19]  [42, 64]  [86, 86]  [95, 53]  [58, 33]  [32, 46]  [70, 114]  [113, 11]  [22, 64]  [52, 65]  [96, 57]  [125, 90]  [103, 21]  [112, 54]  [125, 37]  [33, 118]  [40, 15]  [34, 28]  [116, 107]  ()\n",
        "[40 15]  [125, 90]  [95, 74]  [106, 106]  [86, 86]  [117, 37]  [50, 101]  [109, 14]  [97, 57]  [90, 99]  [100, 65]  [62, 11]  [70, 13]  [112, 54]  [18, 41]  [61, 70]  [97, 70]  [4, 69]  [34, 99]  [122, 117]  [15, 72]  [72, 18]  [125, 37]  [42, 63]  [63, 64]  [79, 116]  [41, 113]  [9, 108]  [23, 41]  [95, 53]  [22, 64]  [87, 1]  [109, 113]  [96, 70]  [102, 62]  [56, 16]  [112, 73]  [52, 62]  [32, 81]  [66, 122]  [45, 106]  [114, 121]  [3, 28]  [9, 19]  [103, 21]  [100, 62]  [12, 37]  [56, 111]  [73, 100]  [12, 90]  [0, 42]  [17, 39]  [106, 21]  [1, 25]  [45, 21]  [2, 0]  [10, 0]  [22, 63]  [47, 8]  [104, 113]  [33, 9]  [116, 20]  [123, 52]  [39, 42]  [86, 41]  [0, 85]  [98, 23]  [103, 106]  [19, 60]  [32, 46]  [87, 126]  [94, 48]  [39, 85]  [43, 82]  [23, 86]  [3, 99]  [58, 33]  [52, 65]  [58, 94]  [98, 104]  [72, 109]  [115, 0]  [33, 118]  [122, 10]  [None, None]  [47, 119]  [113, 11]  [17, 88]  [104, 14]  [113, 116]  [50, 26]  [70, 114]  [67, 77]  [30, 122]  [30, 5]  [18, 86]  [43, 45]  [73, 27]  [69, 36]  [67, 50]  [19, 67]  [40, 112]  [96, 57]  [79, 11]  [94, 79]  [123, 75]  [61, 57]  [116, 107]  [15, 55]  [80, 17]  [1, 102]  [63, 63]  [31, 5]  [31, 122]  [90, 28]  [66, 5]  [88, 85]  [114, 6]  [102, 65]  [62, 116]  [69, 91]  [42, 64]  [80, 110]  [88, 42]  [4, 58]  [34, 28]  [117, 90]  [41, 14]  ()\n",
        "[41 113]  [72, 109]  [100, 62]  [61, 57]  [125, 90]  [31, 122]  [102, 65]  [114, 6]  [123, 75]  [112, 73]  [95, 53]  [79, 11]  [114, 121]  [90, 28]  [79, 116]  [106, 21]  [52, 62]  [98, 23]  [95, 74]  [56, 111]  [69, 36]  [125, 37]  [86, 41]  [32, 81]  [61, 70]  [62, 116]  [123, 52]  [73, 27]  [45, 21]  [34, 28]  [100, 65]  [2, 0]  [45, 106]  [87, 1]  [50, 26]  [122, 10]  [96, 70]  [104, 113]  [0, 85]  [50, 101]  [23, 86]  [109, 113]  [94, 48]  [106, 106]  [15, 72]  [22, 63]  [86, 86]  [17, 39]  [9, 19]  [23, 41]  [32, 46]  [58, 33]  [9, 108]  [90, 99]  [109, 14]  [87, 126]  [104, 14]  [73, 100]  [117, 37]  [10, 0]  [1, 25]  [122, 117]  [97, 70]  [67, 77]  [12, 90]  [3, 28]  [19, 60]  [115, 0]  [80, 17]  [42, 64]  [96, 57]  [18, 41]  [88, 85]  [30, 122]  [12, 37]  [0, 42]  [66, 122]  [97, 57]  [17, 88]  [4, 58]  [42, 63]  [103, 21]  [88, 42]  [116, 107]  [47, 8]  [None, None]  [4, 69]  [56, 16]  [52, 65]  [40, 15]  [66, 5]  [31, 5]  [43, 82]  [102, 62]  [43, 45]  [94, 79]  [67, 50]  [22, 64]  [63, 64]  [39, 85]  [98, 104]  [113, 11]  [112, 54]  [18, 86]  [3, 99]  [41, 14]  [63, 63]  [34, 99]  [103, 106]  [62, 11]  [33, 118]  [69, 91]  [117, 90]  [70, 13]  [1, 102]  [58, 94]  [33, 9]  [70, 114]  [30, 5]  [80, 110]  [15, 55]  [72, 18]  [19, 67]  [39, 42]  [113, 116]  [116, 20]  [47, 119]  [40, 112]  ()\n",
        "[42 64]  [123, 75]  [122, 117]  [50, 101]  [97, 57]  [41, 113]  [102, 62]  [79, 116]  [70, 114]  [95, 74]  [112, 54]  [114, 121]  [97, 70]  [63, 63]  [80, 17]  [96, 70]  [86, 41]  [47, 8]  [116, 20]  [88, 42]  [1, 25]  [42, 63]  [32, 81]  [40, 112]  [112, 73]  [62, 11]  [72, 18]  [2, 0]  [94, 48]  [90, 28]  [96, 57]  [73, 100]  [104, 113]  [22, 63]  [61, 70]  [100, 65]  [100, 62]  [12, 90]  [113, 11]  [30, 122]  [10, 0]  [52, 62]  [98, 23]  [66, 122]  [33, 9]  [56, 111]  [52, 65]  [39, 42]  [58, 33]  [3, 28]  [86, 86]  [67, 77]  [87, 1]  [34, 99]  [18, 41]  [9, 19]  [45, 21]  [17, 39]  [40, 15]  [23, 41]  [116, 107]  [33, 118]  [125, 37]  [103, 21]  [0, 85]  [4, 69]  [117, 37]  [39, 85]  [31, 122]  [125, 90]  [106, 106]  [19, 60]  [56, 16]  [69, 36]  [104, 14]  [12, 37]  [43, 82]  [114, 6]  [73, 27]  [3, 99]  [41, 14]  [88, 85]  [103, 106]  [95, 53]  [113, 116]  [4, 58]  [None, None]  [22, 64]  [109, 14]  [32, 46]  [106, 21]  [80, 110]  [15, 72]  [63, 64]  [66, 5]  [45, 106]  [58, 94]  [87, 126]  [90, 99]  [17, 88]  [94, 79]  [47, 119]  [61, 57]  [109, 113]  [23, 86]  [31, 5]  [102, 65]  [34, 28]  [67, 50]  [70, 13]  [15, 55]  [30, 5]  [19, 67]  [123, 52]  [69, 91]  [9, 108]  [122, 10]  [62, 116]  [50, 26]  [79, 11]  [43, 45]  [72, 109]  [18, 86]  [115, 0]  [0, 42]  [1, 102]  [98, 104]  [117, 90]  ()\n",
        "[43 82]  [1, 25]  [114, 121]  [86, 86]  [33, 9]  [66, 122]  [97, 57]  [100, 65]  [116, 107]  [62, 11]  [40, 15]  [63, 63]  [102, 65]  [42, 64]  [96, 57]  [80, 110]  [50, 26]  [73, 100]  [70, 13]  [52, 62]  [18, 41]  [63, 64]  [61, 70]  [112, 73]  [62, 116]  [112, 54]  [30, 122]  [98, 104]  [73, 27]  [41, 113]  [113, 116]  [94, 79]  [43, 45]  [18, 86]  [70, 114]  [47, 8]  [79, 11]  [66, 5]  [96, 70]  [52, 65]  [67, 50]  [30, 5]  [2, 0]  [12, 37]  [94, 48]  [109, 113]  [88, 85]  [104, 113]  [23, 86]  [9, 108]  [103, 21]  [10, 0]  [19, 67]  [80, 17]  [22, 64]  [3, 99]  [17, 88]  [45, 106]  [58, 33]  [58, 94]  [19, 60]  [97, 70]  [102, 62]  [23, 41]  [106, 21]  [87, 1]  [9, 19]  [0, 85]  [106, 106]  [15, 72]  [0, 42]  [87, 126]  [4, 69]  [109, 14]  [39, 85]  [115, 0]  [104, 14]  [122, 10]  [47, 119]  [88, 42]  [90, 99]  [3, 28]  [86, 41]  [117, 37]  [17, 39]  [56, 111]  [22, 63]  [None, None]  [56, 16]  [67, 77]  [31, 5]  [34, 28]  [45, 21]  [114, 6]  [41, 14]  [15, 55]  [40, 112]  [4, 58]  [79, 116]  [113, 11]  [33, 118]  [100, 62]  [32, 46]  [69, 91]  [103, 106]  [34, 99]  [125, 90]  [31, 122]  [32, 81]  [61, 57]  [125, 37]  [72, 109]  [116, 20]  [50, 101]  [72, 18]  [117, 90]  [98, 23]  [95, 53]  [123, 75]  [90, 28]  [42, 63]  [69, 36]  [1, 102]  [12, 90]  [39, 42]  [123, 52]  [122, 117]  [95, 74]  ()\n",
        "[45 21]  [19, 60]  [102, 65]  [88, 85]  [98, 23]  [104, 14]  [122, 10]  [113, 116]  [117, 37]  [61, 57]  [67, 77]  [125, 90]  [97, 57]  [15, 72]  [0, 42]  [90, 28]  [70, 114]  [45, 106]  [50, 101]  [50, 26]  [87, 126]  [79, 116]  [62, 116]  [62, 11]  [112, 54]  [32, 46]  [109, 14]  [33, 118]  [98, 104]  [43, 82]  [39, 42]  [15, 55]  [41, 14]  [69, 91]  [95, 53]  [17, 39]  [63, 63]  [31, 5]  [79, 11]  [56, 16]  [40, 112]  [123, 75]  [94, 79]  [39, 85]  [2, 0]  [30, 5]  [4, 69]  [66, 5]  [67, 50]  [19, 67]  [3, 28]  [58, 94]  [1, 102]  [106, 106]  [4, 58]  [103, 106]  [47, 119]  [43, 45]  [10, 0]  [117, 90]  [9, 19]  [102, 62]  [114, 6]  [9, 108]  [80, 110]  [18, 86]  [23, 86]  [96, 70]  [12, 37]  [94, 48]  [115, 0]  [3, 99]  [22, 63]  [22, 64]  [113, 11]  [0, 85]  [17, 88]  [47, 8]  [122, 117]  [86, 41]  [80, 17]  [87, 1]  [61, 70]  [58, 33]  [104, 113]  [52, 62]  [109, 113]  [56, 111]  [None, None]  [23, 41]  [34, 28]  [41, 113]  [73, 27]  [100, 65]  [34, 99]  [42, 63]  [95, 74]  [88, 42]  [96, 57]  [100, 62]  [125, 37]  [114, 121]  [103, 21]  [72, 109]  [32, 81]  [31, 122]  [33, 9]  [66, 122]  [112, 73]  [86, 86]  [63, 64]  [1, 25]  [123, 52]  [52, 65]  [69, 36]  [116, 20]  [73, 100]  [40, 15]  [116, 107]  [42, 64]  [90, 99]  [18, 41]  [72, 18]  [106, 21]  [12, 90]  [30, 122]  [97, 70]  [70, 13]  ()\n",
        "[47 8]  [32, 46]  [90, 99]  [87, 126]  [0, 42]  [98, 23]  [106, 106]  [104, 14]  [86, 86]  [69, 36]  [56, 16]  [79, 116]  [80, 17]  [100, 65]  [45, 21]  [102, 62]  [70, 13]  [0, 85]  [1, 25]  [95, 74]  [67, 77]  [41, 113]  [123, 52]  [72, 18]  [30, 122]  [109, 14]  [117, 37]  [66, 5]  [104, 113]  [122, 10]  [17, 88]  [106, 21]  [79, 11]  [61, 70]  [50, 101]  [39, 85]  [63, 64]  [114, 121]  [125, 37]  [9, 19]  [18, 86]  [62, 11]  [12, 90]  [2, 0]  [39, 42]  [112, 73]  [3, 99]  [100, 62]  [87, 1]  [52, 62]  [4, 58]  [22, 63]  [50, 26]  [15, 72]  [10, 0]  [9, 108]  [45, 106]  [96, 70]  [4, 69]  [109, 113]  [103, 21]  [34, 99]  [31, 122]  [56, 111]  [97, 70]  [86, 41]  [3, 28]  [33, 118]  [94, 48]  [113, 116]  [73, 27]  [23, 41]  [103, 106]  [58, 33]  [94, 79]  [98, 104]  [73, 100]  [12, 37]  [43, 45]  [117, 90]  [42, 64]  [88, 42]  [116, 20]  [88, 85]  [113, 11]  [40, 112]  [32, 81]  [67, 50]  [23, 86]  [None, None]  [102, 65]  [97, 57]  [17, 39]  [66, 122]  [63, 63]  [80, 110]  [69, 91]  [58, 94]  [43, 82]  [15, 55]  [31, 5]  [42, 63]  [22, 64]  [62, 116]  [19, 67]  [125, 90]  [96, 57]  [33, 9]  [1, 102]  [18, 41]  [34, 28]  [112, 54]  [123, 75]  [19, 60]  [95, 53]  [30, 5]  [115, 0]  [52, 65]  [61, 57]  [114, 6]  [90, 28]  [40, 15]  [70, 114]  [122, 117]  [47, 119]  [116, 107]  [41, 14]  [72, 109]  ()\n",
        "[50 26]  [96, 70]  [23, 86]  [42, 63]  [112, 73]  [30, 5]  [40, 112]  [116, 20]  [100, 62]  [94, 79]  [97, 70]  [103, 106]  [67, 50]  [86, 41]  [1, 102]  [4, 58]  [17, 88]  [61, 57]  [45, 106]  [104, 14]  [80, 110]  [9, 108]  [73, 27]  [2, 0]  [98, 104]  [33, 118]  [66, 5]  [40, 15]  [95, 53]  "
       ]
      },
      {
       "output_type": "stream",
       "stream": "stdout",
       "text": [
        "[52, 62]  [123, 52]  [32, 46]  [88, 85]  [0, 42]  [47, 119]  [70, 13]  [3, 99]  [56, 16]  [87, 126]  [41, 14]  [33, 9]  [39, 85]  [112, 54]  [72, 109]  [62, 116]  [12, 37]  [90, 99]  [52, 65]  [125, 90]  [100, 65]  [63, 64]  [97, 57]  [113, 116]  [18, 86]  [34, 28]  [42, 64]  [116, 107]  [86, 86]  [102, 65]  [122, 10]  [79, 11]  [10, 0]  [58, 94]  [114, 6]  [22, 64]  [96, 57]  [63, 63]  [18, 41]  [69, 91]  [61, 70]  [72, 18]  [90, 28]  [80, 17]  [31, 5]  [1, 25]  [69, 36]  [123, 75]  [95, 74]  [117, 37]  [43, 82]  [87, 1]  [79, 116]  [45, 21]  [114, 121]  [50, 101]  [66, 122]  [106, 106]  [31, 122]  [34, 99]  [102, 62]  [None, None]  [56, 111]  [70, 114]  [117, 90]  [4, 69]  [103, 21]  [98, 23]  [41, 113]  [19, 67]  [19, 60]  [67, 77]  [9, 19]  [125, 37]  [115, 0]  [15, 72]  [22, 63]  [32, 81]  [109, 113]  [94, 48]  [15, 55]  [23, 41]  [0, 85]  [17, 39]  [43, 45]  [12, 90]  [47, 8]  [62, 11]  [122, 117]  [113, 11]  [88, 42]  [3, 28]  [106, 21]  [39, 42]  [109, 14]  [30, 122]  [104, 113]  [58, 33]  [73, 100]  ()\n",
        "[52 62]  [0, 85]  [9, 19]  [15, 55]  [32, 81]  [109, 113]  [67, 50]  [117, 90]  [113, 11]  [2, 0]  [122, 117]  [3, 99]  [23, 86]  [88, 42]  [19, 67]  [22, 64]  [104, 14]  [62, 11]  [73, 100]  [66, 122]  [106, 21]  [23, 41]  [45, 21]  [94, 48]  [73, 27]  [98, 104]  [104, 113]  [95, 53]  [70, 114]  [56, 111]  [116, 20]  [112, 54]  [86, 86]  [96, 57]  [17, 88]  [95, 74]  [87, 126]  [52, 65]  [18, 41]  [43, 45]  [125, 90]  [12, 37]  [62, 116]  [69, 91]  [61, 70]  [106, 106]  [42, 63]  [50, 101]  [63, 63]  [114, 6]  [125, 37]  [102, 65]  [100, 65]  [87, 1]  [31, 5]  [90, 28]  [123, 75]  [61, 57]  [114, 121]  [97, 57]  [96, 70]  [58, 33]  [10, 0]  [102, 62]  [109, 14]  [79, 116]  [79, 11]  [69, 36]  [18, 86]  [86, 41]  [1, 102]  [80, 110]  [90, 99]  [66, 5]  [72, 109]  [72, 18]  [30, 5]  [40, 112]  [116, 107]  [41, 113]  [3, 28]  [63, 64]  [43, 82]  [100, 62]  [70, 13]  [31, 122]  [80, 17]  [34, 99]  [41, 14]  [97, 70]  [56, 16]  [None, None]  [50, 26]  [58, 94]  [88, 85]  [32, 46]  [33, 9]  [34, 28]  [9, 108]  [1, 25]  [40, 15]  [19, 60]  [33, 118]  [0, 42]  [42, 64]  [4, 69]  [103, 106]  [22, 63]  [15, 72]  [94, 79]  [67, 77]  [115, 0]  [47, 8]  [45, 106]  [39, 42]  [122, 10]  [112, 73]  [47, 119]  [39, 85]  [4, 58]  [103, 21]  [12, 90]  [113, 116]  [30, 122]  [123, 52]  [17, 39]  [117, 37]  [98, 23]  ()\n",
        "[56 16]  [96, 57]  [72, 109]  [94, 48]  [87, 126]  [88, 85]  [19, 60]  [58, 33]  [106, 106]  [42, 64]  [104, 14]  [69, 36]  [1, 25]  [109, 14]  [67, 77]  [123, 52]  [34, 99]  [103, 106]  [125, 90]  [41, 14]  [113, 116]  [95, 53]  [34, 28]  [90, 28]  [41, 113]  [43, 82]  [122, 10]  [52, 62]  [56, 111]  [52, 65]  [10, 0]  [86, 41]  [112, 73]  [125, 37]  [31, 122]  [23, 86]  [72, 18]  [95, 74]  [1, 102]  [98, 23]  [96, 70]  [90, 99]  [88, 42]  [3, 28]  [4, 58]  [42, 63]  [2, 0]  [40, 112]  [0, 85]  [122, 117]  [73, 27]  [113, 11]  [97, 70]  [32, 46]  [17, 39]  [12, 90]  [22, 63]  [32, 81]  [39, 85]  [100, 62]  [0, 42]  [123, 75]  [116, 107]  [47, 119]  [116, 20]  [33, 118]  [115, 0]  [19, 67]  [103, 21]  [22, 64]  [23, 41]  [39, 42]  [94, 79]  [47, 8]  [87, 1]  [9, 108]  [4, 69]  [9, 19]  [109, 113]  [66, 5]  [112, 54]  [98, 104]  [31, 5]  [12, 37]  [67, 50]  [43, 45]  [15, 55]  [45, 106]  [73, 100]  [17, 88]  [70, 13]  [50, 101]  [None, None]  [117, 37]  [62, 11]  [61, 70]  [79, 11]  [104, 113]  [40, 15]  [18, 86]  [50, 26]  [69, 91]  [45, 21]  [63, 64]  [106, 21]  [61, 57]  [18, 41]  [86, 86]  [80, 110]  [15, 72]  [70, 114]  [79, 116]  [102, 65]  [33, 9]  [114, 6]  [114, 121]  [3, 99]  [66, 122]  [80, 17]  [30, 122]  [62, 116]  [100, 65]  [102, 62]  [117, 90]  [58, 94]  [97, 57]  [30, 5]  [63, 63]  ()\n",
        "[58 94]  [2, 0]  [86, 86]  [0, 85]  [87, 1]  [67, 50]  [4, 69]  [56, 111]  [73, 100]  [0, 42]  [104, 113]  [103, 21]  [88, 85]  [23, 41]  [88, 42]  [40, 15]  [122, 10]  [69, 91]  [12, 37]  [97, 57]  [98, 104]  [22, 64]  [100, 65]  [96, 57]  [113, 116]  [39, 42]  [17, 88]  [123, 52]  [116, 20]  [10, 0]  [52, 62]  [72, 18]  [1, 25]  [42, 64]  [47, 8]  [109, 113]  [32, 46]  [116, 107]  [112, 54]  [113, 11]  [90, 99]  [33, 9]  [1, 102]  [32, 81]  [19, 67]  [125, 90]  [96, 70]  [123, 75]  [42, 63]  [34, 28]  [106, 21]  [41, 14]  [41, 113]  [3, 99]  [122, 117]  [125, 37]  [95, 74]  [72, 109]  [43, 45]  [34, 99]  [94, 79]  [52, 65]  [56, 16]  [31, 5]  [95, 53]  [90, 28]  [15, 55]  [62, 116]  [103, 106]  [9, 108]  [86, 41]  [33, 118]  [79, 11]  [47, 119]  [112, 73]  [61, 70]  [40, 112]  [22, 63]  [70, 13]  [102, 62]  [87, 126]  [80, 110]  [114, 6]  [45, 106]  [30, 5]  [102, 65]  [63, 63]  [114, 121]  [100, 62]  [66, 5]  [117, 37]  [58, 33]  [117, 90]  [None, None]  [19, 60]  [69, 36]  [80, 17]  [97, 70]  [4, 58]  [62, 11]  [30, 122]  [61, 57]  [12, 90]  [15, 72]  [63, 64]  [9, 19]  [3, 28]  [23, 86]  [79, 116]  [115, 0]  [109, 14]  [94, 48]  [66, 122]  [39, 85]  [45, 21]  [31, 122]  [18, 86]  [17, 39]  [98, 23]  [67, 77]  [18, 41]  [73, 27]  [43, 82]  [70, 114]  [50, 26]  [104, 14]  [50, 101]  [106, 106]  ()\n",
        "[61 70]  [100, 62]  [10, 0]  [41, 14]  [95, 74]  [50, 26]  [117, 90]  [1, 102]  [122, 117]  [45, 106]  [125, 37]  [67, 50]  [58, 94]  [32, 81]  [69, 91]  [3, 99]  [73, 27]  [50, 101]  [104, 113]  [45, 21]  [79, 11]  [87, 1]  [2, 0]  [73, 100]  [94, 79]  [15, 55]  [106, 21]  [32, 46]  [112, 54]  [86, 41]  [72, 18]  [86, 86]  [56, 16]  [12, 37]  [98, 104]  [123, 52]  [23, 86]  [22, 64]  [9, 19]  [31, 5]  [122, 10]  [17, 88]  [61, 57]  [123, 75]  [62, 11]  [104, 14]  [34, 99]  [109, 14]  [97, 57]  [96, 57]  [90, 99]  [114, 6]  [0, 42]  [109, 113]  [90, 28]  [125, 90]  [95, 53]  [52, 65]  [102, 62]  [100, 65]  [114, 121]  [23, 41]  [9, 108]  [79, 116]  [87, 126]  [106, 106]  [102, 65]  [19, 60]  [30, 5]  [112, 73]  [72, 109]  [63, 63]  [31, 122]  [80, 110]  [116, 107]  [1, 25]  [70, 114]  [116, 20]  [40, 15]  [15, 72]  [22, 63]  [80, 17]  [94, 48]  [97, 70]  [30, 122]  [43, 82]  [66, 122]  [41, 113]  [34, 28]  [63, 64]  [4, 58]  [88, 42]  [62, 116]  [19, 67]  [None, None]  [88, 85]  [47, 8]  [42, 64]  [18, 86]  [117, 37]  [103, 21]  [58, 33]  [42, 63]  [39, 85]  [33, 9]  [56, 111]  [40, 112]  [52, 62]  [98, 23]  [43, 45]  [3, 28]  [113, 11]  [39, 42]  [66, 5]  [0, 85]  [113, 116]  [70, 13]  [33, 118]  [47, 119]  [103, 106]  [4, 69]  [96, 70]  [115, 0]  [18, 41]  [69, 36]  [12, 90]  [67, 77]  [17, 39]  ()\n",
        "[62 11]  [97, 70]  [9, 108]  [34, 28]  [123, 52]  [62, 116]  [1, 102]  [72, 109]  [125, 37]  [66, 5]  [90, 99]  [117, 90]  [19, 67]  [95, 74]  [123, 75]  [67, 50]  [94, 79]  [109, 14]  [106, 21]  [2, 0]  [102, 65]  [109, 113]  [45, 106]  [104, 113]  [43, 45]  [41, 14]  [79, 11]  [88, 85]  [86, 86]  [112, 73]  [1, 25]  [56, 16]  [4, 58]  [17, 88]  [15, 55]  [69, 36]  [58, 94]  [3, 99]  [10, 0]  [90, 28]  [113, 116]  [98, 104]  [52, 65]  [95, 53]  [50, 101]  [73, 27]  [41, 113]  [87, 126]  [100, 65]  [12, 37]  [31, 122]  [96, 57]  [39, 85]  [50, 26]  [125, 90]  [122, 10]  [32, 46]  [22, 64]  [79, 116]  [0, 42]  [102, 62]  [87, 1]  [18, 86]  [106, 106]  [23, 86]  [104, 14]  [114, 6]  [58, 33]  [70, 114]  [70, 13]  [116, 107]  [97, 57]  [43, 82]  [63, 63]  [40, 15]  [117, 37]  [112, 54]  [72, 18]  [103, 21]  [98, 23]  [52, 62]  [66, 122]  [73, 100]  [63, 64]  [18, 41]  [94, 48]  [45, 21]  [15, 72]  [42, 64]  [80, 17]  [103, 106]  [32, 81]  [61, 57]  [69, 91]  [88, 42]  [None, None]  [39, 42]  [33, 9]  [30, 5]  [67, 77]  [4, 69]  [23, 41]  [34, 99]  [47, 119]  [47, 8]  [86, 41]  [116, 20]  [61, 70]  [17, 39]  [31, 5]  [22, 63]  [122, 117]  [0, 85]  [80, 110]  [100, 62]  [115, 0]  [30, 122]  [42, 63]  [33, 118]  [40, 112]  [56, 111]  [114, 121]  [113, 11]  [9, 19]  [19, 60]  [96, 70]  [3, 28]  [12, 90]  ()\n",
        "[63 64]  [95, 74]  [104, 113]  [123, 75]  [34, 99]  [102, 62]  [31, 5]  [90, 28]  [116, 20]  [109, 113]  [72, 18]  [43, 45]  [66, 5]  [42, 63]  [63, 63]  [94, 79]  [9, 108]  [66, 122]  [52, 62]  [23, 41]  [62, 11]  [96, 70]  [87, 1]  [22, 63]  [18, 86]  [69, 91]  [61, 70]  [0, 42]  [96, 57]  [125, 37]  [42, 64]  [12, 37]  [17, 88]  [23, 86]  [19, 67]  [41, 113]  [45, 106]  [73, 27]  [73, 100]  [70, 114]  [56, 16]  [58, 94]  [106, 106]  [97, 57]  [80, 17]  [10, 0]  [116, 107]  [45, 21]  [52, 65]  [87, 126]  [1, 25]  [109, 14]  [3, 99]  [114, 121]  [112, 54]  [86, 86]  [100, 65]  [104, 14]  [30, 122]  [22, 64]  [70, 13]  [12, 90]  [106, 21]  [18, 41]  [2, 0]  [9, 19]  [50, 101]  [98, 23]  [102, 65]  [90, 99]  [125, 90]  [61, 57]  [117, 37]  [62, 116]  [122, 10]  [33, 9]  [114, 6]  [34, 28]  [113, 116]  [103, 21]  [100, 62]  [19, 60]  [3, 28]  [123, 52]  [43, 82]  [67, 77]  [58, 33]  [40, 15]  [95, 53]  [69, 36]  [98, 104]  [33, 118]  [79, 116]  [80, 110]  [47, 119]  [39, 85]  [None, None]  [32, 46]  [79, 11]  [47, 8]  [115, 0]  [17, 39]  [72, 109]  [67, 50]  [88, 85]  [122, 117]  [41, 14]  [97, 70]  [4, 69]  [30, 5]  [0, 85]  [40, 112]  [88, 42]  [50, 26]  [32, 81]  [4, 58]  [31, 122]  [1, 102]  [117, 90]  [15, 55]  [113, 11]  [112, 73]  [103, 106]  [94, 48]  [15, 72]  [86, 41]  [39, 42]  [56, 111]  ()\n",
        "[66 122]  [69, 36]  [79, 11]  [32, 46]  [15, 72]  [106, 106]  [125, 90]  [122, 10]  [1, 25]  [62, 116]  [117, 37]  [90, 28]  [63, 63] "
       ]
      },
      {
       "output_type": "stream",
       "stream": "stdout",
       "text": [
        " [41, 113]  [100, 65]  [31, 5]  [30, 5]  [2, 0]  [62, 11]  [109, 113]  [109, 14]  [102, 62]  [50, 26]  [61, 70]  [70, 114]  [95, 53]  [50, 101]  [47, 119]  [17, 88]  [31, 122]  [47, 8]  [98, 104]  [15, 55]  [19, 67]  [123, 75]  [98, 23]  [80, 110]  [43, 45]  [106, 21]  [86, 86]  [103, 106]  [69, 91]  [73, 27]  [0, 42]  [45, 21]  [18, 86]  [103, 21]  [45, 106]  [3, 99]  [58, 94]  [67, 77]  [23, 86]  [117, 90]  [79, 116]  [56, 16]  [4, 58]  [39, 85]  [94, 79]  [9, 19]  [67, 50]  [18, 41]  [114, 121]  [102, 65]  [10, 0]  [66, 5]  [9, 108]  [87, 126]  [12, 90]  [96, 57]  [43, 82]  [113, 116]  [22, 64]  [3, 28]  [52, 65]  [115, 0]  [39, 42]  [12, 37]  [33, 9]  [113, 11]  [56, 111]  [63, 64]  [23, 41]  [52, 62]  [19, 60]  [73, 100]  [22, 63]  [87, 1]  [4, 69]  [88, 85]  [58, 33]  [41, 14]  [34, 99]  [104, 14]  [97, 57]  [42, 63]  [33, 118]  [32, 81]  [None, None]  [114, 6]  [0, 85]  [122, 117]  [96, 70]  [40, 15]  [1, 102]  [88, 42]  [90, 99]  [42, 64]  [80, 17]  [86, 41]  [112, 54]  [97, 70]  [72, 18]  [95, 74]  [61, 57]  [123, 52]  [40, 112]  [94, 48]  [116, 107]  [72, 109]  [34, 28]  [125, 37]  [30, 122]  [116, 20]  [104, 113]  [17, 39]  [70, 13]  [100, 62]  [112, 73]  ()\n",
        "[67 50]  [73, 27]  [32, 46]  [12, 90]  [9, 108]  [103, 106]  [3, 28]  [22, 63]  [2, 0]  [113, 116]  [45, 106]  [67, 77]  [103, 21]  [10, 0]  [56, 111]  [117, 37]  [33, 9]  [1, 102]  [0, 42]  [125, 90]  [47, 119]  [56, 16]  [122, 10]  [100, 65]  [47, 8]  [17, 39]  [39, 85]  [70, 13]  [95, 74]  [23, 86]  [109, 113]  [123, 52]  [69, 36]  [41, 113]  [98, 23]  [18, 86]  [40, 15]  [1, 25]  [95, 53]  [0, 85]  [63, 64]  [15, 72]  [116, 20]  [86, 41]  [117, 90]  [42, 64]  [106, 21]  [72, 109]  [125, 37]  [34, 99]  [66, 5]  [42, 63]  [31, 122]  [4, 58]  [100, 62]  [97, 70]  [112, 73]  [72, 18]  [15, 55]  [90, 99]  [98, 104]  [86, 86]  [88, 85]  [41, 14]  [116, 107]  [34, 28]  [33, 118]  [70, 114]  [88, 42]  [58, 94]  [52, 62]  [122, 117]  [80, 110]  [113, 11]  [61, 70]  [50, 26]  [32, 81]  [87, 1]  [62, 11]  [102, 65]  [22, 64]  [31, 5]  [97, 57]  [94, 79]  [69, 91]  [63, 63]  [90, 28]  [79, 11]  [96, 70]  [43, 45]  [19, 60]  [9, 19]  [40, 112]  [4, 69]  [18, 41]  [30, 122]  [79, 116]  [114, 121]  [None, None]  [62, 116]  [50, 101]  [112, 54]  [104, 113]  [43, 82]  [102, 62]  [87, 126]  [23, 41]  [3, 99]  [114, 6]  [39, 42]  [52, 65]  [45, 21]  [106, 106]  [115, 0]  [104, 14]  [80, 17]  [19, 67]  [73, 100]  [94, 48]  [58, 33]  [109, 14]  [17, 88]  [66, 122]  [123, 75]  [30, 5]  [12, 37]  [61, 57]  [96, 57]  ()\n",
        "[69 36]  [34, 99]  [52, 62]  [97, 57]  [116, 107]  [30, 122]  [70, 114]  [112, 54]  [34, 28]  [114, 121]  [42, 64]  [30, 5]  [50, 26]  [72, 109]  [61, 57]  [18, 86]  [106, 21]  [58, 33]  [97, 70]  [12, 90]  [80, 17]  [112, 73]  [96, 70]  [100, 62]  [79, 11]  [63, 63]  [63, 64]  [3, 99]  [87, 126]  [72, 18]  [32, 46]  [23, 86]  [58, 94]  [45, 106]  [80, 110]  [40, 15]  [109, 113]  [9, 108]  [22, 63]  [114, 6]  [17, 88]  [66, 5]  [9, 19]  [52, 65]  [19, 60]  [104, 113]  [122, 10]  [23, 41]  [104, 14]  [2, 0]  [33, 9]  [45, 21]  [94, 79]  [70, 13]  [96, 57]  [12, 37]  [22, 64]  [10, 0]  [43, 82]  [73, 27]  [31, 122]  [86, 41]  [61, 70]  [94, 48]  [87, 1]  [73, 100]  [66, 122]  [4, 69]  [50, 101]  [1, 25]  [86, 86]  [106, 106]  [47, 8]  [79, 116]  [56, 16]  [88, 85]  [109, 14]  [95, 53]  [4, 58]  [115, 0]  [95, 74]  [98, 23]  [0, 85]  [41, 113]  [67, 77]  [39, 42]  [17, 39]  [113, 116]  [100, 65]  [15, 72]  [19, 67]  [1, 102]  [18, 41]  [62, 116]  [117, 90]  [67, 50]  [47, 119]  [0, 42]  [62, 11]  [None, None]  [103, 106]  [56, 111]  [125, 90]  [43, 45]  [39, 85]  [116, 20]  [123, 75]  [123, 52]  [113, 11]  [102, 65]  [32, 81]  [41, 14]  [33, 118]  [102, 62]  [42, 63]  [98, 104]  [117, 37]  [90, 28]  [31, 5]  [69, 91]  [40, 112]  [90, 99]  [15, 55]  [3, 28]  [103, 21]  [125, 37]  [88, 42]  [122, 117]  ()\n",
        "[70 13]  [125, 37]  [87, 1]  [90, 28]  [72, 18]  [62, 11]  [69, 91]  [123, 75]  [42, 63]  [106, 21]  [34, 99]  [19, 67]  [18, 86]  [116, 20]  [70, 114]  [58, 94]  [45, 106]  [18, 41]  [96, 70]  [73, 100]  [102, 62]  [52, 62]  [104, 113]  [12, 90]  [66, 5]  [31, 5]  [114, 121]  [56, 16]  [52, 65]  [95, 74]  [116, 107]  [22, 64]  [3, 99]  [73, 27]  [43, 45]  [1, 25]  [9, 108]  [23, 86]  [23, 41]  [63, 63]  [0, 42]  [94, 79]  [109, 14]  [112, 54]  [30, 122]  [2, 0]  [42, 64]  [9, 19]  [96, 57]  [104, 14]  [41, 113]  [106, 106]  [17, 88]  [61, 70]  [97, 57]  [100, 65]  [86, 86]  [87, 126]  [80, 17]  [12, 37]  [63, 64]  [22, 63]  [109, 113]  [66, 122]  [10, 0]  [45, 21]  [79, 116]  [67, 77]  [62, 116]  [123, 52]  [95, 53]  [114, 6]  [15, 72]  [102, 65]  [32, 46]  [40, 15]  [61, 57]  [72, 109]  [88, 85]  [47, 8]  [86, 41]  [43, 82]  [17, 39]  [90, 99]  [19, 60]  [98, 23]  [94, 48]  [33, 9]  [125, 90]  [31, 122]  [67, 50]  [40, 112]  [50, 101]  [30, 5]  [103, 106]  [4, 58]  [115, 0]  [122, 10]  [50, 26]  [103, 21]  [None, None]  [3, 28]  [34, 28]  [98, 104]  [113, 116]  [32, 81]  [1, 102]  [112, 73]  [39, 42]  [80, 110]  [56, 111]  [33, 118]  [113, 11]  [79, 11]  [122, 117]  [39, 85]  [69, 36]  [41, 14]  [15, 55]  [117, 90]  [88, 42]  [97, 70]  [47, 119]  [58, 33]  [117, 37]  [100, 62]  [4, 69]  [0, 85]  ()\n",
        "[72 18]  [41, 14]  [56, 111]  [102, 65]  [123, 75]  [123, 52]  [50, 26]  [62, 116]  [31, 5]  [100, 62]  [90, 28]  [109, 113]  [52, 62]  [69, 91]  [62, 11]  [87, 1]  [12, 90]  [117, 37]  [122, 117]  [39, 42]  [90, 99]  [32, 81]  [0, 85]  [113, 11]  [96, 70]  [79, 11]  [125, 37]  [87, 126]  [18, 41]  [1, 102]  [112, 54]  [9, 19]  [10, 0]  [73, 100]  [106, 21]  [95, 53]  [22, 63]  [23, 41]  [4, 69]  [102, 62]  [104, 14]  [104, 113]  [19, 60]  [50, 101]  [1, 25]  [17, 39]  [97, 57]  [67, 77]  [66, 122]  [94, 48]  [125, 90]  [43, 82]  [2, 0]  [95, 74]  [79, 116]  [106, 106]  [109, 14]  [58, 33]  [41, 113]  [45, 21]  [34, 99]  [88, 42]  [86, 41]  [15, 72]  [3, 28]  [98, 23]  [31, 122]  [88, 85]  [70, 13]  [72, 109]  [61, 57]  [80, 17]  [122, 10]  [63, 64]  [52, 65]  [86, 86]  [30, 122]  [70, 114]  [22, 64]  [0, 42]  [40, 112]  [33, 9]  [115, 0]  [34, 28]  [40, 15]  [113, 116]  [47, 8]  [100, 65]  [114, 6]  [42, 64]  [9, 108]  [19, 67]  [69, 36]  [61, 70]  [58, 94]  [23, 86]  [17, 88]  [96, 57]  [112, 73]  [56, 16]  [3, 99]  [None, None]  [63, 63]  [45, 106]  [12, 37]  [117, 90]  [30, 5]  [116, 20]  [39, 85]  [114, 121]  [103, 106]  [43, 45]  [98, 104]  [97, 70]  [15, 55]  [73, 27]  [116, 107]  [80, 110]  [66, 5]  [18, 86]  [67, 50]  [42, 63]  [94, 79]  [103, 21]  [32, 46]  [33, 118]  [4, 58]  [47, 119]  ()\n",
        "[73 100]  [67, 77]  [79, 116]  [4, 58]  [39, 42]  [2, 0]  [0, 42]  [39, 85]  [103, 21]  [109, 14]  [4, 69]  [100, 65]  [96, 57]  [47, 8]  [17, 88]  [97, 57]  [61, 57]  [106, 21]  [18, 41]  [62, 11]  [10, 0]  [66, 122]  [50, 101]  [30, 122]  [52, 65]  [56, 16]  [9, 19]  [41, 14]  [43, 45]  [98, 23]  [113, 11]  [31, 5]  [90, 28]  [70, 114]  [86, 86]  [0, 85]  [114, 6]  [63, 63]  [102, 62]  [3, 99]  [1, 102]  [112, 54]  [66, 5]  [98, 104]  [104, 113]  [62, 116]  [88, 42]  [79, 11]  [19, 67]  [30, 5]  [56, 111]  [18, 86]  [123, 75]  [45, 21]  [67, 50]  [117, 90]  [15, 55]  [80, 110]  [87, 1]  [69, 91]  [23, 41]  [80, 17]  [106, 106]  [109, 113]  [102, 65]  [50, 26]  [9, 108]  [97, 70]  [73, 27]  [17, 39]  [47, 119]  [58, 94]  [86, 41]  [23, 86]  [33, 118]  [122, 117]  [94, 79]  [115, 0]  [42, 63]  [95, 74]  [43, 82]  [52, 62]  [70, 13]  [3, 28]  [96, 70]  [112, 73]  [61, 70]  [32, 81]  [103, 106]  [22, 63]  [125, 90]  [33, 9]  [45, 106]  [12, 37]  [42, 64]  [34, 28]  [72, 18]  [40, 112]  [104, 14]  [125, 37]  [34, 99]  [63, 64]  [None, None]  [95, 53]  [116, 20]  [15, 72]  [113, 116]  [94, 48]  [123, 52]  [22, 64]  [31, 122]  [40, 15]  [1, 25]  [87, 126]  [117, 37]  [72, 109]  [12, 90]  [88, 85]  [32, 46]  [122, 10]  [41, 113]  [58, 33]  [116, 107]  [114, 121]  [100, 62]  [19, 60]  [90, 99]  [69, 36]  ()\n",
        "[79 11]  [52, 62]  [73, 27]  [116, 20]  [97, 70]  [80, 110]  [33, 118]  [42, 63]  [86, 41]  [58, 94]  [112, 73]  [47, 119]  [98, 104]  [100, 62]  [41, 14]  [39, 85]  [3, 99]  [114, 6]  [9, 108]  [87, 126]  [30, 5]  [45, 106]  [23, 86]  [10, 0]  [67, 50]  [40, 112]  [18, 86]  [33, 9]  [125, 90]  [96, 70]  [90, 99]  [122, 10]  [113, 116]  [56, 16]  [103, 106]  [63, 64]  [17, 88]  [0, 42]  [104, 14]  [1, 102]  [40, 15]  [4, 58]  [97, 57]  [34, 28]  [102, 65]  [22, 64]  [123, 52]  [96, 57]  [95, 53]  [86, 86]  [70, 13]  [112, 54]  [88, 85]  [66, 5]  [72, 109]  [116, 107]  [42, 64]  [100, 65]  [62, 116]  [32, 46]  [50, 26]  [2, 0]  [94, 79]  [61, 57]  [12, 37]  [52, 65]  [70, 114]  [66, 122]  [31, 5]  [114, 121]  [34, 99]  [123, 75]  [30, 122]  [69, 91]  [41, 113]  [31, 122]  [90, 28]  [125, 37]  [15, 72]  [19, 60]  [104, 113]  [50, 101]  [9, 19]  [61, 70]  [79, 116]  [18, 41]  [109, 14]  [69, 36]  [72, 18]  [62, 11]  [115, 0]  [0, 85]  [63, 63]  [15, 55]  [39, 42]  [47, 8]  [67, 77]  [1, 25]  [43, 45]  [43, 82]  [98, 23]  [45, 21]  [95, 74]  [None, None]  [117, 37]  [12, 90]  [122, 117]  [106, 21]  [58, 33]  [117, 90]  [73, 100]  [56, 111]  [3, 28]  [19, 67]  [22, 63]  [103, 21]  [102, 62]  [32, 81]  [88, 42]  [113, 11]  [17, 39]  [109, 113]  [4, 69]  [106, 106]  [80, 17]  [87, 1]  [94, 48]  [23, 41]  ()\n",
        "[80 17]  [123, 52]  [106, 21]  [95, 53]  [41, 113]  [79, 116]  [90, 28]  [125, 90]  [72, 18]  [50, 26]  [1, 25]  [31, 5]  [80, 110]  [34, 99]  [97, 57]  [43, 45]  [18, 86]  [45, 21]  [61, 70]  [87, 1]  [50, 101]  [114, 121]  [109, 113]  [52, 62]  [30, 5]  [123, 75]  [62, 11]  [39, 85]  [12, 37]  [90, 99]  [33, 9]  [17, 88]  [98, 104]  [58, 94]  [69, 91]  [15, 72]  [66, 5]  [94, 79]  [104, 113]  [112, 54]  [4, 58]  [19, 67]  [104, 14]  [100, 65]  [66, 122]  [9, 108]  [40, 15]  [2, 0]  [22, 64]  [23, 86]  [117, 37]  [87, 126]  [67, 50]  [102, 62]  [86, 86]  [56, 16]  [0, 42]  [73, 27]  [18, 41]  [3, 99]  [30, 122]  [96, 70]  [79, 11]  [9, 19]  [45, 106]  [10, 0]  [109, 14]  [17, 39]  [114, 6]  [31, 122]  [122, 10]  [52, 65]  [67, 77]  [61, 57]  [113, 116]  [47, 8]  [96, 57]  [42, 64]  [115, 0]  [4, 69]  [97, 70]  [58, 33]  [22, 63]  [69, 36]  [94, 48]  [3, 28]  [23, 41]  [103, 21]  [32, 46]  [19, 60]  [15, 55]  [42, 63]  [106, 106]  [63, 63]  [33, 118]  [47, 119]  [88, 42]  [88, 85]  [102, 65]  [39, 42]  [113, 11]  [12, 90]  [116, 107]  [117, 90]  [None, None]  [125, 37]  [34, 28]  [63, 64]  [56, 111]  [70, 114]  [100, 62]  [116, 20]  [32, 81]  [62, 116]  [95, 74]  [103, 106]  [43, 82]  [72, 109]  [1, 102]  [41, 14]  [122, 117]  [70, 13]  [40, 112]  [73, 100]  [98, 23]  [112, 73]  [0, 85]  [86, 41]  ()\n",
        "[86 41]  [113, 11]  [58, 33]  [43, 45]  [40, 112]  [52, 62]  [58, 94]  [19, 67]  [47, 119]  [73, 100]  [33, 118]  [23, 86]  [10, 0]  [103, 106]  [18, 86]  [87, 126]  [45, 21]  [70, 13]  [17, 39]  [43, 82]  [96, 70]  [3, 28]  [94, 48]  [98, 23]  [2, 0]  [94, 79]  [12, 90]  [112, 54]  [62, 116]  [88, 42]  [1, 102]  [61, 57]  [52, 65]  [106, 106]  [73, 27]  [116, 20]  [9, 19]  [109, 14]  [19, 60]  [66, 5]  [97, 57]  [104, 14]  [62, 11]  [30, 5]  [112, 73]  [66, 122]  [41, 14]  [30, 122]  [102, 65]  [79, 116]  [42, 63]  [102, 62]  [96, 57]  [22, 63]  [80, 110]  [63, 63]  [70, 114]  [50, 101]  [97, 70]  [114, 6]  [100, 62]  [67, 77]  [23, 41]  [63, 64]  [18, 41]  [80, 17]  [114, 121]  [1, 25]  [109, 113]  [32, 81]  [69, 91]  [79, 11]  [34, 99]  [106, 21]  [123, 75]  [72, 109]  [50, 26]  [117, 90]  [95, 53]  [42, 64]  [4, 69]  [90, 99]  [15, 72]  [122, 117]  [123, 52]  [41, 113]  [31, 122]  [34, 28]  [31, 5]  [125, 37]  [22, 64]  [4, 58]  [61, 70]  [9, 108]  [56, 16]  [86, 86]  [122, 10]  [90, 28]  [87, 1]  [116, 107]  [32, 46]  [117, 37]  [15, 55]  [12, 37]  [125, 90]  [None, None]  [67, 50]  [56, 111]  [33, 9]  [45, 106]  [103, 21]  [39, 85]  [113, 116]  [104, 113]  [115, 0]  [100, 65]  [95, 74]  [98, 104]  [17, 88]  [3, 99]  [88, 85]  [0, 85]  [0, 42]  [69, 36]  [72, 18]  [39, 42]  [40, 15]  [47, 8]  ()\n",
        "[87 1]  [17, 39]  [109, 14]  [47, 119]  [56, 111]  [9, 108]  [4, 58]  [103, 106]  [39, 42]  [104, 14]  [0, 85]  [56, 16]  [22, 64]  [4, 69]  [67, 50]  [86, 86]  [96, 57]  [50, 26]  [45, 21]  [79, 116]  [45, 106]  [9, 19]  [106, 106]  [66, 122]  [12, 37]  [39, 85]  [2, 0]  [72, 109]  [69, 91]  [3, 28]  [32, 81]  [123, 75]  [95, 53]  [97, 57]  [0, 42]  [86, 41]  [52, 65]  [112, 54]  [50, 101]  [98, 104]  [34, 28]  [100, 65]  [30, 5]  [117, 90]  [109, 113]  [114, 6]  [122, 117]  [62, 116]  [31, 5]  [63, 63]  [100, 62]  "
       ]
      },
      {
       "output_type": "stream",
       "stream": "stdout",
       "text": [
        "[80, 110]  [125, 90]  [10, 0]  [15, 55]  [41, 14]  [1, 102]  [70, 114]  [106, 21]  [90, 28]  [104, 113]  [18, 41]  [87, 126]  [79, 11]  [61, 57]  [102, 65]  [66, 5]  [70, 13]  [58, 94]  [22, 63]  [40, 112]  [43, 45]  [97, 70]  [94, 79]  [116, 20]  [95, 74]  [19, 67]  [88, 42]  [72, 18]  [90, 99]  [58, 33]  [114, 121]  [80, 17]  [12, 90]  [61, 70]  [63, 64]  [102, 62]  [125, 37]  [33, 118]  [96, 70]  [32, 46]  [103, 21]  [18, 86]  [3, 99]  [40, 15]  [116, 107]  [41, 113]  [42, 63]  [23, 86]  [123, 52]  [1, 25]  [30, 122]  [113, 11]  [122, 10]  [34, 99]  [67, 77]  [None, None]  [23, 41]  [31, 122]  [17, 88]  [19, 60]  [47, 8]  [15, 72]  [73, 27]  [98, 23]  [42, 64]  [52, 62]  [115, 0]  [113, 116]  [88, 85]  [117, 37]  [73, 100]  [33, 9]  [62, 11]  [112, 73]  [94, 48]  [69, 36]  [43, 82]  ()\n",
        "[88 42]  [39, 85]  [117, 37]  [45, 106]  [67, 50]  [56, 111]  [10, 0]  [9, 108]  [17, 88]  [98, 23]  [98, 104]  [9, 19]  [58, 33]  [3, 99]  [87, 1]  [18, 41]  [43, 82]  [95, 74]  [47, 8]  [41, 113]  [0, 85]  [103, 21]  [15, 72]  [33, 9]  [94, 48]  [2, 0]  [39, 42]  [62, 116]  [61, 70]  [4, 58]  [19, 67]  [62, 11]  [50, 101]  [80, 17]  [45, 21]  [117, 90]  [19, 60]  [30, 122]  [1, 25]  [104, 113]  [102, 65]  [66, 122]  [112, 73]  [109, 113]  [32, 81]  [31, 122]  [43, 45]  [123, 52]  [114, 121]  [63, 64]  [15, 55]  [97, 70]  [79, 116]  [4, 69]  [106, 21]  [79, 11]  [50, 26]  [70, 13]  [122, 117]  [102, 62]  [113, 11]  [40, 15]  [67, 77]  [125, 37]  [69, 36]  [90, 99]  [100, 62]  [72, 109]  [22, 63]  [103, 106]  [18, 86]  [96, 70]  [41, 14]  [12, 90]  [30, 5]  [69, 91]  [52, 62]  [58, 94]  [70, 114]  [90, 28]  [88, 85]  [42, 63]  [42, 64]  [47, 119]  [116, 20]  [34, 28]  [34, 99]  [31, 5]  [66, 5]  [33, 118]  [109, 14]  [22, 64]  [86, 41]  [23, 41]  [52, 65]  [61, 57]  [97, 57]  [80, 110]  [3, 28]  [123, 75]  [112, 54]  [116, 107]  [94, 79]  [106, 106]  [63, 63]  [56, 16]  [23, 86]  [None, None]  [125, 90]  [73, 100]  [32, 46]  [12, 37]  [100, 65]  [17, 39]  [0, 42]  [114, 6]  [40, 112]  [73, 27]  [104, 14]  [87, 126]  [86, 86]  [115, 0]  [96, 57]  [72, 18]  [1, 102]  [113, 116]  [95, 53]  [122, 10]  ()\n",
        "[90 99]  [116, 20]  [12, 90]  [70, 114]  [34, 28]  [63, 64]  [80, 110]  [63, 63]  [1, 102]  [52, 62]  [72, 109]  [66, 5]  [106, 21]  [41, 14]  [102, 65]  [45, 106]  [87, 1]  [43, 82]  [86, 41]  [3, 28]  [70, 13]  [100, 62]  [22, 63]  [56, 111]  [109, 113]  [30, 5]  [112, 73]  [12, 37]  [106, 106]  [42, 63]  [125, 90]  [104, 14]  [73, 27]  [10, 0]  [18, 86]  [42, 64]  [104, 113]  [2, 0]  [17, 39]  [62, 116]  [22, 64]  [9, 108]  [66, 122]  [114, 6]  [31, 122]  [23, 41]  [95, 53]  [94, 48]  [109, 14]  [9, 19]  [116, 107]  [18, 41]  [23, 86]  [97, 70]  [61, 57]  [52, 65]  [96, 57]  [45, 21]  [69, 36]  [87, 126]  [123, 52]  [0, 85]  [96, 70]  [19, 60]  [73, 100]  [58, 33]  [30, 122]  [47, 8]  [102, 62]  [34, 99]  [97, 57]  [50, 101]  [40, 15]  [62, 11]  [100, 65]  [122, 10]  [79, 116]  [90, 28]  [0, 42]  [88, 85]  [122, 117]  [117, 37]  [4, 69]  [72, 18]  [15, 72]  [103, 21]  [67, 77]  [32, 46]  [112, 54]  [1, 25]  [94, 79]  [15, 55]  [80, 17]  [79, 11]  [98, 104]  [17, 88]  [4, 58]  [86, 86]  [114, 121]  [113, 116]  [39, 85]  [39, 42]  [123, 75]  [58, 94]  [56, 16]  [33, 118]  [31, 5]  [125, 37]  [None, None]  [50, 26]  [113, 11]  [117, 90]  [103, 106]  [61, 70]  [40, 112]  [3, 99]  [41, 113]  [69, 91]  [19, 67]  [43, 45]  [47, 119]  [95, 74]  [67, 50]  [98, 23]  [33, 9]  [32, 81]  [115, 0]  [88, 42]  ()\n",
        "[94 79]  [10, 0]  [100, 65]  [56, 111]  [104, 113]  [98, 104]  [39, 42]  [0, 85]  [23, 41]  [56, 16]  [87, 1]  [47, 8]  [113, 116]  [73, 100]  [113, 11]  [33, 9]  [32, 46]  [31, 5]  [22, 64]  [112, 54]  [67, 50]  [12, 37]  [86, 86]  [52, 65]  [88, 85]  [4, 69]  [3, 99]  [90, 99]  [42, 63]  [2, 0]  [96, 70]  [34, 99]  [41, 113]  [116, 107]  [103, 21]  [106, 21]  [122, 10]  [42, 64]  [97, 57]  [88, 42]  [123, 52]  [40, 15]  [41, 14]  [122, 117]  [43, 45]  [95, 53]  [52, 62]  [90, 28]  [116, 20]  [72, 109]  [109, 113]  [1, 102]  [1, 25]  [17, 88]  [32, 81]  [95, 74]  [125, 37]  [34, 28]  [19, 67]  [72, 18]  [58, 94]  [96, 57]  [0, 42]  [69, 91]  [125, 90]  [123, 75]  [117, 90]  [102, 65]  [47, 119]  [45, 106]  [100, 62]  [40, 112]  [50, 26]  [103, 106]  [97, 70]  [114, 121]  [33, 118]  [12, 90]  [63, 64]  [62, 11]  [104, 14]  [30, 5]  [61, 57]  [9, 108]  [80, 110]  [62, 116]  [70, 114]  [61, 70]  [86, 41]  [18, 86]  [15, 72]  [94, 48]  [15, 55]  [115, 0]  [43, 82]  [31, 122]  [30, 122]  [112, 73]  [39, 85]  [102, 62]  [80, 17]  [114, 6]  [22, 63]  [117, 37]  [70, 13]  [45, 21]  [17, 39]  [73, 27]  [50, 101]  [None, None]  [106, 106]  [58, 33]  [18, 41]  [4, 58]  [9, 19]  [69, 36]  [66, 5]  [3, 28]  [67, 77]  [98, 23]  [66, 122]  [23, 86]  [19, 60]  [63, 63]  [79, 11]  [87, 126]  [79, 116]  [109, 14]  ()\n",
        "[95 74]  [33, 118]  [3, 28]  [80, 110]  [1, 102]  [112, 73]  [18, 86]  [30, 5]  [15, 55]  [12, 90]  [41, 14]  [9, 108]  [87, 1]  [117, 90]  [50, 26]  [10, 0]  [73, 100]  [69, 36]  [0, 85]  [98, 23]  [97, 70]  [56, 111]  [17, 39]  [39, 42]  [104, 113]  [66, 5]  [100, 62]  [52, 65]  [50, 101]  [40, 112]  [123, 75]  [109, 14]  [87, 126]  [45, 21]  [45, 106]  [72, 109]  [23, 41]  [9, 19]  [67, 77]  [79, 11]  [96, 57]  [2, 0]  [30, 122]  [62, 116]  [123, 52]  [94, 48]  [90, 28]  [19, 60]  [79, 116]  [66, 122]  [34, 28]  [80, 17]  [104, 14]  [86, 41]  [102, 65]  [114, 6]  [61, 57]  [18, 41]  [90, 99]  [106, 106]  [125, 37]  [4, 69]  [22, 63]  [31, 122]  [58, 33]  [43, 82]  [63, 64]  [40, 15]  [61, 70]  [116, 20]  [70, 114]  [102, 62]  [42, 64]  [114, 121]  [112, 54]  [95, 53]  [62, 11]  [69, 91]  [86, 86]  [122, 10]  [88, 42]  [41, 113]  [47, 8]  [42, 63]  [1, 25]  [33, 9]  [15, 72]  [125, 90]  [63, 63]  [34, 99]  [23, 86]  [67, 50]  [70, 13]  [109, 113]  [3, 99]  [22, 64]  [0, 42]  [97, 57]  [52, 62]  [32, 46]  [56, 16]  [103, 21]  [31, 5]  [73, 27]  [100, 65]  [103, 106]  [19, 67]  [32, 81]  [113, 116]  [106, 21]  [None, None]  [98, 104]  [39, 85]  [96, 70]  [47, 119]  [12, 37]  [72, 18]  [43, 45]  [94, 79]  [58, 94]  [4, 58]  [122, 117]  [17, 88]  [117, 37]  [116, 107]  [113, 11]  [88, 85]  [115, 0]  ()\n",
        "[96 70]  [56, 111]  [45, 21]  [117, 90]  [122, 117]  [106, 21]  [98, 104]  [15, 55]  [88, 42]  [10, 0]  [32, 81]  [17, 88]  [73, 27]  [113, 11]  [43, 45]  [12, 37]  [87, 126]  [102, 62]  [23, 41]  [18, 41]  [109, 113]  [73, 100]  [9, 19]  [58, 33]  [23, 86]  [67, 50]  [87, 1]  [125, 90]  [63, 63]  [0, 85]  [42, 63]  [97, 57]  [100, 65]  [52, 65]  [3, 99]  [125, 37]  [104, 14]  [96, 57]  [66, 122]  [19, 67]  [95, 53]  [22, 64]  [102, 65]  [31, 5]  [114, 121]  [109, 14]  [116, 20]  [79, 116]  [70, 114]  [61, 57]  [95, 74]  [62, 116]  [86, 86]  [104, 113]  [69, 91]  [123, 75]  [90, 28]  [114, 6]  [61, 70]  [112, 54]  [52, 62]  [94, 48]  [2, 0]  [62, 11]  [106, 106]  [50, 101]  [50, 26]  [31, 122]  [66, 5]  [100, 62]  [41, 14]  [30, 5]  [123, 52]  [18, 86]  [34, 28]  [34, 99]  [80, 110]  [33, 118]  [42, 64]  [1, 25]  [17, 39]  [70, 13]  [19, 60]  [86, 41]  [63, 64]  [69, 36]  [30, 122]  [72, 18]  [1, 102]  [112, 73]  [0, 42]  [115, 0]  [79, 11]  [94, 79]  [113, 116]  [122, 10]  [40, 15]  [72, 109]  [45, 106]  [41, 113]  [33, 9]  [43, 82]  [40, 112]  [56, 16]  [116, 107]  [39, 42]  [47, 119]  [12, 90]  [117, 37]  [58, 94]  [98, 23]  [None, None]  [103, 21]  [9, 108]  [4, 69]  [32, 46]  [97, 70]  [103, 106]  [4, 58]  [39, 85]  [47, 8]  [22, 63]  [88, 85]  [80, 17]  [90, 99]  [3, 28]  [15, 72]  [67, 77]  ()\n",
        "[97 70]  [32, 81]  [73, 100]  [69, 91]  [42, 63]  [114, 121]  [43, 45]  [31, 5]  [40, 112]  [87, 1]  [116, 20]  [94, 79]  [45, 106]  [33, 118]  [80, 110]  [73, 27]  [10, 0]  [80, 17]  [22, 63]  [58, 33]  [61, 70]  [12, 90]  [23, 41]  [3, 28]  [9, 108]  [19, 67]  [52, 62]  [100, 65]  [114, 6]  [122, 117]  [34, 28]  [96, 57]  [12, 37]  [87, 126]  [58, 94]  [34, 99]  [2, 0]  [104, 14]  [94, 48]  [30, 5]  [86, 86]  [23, 86]  [79, 116]  [63, 63]  [63, 64]  [9, 19]  [72, 109]  [66, 122]  [61, 57]  [109, 14]  [72, 18]  [50, 101]  [22, 64]  [96, 70]  [70, 114]  [112, 54]  [97, 57]  [106, 106]  [70, 13]  [52, 65]  [112, 73]  [17, 39]  [104, 113]  [30, 122]  [45, 21]  [18, 41]  [62, 11]  [15, 72]  [79, 11]  [125, 37]  [90, 28]  [62, 116]  [1, 25]  [50, 26]  [125, 90]  [42, 64]  [102, 65]  [41, 14]  [122, 10]  [40, 15]  [0, 85]  [69, 36]  [67, 77]  [95, 74]  [31, 122]  [117, 37]  [19, 60]  [116, 107]  [123, 75]  [123, 52]  [17, 88]  [47, 119]  [102, 62]  [66, 5]  [39, 85]  [0, 42]  [88, 85]  [95, 53]  [106, 21]  [33, 9]  [113, 116]  [98, 23]  [1, 102]  [3, 99]  [32, 46]  [113, 11]  [15, 55]  [100, 62]  [103, 21]  [18, 86]  [39, 42]  [103, 106]  [None, None]  [109, 113]  [88, 42]  [56, 16]  [90, 99]  [117, 90]  [67, 50]  [98, 104]  [115, 0]  [86, 41]  [4, 58]  [43, 82]  [41, 113]  [56, 111]  [47, 8]  [4, 69]  ()\n",
        "[98 104]  [23, 86]  [122, 10]  [22, 63]  [45, 106]  [47, 119]  [17, 39]  [12, 90]  [10, 0]  [88, 85]  [9, 108]  [98, 23]  [47, 8]  [2, 0]  [0, 85]  [15, 72]  [40, 15]  [41, 14]  [56, 16]  [95, 53]  [103, 106]  [0, 42]  [32, 46]  [86, 86]  [103, 21]  [3, 28]  [4, 58]  [63, 64]  [125, 37]  [73, 27]  [106, 21]  [90, 99]  [31, 122]  [1, 25]  [67, 77]  [66, 5]  [33, 9]  [41, 113]  [125, 90]  [56, 111]  [70, 13]  [117, 37]  [42, 63]  [100, 62]  [15, 55]  [116, 107]  [109, 113]  [34, 28]  [95, 74]  [72, 18]  [18, 86]  [116, 20]  [69, 36]  [39, 85]  [86, 41]  [112, 73]  [97, 70]  [34, 99]  [117, 90]  [123, 52]  [67, 50]  [100, 65]  [113, 116]  [1, 102]  [42, 64]  [72, 109]  [40, 112]  [63, 63]  [113, 11]  [94, 79]  [96, 70]  [32, 81]  [30, 5]  [88, 42]  [114, 121]  [79, 11]  [122, 117]  [104, 113]  [102, 62] "
       ]
      },
      {
       "output_type": "stream",
       "stream": "stdout",
       "text": [
        " [62, 116]  [12, 37]  [69, 91]  [112, 54]  [58, 94]  [31, 5]  [70, 114]  [123, 75]  [50, 26]  [52, 62]  [19, 67]  [43, 82]  [45, 21]  [33, 118]  [39, 42]  [66, 122]  [80, 17]  [50, 101]  [61, 70]  [115, 0]  [102, 65]  [79, 116]  [97, 57]  [87, 1]  [19, 60]  [62, 11]  [104, 14]  [73, 100]  [17, 88]  [61, 57]  [4, 69]  [96, 57]  [9, 19]  [109, 14]  [None, None]  [87, 126]  [30, 122]  [43, 45]  [23, 41]  [58, 33]  [94, 48]  [106, 106]  [3, 99]  [18, 41]  [90, 28]  [80, 110]  [22, 64]  [114, 6]  [52, 65]  ()\n",
        "[100 62]  [88, 42]  [94, 48]  [19, 67]  [33, 118]  [96, 70]  [94, 79]  [43, 45]  [103, 106]  [23, 41]  [40, 112]  [73, 27]  [2, 0]  [47, 119]  [66, 5]  [104, 14]  [9, 19]  [63, 64]  [3, 28]  [19, 60]  [52, 62]  [17, 39]  [58, 33]  [67, 77]  [10, 0]  [58, 94]  [22, 63]  [97, 57]  [102, 65]  [113, 11]  [41, 14]  [114, 6]  [96, 57]  [109, 14]  [23, 86]  [42, 63]  [45, 21]  [106, 106]  [43, 82]  [18, 86]  [112, 54]  [87, 126]  [102, 62]  [80, 110]  [97, 70]  [18, 41]  [1, 102]  [80, 17]  [62, 116]  [50, 101]  [116, 20]  [62, 11]  [52, 65]  [12, 90]  [30, 5]  [70, 114]  [63, 63]  [79, 116]  [112, 73]  [61, 57]  [86, 41]  [98, 23]  [73, 100]  [70, 13]  [66, 122]  [30, 122]  [61, 70]  [41, 113]  [106, 21]  [122, 117]  [31, 5]  [50, 26]  [72, 18]  [109, 113]  [90, 28]  [34, 28]  [79, 11]  [15, 55]  [125, 90]  [116, 107]  [39, 42]  [123, 52]  [117, 37]  [32, 81]  [90, 99]  [1, 25]  [69, 36]  [72, 109]  [69, 91]  [95, 74]  [12, 37]  [39, 85]  [114, 121]  [45, 106]  [0, 42]  [100, 65]  [32, 46]  [123, 75]  [104, 113]  [42, 64]  [122, 10]  [15, 72]  [117, 90]  [22, 64]  [95, 53]  [115, 0]  [98, 104]  [0, 85]  [40, 15]  [9, 108]  [47, 8]  [4, 58]  [88, 85]  [87, 1]  [None, None]  [86, 86]  [125, 37]  [67, 50]  [3, 99]  [17, 88]  [113, 116]  [56, 111]  [56, 16]  [31, 122]  [34, 99]  [4, 69]  [33, 9]  [103, 21]  ()\n",
        "[102 62]  [112, 73]  [45, 106]  [72, 109]  [90, 99]  [102, 65]  [41, 14]  [34, 28]  [95, 74]  [18, 86]  [123, 52]  [15, 55]  [43, 45]  [125, 37]  [90, 28]  [98, 104]  [58, 94]  [106, 106]  [109, 113]  [10, 0]  [62, 116]  [106, 21]  [9, 108]  [87, 1]  [19, 67]  [1, 102]  [50, 26]  [113, 116]  [100, 65]  [97, 70]  [41, 113]  [0, 42]  [39, 85]  [3, 99]  [117, 90]  [31, 122]  [94, 79]  [17, 88]  [2, 0]  [123, 75]  [88, 85]  [67, 50]  [96, 57]  [125, 90]  [79, 116]  [23, 86]  [1, 25]  [104, 14]  [86, 86]  [22, 64]  [69, 36]  [52, 65]  [4, 58]  [79, 11]  [95, 53]  [32, 46]  [122, 10]  [12, 37]  [50, 101]  [56, 16]  [62, 11]  [104, 113]  [66, 5]  [109, 14]  [73, 27]  [87, 126]  [61, 57]  [94, 48]  [63, 63]  [63, 64]  [42, 64]  [112, 54]  [19, 60]  [70, 114]  [33, 9]  [15, 72]  [97, 57]  [34, 99]  [47, 8]  [67, 77]  [96, 70]  [18, 41]  [23, 41]  [70, 13]  [66, 122]  [58, 33]  [9, 19]  [117, 37]  [116, 107]  [30, 122]  [47, 119]  [122, 117]  [114, 6]  [31, 5]  [113, 11]  [115, 0]  [4, 69]  [40, 15]  [80, 110]  [98, 23]  [39, 42]  [73, 100]  [72, 18]  [103, 106]  [103, 21]  [100, 62]  [42, 63]  [114, 121]  [3, 28]  [69, 91]  [12, 90]  [32, 81]  [56, 111]  [30, 5]  [86, 41]  [None, None]  [80, 17]  [116, 20]  [40, 112]  [33, 118]  [0, 85]  [61, 70]  [88, 42]  [45, 21]  [43, 82]  [52, 62]  [17, 39]  [22, 63]  ()\n",
        "[103 21]  [122, 10]  [123, 52]  [104, 14]  [56, 16]  [67, 77]  [109, 14]  [87, 126]  [100, 65]  [31, 122]  [0, 42]  [50, 101]  [30, 122]  [86, 86]  [9, 19]  [62, 11]  [63, 64]  [56, 111]  [41, 113]  [125, 37]  [98, 23]  [1, 25]  [90, 99]  [34, 99]  [80, 17]  [106, 106]  [15, 72]  [18, 86]  [87, 1]  [32, 46]  [3, 99]  [109, 113]  [50, 26]  [114, 121]  [79, 116]  [4, 58]  [70, 13]  [61, 70]  [95, 74]  [45, 21]  [66, 5]  [102, 62]  [22, 63]  [10, 0]  [4, 69]  [97, 70]  [17, 88]  [86, 41]  [104, 113]  [96, 70]  [39, 85]  [12, 90]  [79, 11]  [117, 37]  [2, 0]  [45, 106]  [9, 108]  [52, 62]  [39, 42]  [106, 21]  [47, 8]  [72, 18]  [69, 36]  [0, 85]  [112, 73]  [100, 62]  [17, 39]  [40, 112]  [58, 33]  [88, 85]  [23, 86]  [73, 100]  [47, 119]  [94, 48]  [58, 94]  [67, 50]  [23, 41]  [22, 64]  [19, 67]  [15, 55]  [116, 107]  [113, 11]  [42, 63]  [113, 116]  [88, 42]  [33, 118]  [122, 117]  [98, 104]  [73, 27]  [115, 0]  [62, 116]  [112, 54]  [3, 28]  [18, 41]  [70, 114]  [30, 5]  [31, 5]  [94, 79]  [19, 60]  [117, 90]  [69, 91]  [116, 20]  [12, 37]  [102, 65]  [43, 45]  [95, 53]  [52, 65]  [40, 15]  [41, 14]  [66, 122]  [72, 109]  [97, 57]  [90, 28]  [43, 82]  [125, 90]  [80, 110]  [None, None]  [96, 57]  [114, 6]  [61, 57]  [123, 75]  [33, 9]  [63, 63]  [32, 81]  [103, 106]  [42, 64]  [1, 102]  [34, 28]  ()\n",
        "[104 113]  [3, 28]  [106, 106]  [103, 106]  [0, 85]  [45, 106]  [39, 85]  [47, 119]  [4, 69]  [87, 126]  [56, 111]  [0, 42]  [12, 37]  [39, 42]  [98, 104]  [100, 65]  [52, 65]  [79, 11]  [9, 19]  [50, 101]  [9, 108]  [45, 21]  [109, 14]  [18, 41]  [22, 64]  [4, 58]  [10, 0]  [34, 28]  [31, 5]  [17, 39]  [122, 117]  [90, 28]  [125, 90]  [112, 54]  [56, 16]  [100, 62]  [96, 57]  [97, 57]  [79, 116]  [67, 50]  [72, 109]  [86, 86]  [80, 110]  [15, 55]  [106, 21]  [61, 57]  [32, 81]  [102, 65]  [69, 91]  [70, 114]  [86, 41]  [30, 5]  [95, 53]  [2, 0]  [117, 90]  [1, 102]  [41, 14]  [63, 63]  [109, 113]  [123, 75]  [87, 1]  [66, 122]  [104, 14]  [50, 26]  [114, 6]  [62, 116]  [18, 86]  [63, 64]  [94, 79]  [12, 90]  [33, 118]  [19, 67]  [112, 73]  [58, 94]  [42, 63]  [125, 37]  [43, 45]  [113, 11]  [34, 99]  [123, 52]  [94, 48]  [61, 70]  [30, 122]  [22, 63]  [114, 121]  [70, 13]  [62, 11]  [95, 74]  [40, 112]  [52, 62]  [122, 10]  [47, 8]  [66, 5]  [17, 88]  [33, 9]  [42, 64]  [1, 25]  [116, 20]  [73, 27]  [90, 99]  [41, 113]  [80, 17]  [88, 42]  [32, 46]  [72, 18]  [98, 23]  [115, 0]  [73, 100]  [69, 36]  [3, 99]  [43, 82]  [103, 21]  [117, 37]  [23, 86]  [67, 77]  [116, 107]  [96, 70]  [None, None]  [88, 85]  [113, 116]  [15, 72]  [23, 41]  [40, 15]  [102, 62]  [97, 70]  [58, 33]  [31, 122]  [19, 60]  ()\n",
        "[106 21]  [22, 63]  [104, 14]  [40, 112]  [100, 62]  [66, 5]  [47, 119]  [33, 118]  [56, 111]  [23, 86]  [86, 41]  [39, 85]  [17, 88]  [0, 85]  [15, 55]  [0, 42]  [22, 64]  [102, 65]  [10, 0]  [109, 14]  [18, 86]  [2, 0]  [87, 126]  [9, 19]  [3, 99]  [103, 106]  [9, 108]  [42, 64]  [90, 28]  [12, 90]  [125, 37]  [125, 90]  [122, 10]  [86, 86]  [4, 58]  [97, 70]  [12, 37]  [100, 65]  [106, 106]  [117, 90]  [116, 107]  [56, 16]  [63, 63]  [41, 14]  [79, 11]  [52, 65]  [95, 74]  [114, 6]  [123, 75]  [112, 54]  [112, 73]  [70, 114]  [32, 46]  [45, 106]  [1, 102]  [72, 109]  [34, 28]  [97, 57]  [50, 26]  [95, 53]  [109, 113]  [45, 21]  [73, 27]  [62, 116]  [96, 57]  [61, 57]  [30, 5]  [80, 17]  [43, 45]  [96, 70]  [42, 63]  [69, 91]  [70, 13]  [19, 67]  [34, 99]  [90, 99]  [31, 5]  [122, 117]  [41, 113]  [69, 36]  [73, 100]  [62, 11]  [18, 41]  [52, 62]  [102, 62]  [30, 122]  [50, 101]  [123, 52]  [116, 20]  [61, 70]  [113, 116]  [39, 42]  [80, 110]  [98, 104]  [47, 8]  [33, 9]  [117, 37]  [72, 18]  [94, 79]  [31, 122]  [15, 72]  [66, 122]  [32, 81]  [88, 85]  [1, 25]  [17, 39]  [113, 11]  [104, 113]  [19, 60]  [67, 50]  [94, 48]  [4, 69]  [67, 77]  [58, 94]  [3, 28]  [40, 15]  [114, 121]  [88, 42]  [None, None]  [115, 0]  [98, 23]  [87, 1]  [103, 21]  [79, 116]  [63, 64]  [23, 41]  [43, 82]  [58, 33]  ()\n",
        "[109 113]  [12, 90]  [87, 126]  [33, 118]  [86, 41]  [18, 86]  [103, 106]  [40, 112]  [0, 85]  [73, 27]  [100, 62]  [4, 58]  [3, 99]  [56, 111]  [117, 90]  [56, 16]  [12, 37]  [62, 116]  [2, 0]  [106, 106]  [66, 5]  [10, 0]  [104, 14]  [45, 21]  [17, 88]  [47, 119]  [45, 106]  [116, 107]  [123, 75]  [22, 63]  [95, 74]  [95, 53]  [32, 46]  [100, 65]  [39, 85]  [112, 73]  [22, 64]  [86, 86]  [109, 14]  [15, 55]  [42, 64]  [0, 42]  [70, 114]  [1, 102]  [50, 26]  [96, 57]  [125, 37]  [61, 57]  [90, 28]  [97, 57]  [97, 70]  [63, 63]  [122, 10]  [9, 108]  [41, 14]  [34, 28]  [72, 109]  [112, 54]  [79, 11]  [125, 90]  [106, 21]  [9, 19]  [23, 86]  [102, 65]  [52, 65]  [114, 6]  [80, 110]  [30, 122]  [19, 67]  [52, 62]  [116, 20]  [31, 5]  [63, 64]  [43, 45]  [72, 18]  [123, 52]  [69, 91]  [32, 81]  [1, 25]  [31, 122]  [23, 41]  [102, 62]  [66, 122]  [96, 70]  [62, 11]  [80, 17]  [79, 116]  [90, 99]  [42, 63]  [114, 121]  [88, 85]  [4, 69]  [30, 5]  [67, 50]  [103, 21]  [40, 15]  [15, 72]  [34, 99]  [58, 94]  [69, 36]  [117, 37]  [18, 41]  [122, 117]  [113, 116]  [41, 113]  [3, 28]  [88, 42]  [87, 1]  [43, 82]  [98, 104]  [58, 33]  [39, 42]  [98, 23]  [94, 79]  [17, 39]  [33, 9]  [61, 70]  [113, 11]  [115, 0]  [None, None]  [67, 77]  [104, 113]  [47, 8]  [50, 101]  [70, 13]  [73, 100]  [19, 60]  [94, 48]  ()\n",
        "[112 73]  [122, 117]  [23, 41]  [31, 5]  [116, 20]  [61, 70]  [19, 67]  [69, 91]  [33, 118]  [104, 113]  [42, 63]  [58, 94]  [9, 108]  [40, 112]  [30, 5]  [23, 86]  [2, 0]  [30, 122]  [12, 90]  [94, 48]  [114, 121]  [22, 63]  [73, 100]  [17, 39]  [45, 106]  [43, 45]  [96, 70]  [86, 86]  [61, 57]  [32, 81]  [72, 109]  [52, 65]  [22, 64]  [104, 14]  [94, 79]  [72, 18]  [10, 0]  [87, 126]  [58, 33]  [80, 110]  [100, 65]  [73, 27]  [50, 101]  [70, 114]  [70, 13]  [45, 21]  [34, 28]  [18, 41]  [114, 6]  [106, 106]  [34, 99]  [79, 116]  [12, 37]  [52, 62]  [63, 63]  [97, 57]  [112, 54]  [109, 14]  [63, 64]  [96, 57]  [97, 70]  [3, 28]  [87, 1]  [80, 17]  [9, 19]  [66, 122]  [102, 62]  [117, 37]  [50, 26]  [95, 74]  [123, 75]  [102, 65]  [41, 113]  [79, 11]  [95, 53]  [116, 107]  [62, 116]  [1, 102]  [32, 46]  [33, 9]  [56, 111]  [31, 122]  [98, 23]  [125, 37]  [69, 36]  [15, 72]  [43, 82]  [42, 64]  [90, 28]  [90, 99]  [3, 99]  [103, 106]  [62, 11]  [18, 86]  [4, 58]  [56, 16]  [113, 116]  [125, 90]  [109, 113]  [40, 15]  [88, 85]  [67, 77]  [41, 14]  [17, 88]  [122, 10]  [88, 42]  [117, 90]  [86, 41]  [47, 8]  [66, 5]  [4, 69]  [47, 119]  [115, 0]  [106, 21]  [113, 11]  [0, 42]  [123, 52]  [15, 55]  [98, 104]  [67, 50]  [None, None]  [100, 62]  [39, 85]  [19, 60]  [1, 25]  [0, 85]  [103, 21]  [39, 42]  ()\n",
        "[113 11]  [4, 58]  [15, 72]  [9, 108]  [98, 104]  [0, 85]  [2, 0]  [45, 106]  [3, 99]  [67, 77]  [67, 50]  [45, 21]  [94, 48]  [17, 88]  [104, 113]  [66, 122]  [19, 60]  [125, 37]  [103, 21]  [1, 25]  [56, 111]  [47, 8]  [117, 37]  [40, 15]  [58, 33]  [10, 0]  [4, 69]  [102, 65]  [114, 121]  [39, 85]  [43, 45]  [102, 62]  [79, 116]  [30, 122]  [9, 19]  [15, 55]  [43, 82]  [80, 17]  [41, 113]  [87, 1]  [62, 116]  [18, 41]  [97, 70]  [106, 21]  [122, 117]  [69, 36]  [19, 67]  [90, 99]  [61, 70]  [70, 13]  [117, 90]  [112, 73]  [50, 101]  [39, 42]  [109, 113]  [50, 26]  [79, 11]  [63, 64]  [32, 81]  [62, 11]  [88, 42]  [33, 9]  [98, 23]  [95, 74]  [31, 122]  [123, 52]  [86, 41]  [34, 28]  [12, 90]  [47, 119]  [66, 5] "
       ]
      },
      {
       "output_type": "stream",
       "stream": "stdout",
       "text": [
        " [52, 62]  [1, 102]  [22, 63]  [80, 110]  [31, 5]  [96, 70]  [94, 79]  [63, 63]  [123, 75]  [113, 116]  [116, 20]  [116, 107]  [103, 106]  [42, 63]  [72, 109]  [72, 18]  [69, 91]  [18, 86]  [40, 112]  [106, 106]  [12, 37]  [100, 62]  [73, 100]  [96, 57]  [114, 6]  [112, 54]  [30, 5]  [17, 39]  [90, 28]  [97, 57]  [42, 64]  [58, 94]  [109, 14]  [70, 114]  [0, 42]  [73, 27]  [115, 0]  [95, 53]  [23, 41]  [122, 10]  [22, 64]  [86, 86]  [3, 28]  [56, 16]  [61, 57]  [33, 118]  [23, 86]  [87, 126]  [104, 14]  [100, 65]  [None, None]  [52, 65]  [34, 99]  [41, 14]  [88, 85]  [125, 90]  [32, 46]  ()\n",
        "[114 121]  [86, 41]  [2, 0]  [1, 102]  [125, 37]  [79, 11]  [15, 55]  [41, 14]  [32, 81]  [9, 108]  [95, 74]  [98, 104]  [94, 79]  [122, 117]  [31, 5]  [17, 88]  [23, 86]  [79, 116]  [87, 1]  [9, 19]  [50, 26]  [104, 113]  [10, 0]  [23, 41]  [58, 94]  [117, 90]  [109, 113]  [122, 10]  [97, 57]  [100, 62]  [34, 99]  [100, 65]  [0, 42]  [22, 64]  [67, 50]  [90, 99]  [73, 27]  [12, 37]  [45, 21]  [69, 91]  [32, 46]  [3, 99]  [114, 6]  [90, 28]  [102, 62]  [87, 126]  [72, 18]  [106, 106]  [112, 54]  [52, 65]  [123, 52]  [61, 57]  [56, 16]  [106, 21]  [123, 75]  [95, 53]  [125, 90]  [96, 57]  [62, 11]  [86, 86]  [61, 70]  [73, 100]  [45, 106]  [50, 101]  [104, 14]  [109, 14]  [62, 116]  [43, 82]  [80, 110]  [97, 70]  [34, 28]  [70, 114]  [69, 36]  [30, 5]  [42, 64]  [41, 113]  [63, 63]  [42, 63]  [33, 9]  [117, 37]  [12, 90]  [30, 122]  [58, 33]  [112, 73]  [80, 17]  [19, 60]  [18, 41]  [1, 25]  [72, 109]  [70, 13]  [39, 85]  [113, 11]  [102, 65]  [43, 45]  [115, 0]  [113, 116]  [103, 21]  [116, 107]  [66, 5]  [15, 72]  [47, 8]  [94, 48]  [116, 20]  [4, 58]  [40, 15]  [0, 85]  [33, 118]  [96, 70]  [67, 77]  [19, 67]  [17, 39]  [88, 42]  [4, 69]  [18, 86]  [56, 111]  [88, 85]  [63, 64]  [40, 112]  [103, 106]  [47, 119]  [39, 42]  [52, 62]  [None, None]  [66, 122]  [31, 122]  [22, 63]  [98, 23]  [3, 28]  ()\n",
        "[115 0]  [56, 16]  [41, 113]  [10, 0]  [17, 88]  [39, 42]  [45, 21]  [2, 0]  [22, 64]  [117, 37]  [3, 99]  [66, 122]  [43, 82]  [12, 37]  [73, 100]  [80, 17]  [69, 36]  [122, 117]  [40, 15]  [72, 18]  [4, 69]  [33, 9]  [1, 25]  [116, 107]  [19, 60]  [9, 19]  [103, 21]  [79, 11]  [96, 70]  [0, 42]  [94, 79]  [114, 121]  [102, 62]  [70, 13]  [18, 41]  [98, 104]  [31, 122]  [63, 64]  [34, 99]  [23, 41]  [50, 26]  [30, 122]  [100, 62]  [104, 113]  [113, 11]  [123, 52]  [58, 94]  [125, 37]  [52, 62]  [112, 73]  [67, 50]  [86, 41]  [62, 11]  [47, 8]  [87, 1]  [109, 113]  [106, 21]  [97, 70]  [88, 42]  [61, 70]  [None, None]  [42, 64]  [15, 72]  [32, 81]  [90, 99]  [95, 74]  [56, 111]  [41, 14]  [17, 39]  [39, 85]  [45, 106]  [22, 63]  [117, 90]  [3, 28]  [66, 5]  [43, 45]  [12, 90]  [73, 27]  [80, 110]  [69, 91]  [122, 10]  [40, 112]  [72, 109]  [4, 58]  [33, 118]  [1, 102]  [116, 20]  [19, 67]  [9, 108]  [103, 106]  [79, 116]  [96, 57]  [0, 85]  [94, 48]  [114, 6]  [102, 65]  [70, 114]  [18, 86]  [98, 23]  [31, 5]  [63, 63]  [34, 28]  [23, 86]  [50, 101]  [30, 5]  [100, 65]  [104, 14]  [113, 116]  [123, 75]  [58, 33]  [125, 90]  [52, 65]  [112, 54]  [67, 77]  [86, 86]  [62, 116]  [47, 119]  [87, 126]  [109, 14]  [106, 106]  [97, 57]  [88, 85]  [61, 57]  [42, 63]  [15, 55]  [32, 46]  [90, 28]  [95, 53]  ()\n",
        "[116 107]  [90, 28]  [32, 81]  [79, 116]  [112, 54]  [1, 25]  [62, 11]  [50, 101]  [63, 63]  [125, 37]  [97, 57]  [61, 70]  [112, 73]  [70, 114]  [30, 122]  [52, 62]  [100, 62]  [103, 21]  [42, 63]  [113, 11]  [41, 113]  [116, 20]  [122, 117]  [33, 118]  [97, 70]  [102, 62]  [34, 99]  [10, 0]  [58, 33]  [123, 75]  [52, 65]  [23, 41]  [87, 1]  [12, 90]  [114, 121]  [86, 86]  [86, 41]  [22, 63]  [88, 42]  [80, 17]  [2, 0]  [96, 70]  [67, 77]  [18, 41]  [40, 15]  [0, 85]  [96, 57]  [4, 69]  [94, 48]  [17, 39]  [100, 65]  [98, 23]  [104, 113]  [72, 18]  [66, 122]  [45, 21]  [9, 19]  [3, 28]  [33, 9]  [73, 100]  [42, 64]  [40, 112]  [95, 74]  [47, 8]  [56, 111]  [39, 42]  [15, 72]  [4, 58]  [69, 36]  [95, 53]  [109, 14]  [43, 82]  [0, 42]  [31, 122]  [87, 126]  [22, 64]  [19, 60]  [61, 57]  [23, 86]  [17, 88]  [1, 102]  [113, 116]  [47, 119]  [125, 90]  [88, 85]  [39, 85]  [115, 0]  [12, 37]  [106, 106]  [122, 10]  [109, 113]  [30, 5]  [117, 37]  [70, 13]  [18, 86]  [9, 108]  [94, 79]  [104, 14]  [123, 52]  [3, 99]  [58, 94]  [103, 106]  [114, 6]  [106, 21]  [73, 27]  [69, 91]  [62, 116]  [72, 109]  [98, 104]  [63, 64]  [117, 90]  [80, 110]  [43, 45]  [90, 99]  [31, 5]  [45, 106]  [32, 46]  [102, 65]  [79, 11]  [50, 26]  [19, 67]  [34, 28]  [66, 5]  [None, None]  [56, 16]  [41, 14]  [67, 50]  [15, 55]  ()\n",
        "[117 37]  [42, 64]  [112, 73]  [96, 57]  [32, 46]  [19, 60]  [61, 57]  [52, 65]  [125, 90]  [63, 64]  [122, 10]  [62, 116]  [62, 11]  [95, 53]  [109, 14]  [50, 26]  [114, 121]  [3, 28]  [90, 99]  [100, 62]  [43, 82]  [123, 52]  [97, 70]  [125, 37]  [102, 62]  [114, 6]  [31, 122]  [58, 94]  [10, 0]  [116, 107]  [56, 16]  [9, 108]  [18, 86]  [106, 21]  [102, 65]  [88, 85]  [61, 70]  [109, 113]  [86, 41]  [106, 106]  [94, 79]  [79, 11]  [23, 41]  [87, 126]  [67, 77]  [96, 70]  [0, 42]  [22, 63]  [2, 0]  [104, 113]  [113, 116]  [73, 100]  [66, 5]  [69, 36]  [104, 14]  [73, 27]  [23, 86]  [87, 1]  [98, 23]  [45, 106]  [15, 72]  [95, 74]  [70, 13]  [17, 39]  [52, 62]  [12, 90]  [94, 48]  [88, 42]  [18, 41]  [40, 15]  [22, 64]  [45, 21]  [115, 0]  [66, 122]  [3, 99]  [4, 58]  [9, 19]  [86, 86]  [67, 50]  [47, 119]  [72, 18]  [39, 42]  [122, 117]  [33, 9]  [4, 69]  [113, 11]  [0, 85]  [39, 85]  [12, 37]  [47, 8]  [30, 5]  [123, 75]  [58, 33]  [50, 101]  [69, 91]  [19, 67]  [15, 55]  [17, 88]  [30, 122]  [103, 106]  [117, 90]  [32, 81]  [100, 65]  [80, 110]  [98, 104]  [72, 109]  [112, 54]  [1, 25]  [33, 118]  [79, 116]  [116, 20]  [90, 28]  [41, 14]  [80, 17]  [34, 28]  [43, 45]  [103, 21]  [97, 57]  [63, 63]  [70, 114]  [1, 102]  [41, 113]  [31, 5]  [56, 111]  [None, None]  [34, 99]  [40, 112]  [42, 63]  ()\n",
        "[122 117]  [103, 106]  [98, 23]  [18, 86]  [15, 55]  [100, 62]  [45, 106]  [66, 5]  [67, 50]  [3, 28]  [117, 90]  [2, 0]  [73, 100]  [98, 104]  [106, 21]  [45, 21]  [58, 33]  [90, 99]  [4, 69]  [117, 37]  [86, 41]  [39, 42]  [67, 77]  [103, 21]  [23, 41]  [9, 108]  [56, 111]  [114, 6]  [102, 62]  [47, 119]  [31, 5]  [79, 116]  [106, 106]  [18, 41]  [10, 0]  [41, 14]  [94, 48]  [66, 122]  [15, 72]  [109, 113]  [61, 57]  [9, 19]  [63, 64]  [79, 11]  [125, 37]  [19, 60]  [69, 91]  [31, 122]  [62, 11]  [30, 122]  [1, 102]  [70, 13]  [109, 14]  [0, 85]  [50, 26]  [62, 116]  [102, 65]  [80, 17]  [95, 74]  [50, 101]  [32, 81]  [47, 8]  [17, 39]  [123, 52]  [43, 82]  [69, 36]  [112, 73]  [42, 64]  [96, 70]  [33, 118]  [80, 110]  [61, 70]  [72, 109]  [52, 62]  [63, 63]  [90, 28]  [114, 121]  [43, 45]  [97, 57]  [95, 53]  [115, 0]  [72, 18]  [40, 15]  [40, 112]  [34, 99]  [116, 107]  [1, 25]  [123, 75]  [30, 5]  [116, 20]  [104, 14]  [17, 88]  [97, 70]  [104, 113]  [12, 37]  [96, 57]  [86, 86]  [70, 114]  [12, 90]  [125, 90]  [100, 65]  [33, 9]  [19, 67]  [87, 126]  [112, 54]  [39, 85]  [94, 79]  [113, 11]  [32, 46]  [87, 1]  [113, 116]  [3, 99]  [56, 16]  [22, 63]  [4, 58]  [52, 65]  [42, 63]  [58, 94]  [23, 86]  [73, 27]  [0, 42]  [88, 42]  [22, 64]  [41, 113]  [34, 28]  [None, None]  [122, 10]  [88, 85]  ()\n",
        "[123 52]  [42, 63]  [22, 63]  [63, 63]  [72, 109]  [70, 13]  [30, 5]  [70, 114]  [41, 14]  [96, 70]  [34, 28]  [18, 86]  [109, 113]  [1, 102]  [62, 116]  [9, 108]  [104, 113]  [19, 60]  [100, 62]  [17, 39]  [63, 64]  [86, 41]  [12, 90]  [0, 85]  [106, 21]  [80, 110]  [97, 70]  [22, 64]  [109, 14]  [116, 20]  [95, 53]  [87, 126]  [23, 86]  [2, 0]  [66, 5]  [116, 107]  [87, 1]  [10, 0]  [3, 28]  [102, 65]  [12, 37]  [45, 106]  [18, 41]  [61, 57]  [69, 36]  [73, 100]  [125, 90]  [58, 33]  [106, 106]  [45, 21]  [42, 64]  [66, 122]  [73, 27]  [112, 73]  [114, 6]  [96, 57]  [52, 65]  [9, 19]  [31, 122]  [104, 14]  [90, 99]  [56, 111]  [52, 62]  [43, 82]  [23, 41]  [94, 48]  [80, 17]  [103, 21]  [62, 11]  [72, 18]  [112, 54]  [79, 116]  [33, 9]  [102, 62]  [86, 86]  [32, 46]  [50, 101]  [123, 75]  [56, 16]  [113, 116]  [32, 81]  [15, 72]  [39, 42]  [34, 99]  [117, 37]  [47, 8]  [98, 23]  [122, 10]  [97, 57]  [41, 113]  [58, 94]  [117, 90]  [30, 122]  [50, 26]  [67, 50]  [3, 99]  [39, 85]  [100, 65]  [61, 70]  [88, 85]  [4, 58]  [4, 69]  [90, 28]  [94, 79]  [0, 42]  [40, 112]  [69, 91]  [95, 74]  [115, 0]  [79, 11]  [88, 42]  [15, 55]  [47, 119]  [114, 121]  [33, 118]  [17, 88]  [1, 25]  [31, 5]  [43, 45]  [19, 67]  [103, 106]  [125, 37]  [98, 104]  [67, 77]  [40, 15]  [122, 117]  [None, None]  [113, 11]  ()\n",
        "[125 37]  [40, 112]  [17, 39]  [30, 5]  [41, 14]  [97, 70]  [66, 5]  [80, 110]  [117, 90]  [22, 63]  [1, 102]  [45, 106]  [104, 113]  [15, 55]  [79, 11]  [2, 0]  [23, 41]  [31, 122]  [56, 111]  [67, 77]  [112, 73]  [0, 85]  [3, 28]  [4, 69]  [87, 1]  [18, 86]  [86, 41]  [96, 57]  [79, 116]  [33, 118]  [90, 28]  [106, 106]  [104, 14]  [9, 19]  [9, 108]  [34, 28]  [73, 100]  [45, 21]  [98, 23]  [50, 26]  [52, 65]  [10, 0]  [80, 17]  [102, 65]  [90, 99]  [58, 33]  [123, 75]  [43, 82]  [50, 101]  [18, 41]  [72, 109]  [30, 122]  [87, 126]  [100, 62]  [62, 116]  [61, 57]  [114, 6]  [66, 122]  [123, 52]  [109, 14]  [95, 74]  [39, 42]  [12, 90]  [69, 36]  [94, 48]  [19, 60]  [70, 13]  [33, 9]  [114, 121]  [42, 63]  [63, 63]  [62, 11]  [116, 107]  [61, 70]  [97, 57]  [125, 90]  [102, 62]  [31, 5]  [100, 65]  [32, 46]  [113, 11]  [1, 25]  [103, 21]  [116, 20]  [41, 113]  [40, 15]  [117, 37]  [95, 53]  [70, 114]  [72, 18]  [73, 27]  [98, 104]  [63, 64]  [106, 21]  [17, 88]  [12, 37]  [56, 16]  [112, 54]  [96, 70]  [122, 10]  [0, 42]  [47, 8]  [69, 91]  [23, 86]  [86, 86]  [47, 119]  [43, 45]  [122, 117]  [88, 85]  [109, 113]  [115, 0]  [67, 50]  [4, 58]  [52, 62]  [103, 106]  [22, 64]  [34, 99]  [19, 67]  [58, 94]  [94, 79]  [39, 85]  [32, 81]  [3, 99]  [15, 72]  [42, 64]  [88, 42]  [113, 116]  [None, None]  ()\n",
        "[0 85]  [None, None]  [43, 82]  [58, 94]  [47, 119]  [12, 90]  [73, 27]  [94, 79]  [4, 58]  [58, 33]  [103, 106]  [104, 14]  [45, 21]  [39, 85]  [45, 106]  [106, 106]  [18, 41]  [97, 70]  [67, 77]  [69, 36]  [22, 63]  [98, 23]  [19, 60]  [117, 37]  [9, 19]  [23, 86]  [3, 28]  [63, 63]  [79, 11]  [115, 0]  [15, 55]  [102, 65]  [114, 6]  [50, 101]  [87, 126]  [33, 118]  [66, 122]  [79, 116]  [31, 122]  [9, 108]  [70, 114]  [109, 14]  [114, 121]  [66, 5]  [100, 62]  [30, 122]  [117, 90]  [63, 64]  [50, 26]  [62, 11]  [40, 112]  [61, 70]  [61, 57]  [17, 39]  [18, 86]  [30, 5]  [80, 110]  [102, 62]  [86, 41]  [62, 116]  [56, 111]  [15, 72]  [94, 48]  [112, 73]  [80, 17]  [70, 13]  [52, 62]  [34, 99]  [104, 113]  [113, 11]  [43, 45]  [109, 113]  [116, 20]  [87, 1]  [31, 5]  [41, 14]  [106, 21]  [98, 104]  [90, 28]  [72, 109]  [47, 8]  [95, 74]  [1, 25]  [88, 42]  [125, 37]  [72, 18]  [123, 52]  [1, 102]  [19, 67]  [32, 81]  [96, 57]  [0, 42]  [96, 70]  [2, 0]  "
       ]
      },
      {
       "output_type": "stream",
       "stream": "stdout",
       "text": [
        "[100, 65]  [97, 57]  [95, 53]  [69, 91]  [73, 100]  [34, 28]  [125, 90]  [41, 113]  [67, 50]  [52, 65]  [123, 75]  [113, 116]  [17, 88]  [39, 42]  [116, 107]  [10, 0]  [33, 9]  [56, 16]  [32, 46]  [23, 41]  [88, 85]  [112, 54]  [122, 117]  [3, 99]  [22, 64]  [12, 37]  [122, 10]  [4, 69]  [86, 86]  [90, 99]  [42, 63]  [103, 21]  [42, 64]  [40, 15]  ()\n",
        "[1 102]  [43, 45]  [None, None]  [114, 121]  [30, 5]  [116, 20]  [52, 62]  [61, 70]  [66, 5]  [113, 11]  [80, 110]  [22, 63]  [56, 111]  [18, 86]  [112, 73]  [3, 28]  [39, 42]  [116, 107]  [47, 119]  [113, 116]  [42, 63]  [103, 106]  [115, 0]  [39, 85]  [0, 85]  [96, 70]  [33, 118]  [18, 41]  [69, 36]  [19, 67]  [62, 116]  [19, 60]  [58, 33]  [98, 23]  [12, 90]  [70, 114]  [4, 69]  [67, 77]  [88, 85]  [97, 70]  [66, 122]  [17, 39]  [1, 25]  [70, 13]  [72, 109]  [47, 8]  [102, 65]  [40, 15]  [31, 122]  [15, 72]  [63, 63]  [41, 113]  [94, 48]  [40, 112]  [63, 64]  [80, 17]  [30, 122]  [117, 37]  [34, 28]  [43, 82]  [41, 14]  [4, 58]  [88, 42]  [42, 64]  [103, 21]  [33, 9]  [34, 99]  [86, 86]  [95, 74]  [69, 91]  [62, 11]  [90, 99]  [97, 57]  [125, 37]  [50, 101]  [61, 57]  [123, 52]  [50, 26]  [109, 14]  [96, 57]  [67, 50]  [125, 90]  [0, 42]  [31, 5]  [95, 53]  [100, 65]  [122, 10]  [114, 6]  [102, 62]  [90, 28]  [23, 41]  [9, 108]  [72, 18]  [86, 41]  [10, 0]  [9, 19]  [104, 14]  [79, 116]  [32, 81]  [52, 65]  [87, 126]  [56, 16]  [79, 11]  [73, 100]  [106, 106]  [58, 94]  [109, 113]  [117, 90]  [12, 37]  [100, 62]  [3, 99]  [45, 106]  [73, 27]  [122, 117]  [94, 79]  [45, 21]  [123, 75]  [106, 21]  [104, 113]  [87, 1]  [23, 86]  [15, 55]  [2, 0]  [32, 46]  [112, 54]  [98, 104]  [22, 64]  [17, 88]  ()\n",
        "[3 28]  [47, 8]  [30, 122]  [17, 88]  [None, None]  [23, 41]  [22, 64]  [3, 99]  [113, 116]  [66, 122]  [115, 0]  [52, 65]  [109, 14]  [88, 85]  [23, 86]  [61, 57]  [79, 116]  [52, 62]  [43, 82]  [63, 64]  [73, 100]  [19, 60]  [80, 17]  [31, 122]  [106, 106]  [12, 37]  [94, 48]  [69, 91]  [18, 86]  [103, 21]  [103, 106]  [30, 5]  [70, 114]  [102, 65]  [96, 57]  [88, 42]  [50, 101]  [62, 116]  [70, 13]  [73, 27]  [31, 5]  [114, 6]  [109, 113]  [58, 94]  [22, 63]  [102, 62]  [47, 119]  [61, 70]  [66, 5]  [79, 11]  [113, 11]  [106, 21]  [63, 63]  [58, 33]  [94, 79]  [43, 45]  [19, 67]  [50, 26]  [12, 90]  [80, 110]  [17, 39]  [69, 36]  [18, 41]  [96, 70]  [62, 11]  [114, 121]  [104, 113]  [95, 74]  [10, 0]  [4, 69]  [67, 50]  [45, 106]  [122, 117]  [2, 0]  [117, 90]  [40, 112]  [9, 108]  [4, 58]  [1, 102]  [42, 63]  [117, 37]  [100, 62]  [90, 99]  [39, 42]  [86, 41]  [125, 37]  [97, 70]  [33, 118]  [98, 104]  [0, 85]  [112, 54]  [32, 46]  [87, 1]  [87, 126]  [95, 53]  [123, 75]  [34, 28]  [15, 55]  [9, 19]  [116, 20]  [72, 109]  [123, 52]  [39, 85]  [97, 57]  [41, 14]  [40, 15]  [56, 16]  [67, 77]  [34, 99]  [104, 14]  [1, 25]  [122, 10]  [42, 64]  [45, 21]  [33, 9]  [90, 28]  [56, 111]  [0, 42]  [100, 65]  [86, 86]  [116, 107]  [98, 23]  [125, 90]  [112, 73]  [32, 81]  [15, 72]  [72, 18]  [41, 113]  ()\n",
        "[4 58]  [12, 37]  [116, 107]  [73, 100]  [23, 86]  [None, None]  [58, 33]  [23, 41]  [104, 14]  [33, 9]  [73, 27]  [19, 60]  [117, 37]  [87, 126]  [3, 28]  [69, 36]  [41, 113]  [40, 112]  [122, 10]  [34, 28]  [115, 0]  [32, 46]  [42, 64]  [125, 90]  [15, 72]  [94, 48]  [113, 116]  [61, 70]  [86, 41]  [22, 64]  [9, 108]  [112, 73]  [70, 13]  [90, 99]  [43, 82]  [58, 94]  [1, 25]  [123, 52]  [72, 109]  [17, 39]  [114, 121]  [31, 122]  [32, 81]  [22, 63]  [103, 106]  [34, 99]  [45, 106]  [116, 20]  [100, 62]  [125, 37]  [94, 79]  [122, 117]  [63, 64]  [88, 85]  [12, 90]  [96, 70]  [52, 62]  [95, 74]  [47, 119]  [97, 70]  [39, 85]  [95, 53]  [40, 15]  [33, 118]  [72, 18]  [42, 63]  [113, 11]  [69, 91]  [4, 69]  [3, 99]  [87, 1]  [0, 85]  [43, 45]  [39, 42]  [109, 113]  [18, 86]  [56, 111]  [10, 0]  [50, 26]  [80, 110]  [86, 86]  [15, 55]  [90, 28]  [17, 88]  [117, 90]  [31, 5]  [41, 14]  [66, 5]  [104, 113]  [98, 104]  [30, 122]  [109, 14]  [88, 42]  [67, 77]  [50, 101]  [62, 11]  [102, 65]  [106, 21]  [103, 21]  [30, 5]  [62, 116]  [123, 75]  [2, 0]  [80, 17]  [79, 11]  [52, 65]  [9, 19]  [56, 16]  [63, 63]  [98, 23]  [112, 54]  [106, 106]  [114, 6]  [47, 8]  [96, 57]  [102, 62]  [67, 50]  [45, 21]  [66, 122]  [18, 41]  [61, 57]  [0, 42]  [79, 116]  [1, 102]  [19, 67]  [100, 65]  [70, 114]  [97, 57]  ()\n",
        "[9 108]  [73, 100]  [52, 65]  [113, 11]  [22, 63]  [58, 94]  [None, None]  [88, 42]  [17, 39]  [12, 37]  [12, 90]  [88, 85]  [56, 16]  [3, 28]  [103, 106]  [32, 46]  [100, 65]  [30, 5]  [104, 14]  [114, 6]  [94, 79]  [87, 126]  [96, 57]  [106, 106]  [0, 42]  [115, 0]  [73, 27]  [72, 18]  [1, 102]  [23, 41]  [86, 41]  [72, 109]  [116, 107]  [125, 90]  [113, 116]  [52, 62]  [86, 86]  [95, 53]  [61, 57]  [47, 119]  [34, 99]  [122, 10]  [69, 91]  [40, 112]  [18, 86]  [97, 57]  [100, 62]  [70, 114]  [41, 14]  [90, 28]  [96, 70]  [31, 5]  [42, 64]  [23, 86]  [33, 118]  [42, 63]  [116, 20]  [123, 75]  [66, 5]  [34, 28]  [45, 106]  [109, 14]  [22, 64]  [80, 110]  [112, 54]  [63, 63]  [43, 45]  [62, 11]  [67, 50]  [87, 1]  [32, 81]  [15, 55]  [114, 121]  [98, 104]  [95, 74]  [112, 73]  [117, 90]  [56, 111]  [123, 52]  [63, 64]  [9, 19]  [79, 11]  [79, 116]  [104, 113]  [50, 26]  [102, 62]  [102, 65]  [97, 70]  [122, 117]  [106, 21]  [40, 15]  [67, 77]  [19, 67]  [4, 58]  [117, 37]  [1, 25]  [31, 122]  [125, 37]  [3, 99]  [70, 13]  [69, 36]  [50, 101]  [0, 85]  [33, 9]  [90, 99]  [58, 33]  [4, 69]  [10, 0]  [80, 17]  [39, 85]  [18, 41]  [98, 23]  [43, 82]  [17, 88]  [94, 48]  [41, 113]  [109, 113]  [39, 42]  [47, 8]  [103, 21]  [19, 60]  [2, 0]  [15, 72]  [62, 116]  [61, 70]  [45, 21]  [30, 122]  [66, 122]  ()\n",
        "[12 90]  [4, 69]  [66, 122]  [67, 50]  [113, 11]  [104, 113]  [17, 88]  [98, 104]  [None, None]  [9, 19]  [88, 42]  [12, 37]  [104, 14]  [115, 0]  [94, 79]  [96, 57]  [109, 14]  [114, 121]  [58, 33]  [30, 122]  [87, 1]  [94, 48]  [18, 41]  [19, 60]  [87, 126]  [3, 99]  [23, 41]  [90, 28]  [80, 110]  [39, 42]  [33, 118]  [63, 63]  [97, 57]  [61, 57]  [22, 64]  [122, 117]  [106, 106]  [114, 6]  [80, 17]  [58, 94]  [123, 75]  [52, 65]  [79, 11]  [43, 45]  [96, 70]  [50, 101]  [40, 112]  [102, 62]  [30, 5]  [62, 116]  [32, 81]  [50, 26]  [112, 54]  [73, 100]  [19, 67]  [69, 91]  [31, 5]  [102, 65]  [52, 62]  [70, 114]  [22, 63]  [43, 82]  [45, 21]  [61, 70]  [79, 116]  [62, 11]  [109, 113]  [90, 99]  [45, 106]  [0, 85]  [15, 55]  [18, 86]  [95, 74]  [9, 108]  [41, 14]  [42, 63]  [66, 5]  [47, 119]  [34, 28]  [72, 18]  [98, 23]  [112, 73]  [69, 36]  [56, 111]  [97, 70]  [123, 52]  [70, 13]  [116, 20]  [117, 90]  [86, 41]  [100, 65]  [113, 116]  [106, 21]  [73, 27]  [122, 10]  [125, 90]  [116, 107]  [1, 102]  [2, 0]  [34, 99]  [42, 64]  [31, 122]  [103, 106]  [86, 86]  [72, 109]  [47, 8]  [39, 85]  [17, 39]  [1, 25]  [23, 86]  [15, 72]  [88, 85]  [40, 15]  [10, 0]  [103, 21]  [95, 53]  [100, 62]  [4, 58]  [56, 16]  [0, 42]  [33, 9]  [3, 28]  [32, 46]  [63, 64]  [125, 37]  [67, 77]  [41, 113]  [117, 37]  ()\n",
        "[15 55]  [58, 94]  [113, 116]  [52, 62]  [66, 5]  [33, 118]  [12, 90]  [96, 70]  [9, 108]  [None, None]  [18, 86]  [17, 39]  [39, 42]  [45, 106]  [100, 62]  [98, 23]  [103, 21]  [34, 28]  [4, 58]  [32, 46]  [40, 112]  [39, 85]  [88, 85]  [56, 16]  [4, 69]  [22, 63]  [103, 106]  [80, 17]  [90, 99]  [94, 79]  [79, 11]  [31, 122]  [43, 82]  [117, 37]  [3, 28]  [80, 110]  [47, 8]  [15, 72]  [122, 10]  [86, 41]  [30, 122]  [67, 77]  [34, 99]  [97, 70]  [41, 14]  [40, 15]  [50, 26]  [42, 64]  [123, 52]  [1, 25]  [30, 5]  [72, 18]  [19, 60]  [47, 119]  [112, 73]  [70, 13]  [63, 64]  [41, 113]  [1, 102]  [69, 36]  [117, 90]  [0, 42]  [115, 0]  [72, 109]  [33, 9]  [116, 107]  [116, 20]  [97, 57]  [122, 117]  [43, 45]  [114, 121]  [95, 74]  [70, 114]  [32, 81]  [102, 62]  [102, 65]  [125, 37]  [106, 21]  [79, 116]  [61, 57]  [17, 88]  [123, 75]  [86, 86]  [19, 67]  [90, 28]  [112, 54]  [95, 53]  [62, 116]  [61, 70]  [69, 91]  [94, 48]  [2, 0]  [42, 63]  [0, 85]  [45, 21]  [66, 122]  [109, 14]  [62, 11]  [113, 11]  [114, 6]  [106, 106]  [100, 65]  [109, 113]  [58, 33]  [50, 101]  [73, 27]  [104, 113]  [98, 104]  [52, 65]  [56, 111]  [12, 37]  [10, 0]  [87, 126]  [88, 42]  [23, 86]  [18, 41]  [31, 5]  [87, 1]  [23, 41]  [73, 100]  [104, 14]  [67, 50]  [9, 19]  [125, 90]  [63, 63]  [3, 99]  [96, 57]  [22, 64]  ()\n",
        "[17 39]  [103, 21]  [80, 17]  [3, 99]  [115, 0]  [73, 100]  [12, 37]  [17, 88]  [88, 85]  [18, 41]  [None, None]  [96, 57]  [106, 106]  [113, 116]  [73, 27]  [114, 6]  [50, 101]  [96, 70]  [19, 60]  [70, 13]  [23, 41]  [43, 82]  [30, 122]  [69, 36]  [109, 14]  [22, 64]  [58, 33]  [31, 5]  [66, 5]  [47, 8]  [47, 119]  [80, 110]  [63, 63]  [62, 116]  [52, 65]  [113, 11]  [79, 116]  [102, 65]  [63, 64]  [23, 86]  [69, 91]  [61, 57]  [106, 21]  [94, 79]  [12, 90]  [62, 11]  [103, 106]  [114, 121]  [18, 86]  [50, 26]  [88, 42]  [109, 113]  [70, 114]  [94, 48]  [58, 94]  [19, 67]  [43, 45]  [79, 11]  [22, 63]  [30, 5]  [3, 28]  [31, 122]  [66, 122]  [52, 62]  [102, 62]  [61, 70]  [87, 1]  [125, 37]  [2, 0]  [39, 42]  [98, 104]  [9, 108]  [32, 81]  [10, 0]  [15, 55]  [33, 118]  [45, 106]  [39, 85]  [41, 14]  [116, 20]  [15, 72]  [86, 41]  [123, 52]  [4, 69]  [100, 62]  [95, 74]  [112, 73]  [40, 112]  [67, 50]  [56, 111]  [97, 57]  [122, 10]  [104, 113]  [104, 14]  [125, 90]  [90, 28]  [72, 109]  [117, 90]  [45, 21]  [42, 63]  [34, 28]  [90, 99]  [4, 58]  [112, 54]  [1, 102]  [33, 9]  [0, 42]  [98, 23]  [72, 18]  [87, 126]  [41, 113]  [32, 46]  [116, 107]  [9, 19]  [40, 15]  [123, 75]  [0, 85]  [56, 16]  [86, 86]  [100, 65]  [42, 64]  [67, 77]  [95, 53]  [97, 70]  [122, 117]  [117, 37]  [34, 99]  [1, 25]  ()\n",
        "[18 86]  [104, 113]  [22, 64]  [122, 117]  [52, 62]  [19, 67]  [88, 42]  [32, 81]  [12, 90]  [17, 88]  [96, 70]  [None, None]  [4, 58]  [22, 63]  [40, 112]  [88, 85]  [0, 42]  [70, 114]  [73, 27]  [96, 57]  [43, 45]  [23, 86]  [12, 37]  [104, 14]  [39, 85]  [113, 11]  [94, 79]  [1, 25]  [72, 109]  [87, 1]  [112, 73]  [116, 107]  [40, 15]  [122, 10]  [115, 0]  [61, 70]  [56, 16]  [32, 46]  [52, 65]  [33, 118]  [41, 113]  [113, 116]  [123, 75]  [116, 20]  [30, 5]  [100, 65]  [97, 70]  [112, 54]  "
       ]
      },
      {
       "output_type": "stream",
       "stream": "stdout",
       "text": [
        "[34, 28]  [125, 90]  [114, 121]  [90, 28]  [33, 9]  [58, 94]  [42, 63]  [34, 99]  [72, 18]  [95, 53]  [80, 110]  [42, 64]  [66, 5]  [87, 126]  [3, 99]  [63, 63]  [86, 86]  [97, 57]  [31, 5]  [50, 101]  [117, 90]  [109, 113]  [95, 74]  [41, 14]  [102, 62]  [15, 55]  [123, 52]  [70, 13]  [1, 102]  [86, 41]  [69, 36]  [80, 17]  [10, 0]  [102, 65]  [106, 106]  [106, 21]  [62, 116]  [79, 116]  [114, 6]  [63, 64]  [125, 37]  [79, 11]  [103, 21]  [3, 28]  [69, 91]  [103, 106]  [67, 77]  [117, 37]  [43, 82]  [90, 99]  [67, 50]  [30, 122]  [19, 60]  [109, 14]  [100, 62]  [47, 8]  [31, 122]  [23, 41]  [56, 111]  [9, 108]  [66, 122]  [47, 119]  [9, 19]  [17, 39]  [94, 48]  [98, 104]  [73, 100]  [15, 72]  [50, 26]  [0, 85]  [39, 42]  [4, 69]  [58, 33]  [45, 106]  [98, 23]  [61, 57]  [62, 11]  [2, 0]  [18, 41]  [45, 21]  ()\n",
        "[19 67]  [45, 106]  [56, 16]  [100, 62]  [109, 113]  [117, 90]  [56, 111]  [86, 41]  [104, 113]  [39, 85]  [106, 21]  [4, 69]  [None, None]  [87, 1]  [32, 81]  [103, 21]  [113, 116]  [123, 75]  [17, 88]  [100, 65]  [15, 55]  [3, 99]  [0, 42]  [12, 37]  [115, 0]  [0, 85]  [98, 104]  [69, 36]  [72, 18]  [9, 108]  [61, 70]  [1, 25]  [117, 37]  [33, 9]  [39, 42]  [50, 26]  [88, 85]  [40, 15]  [86, 86]  [122, 117]  [31, 122]  [47, 8]  [72, 109]  [95, 74]  [69, 91]  [122, 10]  [114, 121]  [95, 53]  [34, 99]  [42, 64]  [79, 11]  [34, 28]  [15, 72]  [67, 50]  [125, 37]  [90, 99]  [123, 52]  [116, 107]  [31, 5]  [41, 113]  [43, 45]  [22, 64]  [4, 58]  [90, 28]  [32, 46]  [125, 90]  [41, 14]  [61, 57]  [40, 112]  [18, 86]  [112, 73]  [42, 63]  [102, 65]  [33, 118]  [70, 13]  [62, 11]  [116, 20]  [52, 62]  [30, 122]  [79, 116]  [23, 86]  [63, 63]  [96, 57]  [66, 5]  [70, 114]  [114, 6]  [97, 57]  [102, 62]  [97, 70]  [80, 110]  [67, 77]  [23, 41]  [1, 102]  [88, 42]  [58, 33]  [19, 60]  [66, 122]  [63, 64]  [103, 106]  [50, 101]  [18, 41]  [52, 65]  [96, 70]  [98, 23]  [80, 17]  [10, 0]  [22, 63]  [58, 94]  [106, 106]  [113, 11]  [87, 126]  [73, 100]  [45, 21]  [47, 119]  [2, 0]  [43, 82]  [30, 5]  [12, 90]  [17, 39]  [3, 28]  [9, 19]  [94, 79]  [94, 48]  [112, 54]  [62, 116]  [73, 27]  [109, 14]  [104, 14]  ()\n",
        "[22 63]  [39, 42]  [18, 41]  [98, 104]  [88, 42]  [87, 1]  [3, 99]  [67, 50]  [115, 0]  [45, 21]  [113, 11]  [22, 64]  [87, 126]  [None, None]  [58, 94]  [52, 65]  [106, 106]  [61, 70]  [94, 48]  [80, 17]  [104, 113]  [58, 33]  [66, 122]  [43, 82]  [104, 14]  [17, 88]  [73, 100]  [123, 75]  [30, 5]  [4, 69]  [40, 112]  [70, 114]  [112, 54]  [114, 6]  [12, 37]  [32, 81]  [109, 14]  [61, 57]  [30, 122]  [94, 79]  [90, 28]  [96, 57]  [50, 26]  [19, 67]  [52, 62]  [79, 116]  [33, 118]  [62, 11]  [80, 110]  [102, 65]  [122, 117]  [79, 11]  [97, 57]  [23, 41]  [43, 45]  [31, 5]  [69, 91]  [62, 116]  [96, 70]  [63, 63]  [12, 90]  [19, 60]  [9, 19]  [114, 121]  [50, 101]  [102, 62]  [106, 21]  [123, 52]  [9, 108]  [56, 111]  [117, 90]  [66, 5]  [125, 37]  [45, 106]  [1, 102]  [116, 20]  [18, 86]  [103, 106]  [72, 109]  [34, 99]  [67, 77]  [97, 70]  [31, 122]  [0, 85]  [112, 73]  [90, 99]  [63, 64]  [42, 63]  [15, 55]  [100, 62]  [86, 86]  [88, 85]  [109, 113]  [23, 86]  [32, 46]  [95, 53]  [42, 64]  [41, 14]  [10, 0]  [72, 18]  [116, 107]  [69, 36]  [47, 119]  [100, 65]  [34, 28]  [103, 21]  [4, 58]  [3, 28]  [41, 113]  [73, 27]  [117, 37]  [113, 116]  [33, 9]  [2, 0]  [47, 8]  [125, 90]  [86, 41]  [39, 85]  [0, 42]  [56, 16]  [40, 15]  [17, 39]  [122, 10]  [70, 13]  [95, 74]  [98, 23]  [1, 25]  [15, 72]  ()\n",
        "[23 86]  [45, 21]  [112, 54]  [39, 42]  [23, 41]  [3, 99]  [103, 21]  [4, 69]  [94, 48]  [100, 65]  [73, 100]  [40, 15]  [32, 46]  [58, 33]  [None, None]  [116, 107]  [125, 90]  [19, 67]  [96, 57]  [63, 63]  [17, 88]  [52, 65]  [97, 57]  [114, 6]  [122, 10]  [47, 8]  [12, 37]  [95, 74]  [40, 112]  [9, 19]  [22, 63]  [116, 20]  [72, 18]  [34, 28]  [33, 9]  [87, 1]  [95, 53]  [72, 109]  [70, 114]  [115, 0]  [125, 37]  [42, 64]  [117, 90]  [88, 42]  [58, 94]  [90, 28]  [12, 90]  [69, 91]  [33, 118]  [41, 14]  [104, 113]  [15, 55]  [34, 99]  [22, 64]  [113, 11]  [122, 117]  [32, 81]  [1, 102]  [94, 79]  [42, 63]  [73, 27]  [61, 57]  [86, 86]  [43, 45]  [123, 75]  [31, 5]  [98, 104]  [50, 26]  [4, 58]  [10, 0]  [56, 111]  [47, 119]  [106, 21]  [39, 85]  [86, 41]  [52, 62]  [103, 106]  [3, 28]  [112, 73]  [114, 121]  [109, 14]  [66, 5]  [102, 65]  [2, 0]  [18, 86]  [79, 11]  [80, 110]  [96, 70]  [0, 85]  [45, 106]  [1, 25]  [19, 60]  [67, 50]  [88, 85]  [69, 36]  [123, 52]  [63, 64]  [100, 62]  [56, 16]  [61, 70]  [70, 13]  [62, 116]  [17, 39]  [41, 113]  [97, 70]  [18, 41]  [67, 77]  [87, 126]  [102, 62]  [113, 116]  [50, 101]  [43, 82]  [80, 17]  [0, 42]  [66, 122]  [90, 99]  [9, 108]  [98, 23]  [15, 72]  [117, 37]  [30, 122]  [104, 14]  [31, 122]  [30, 5]  [109, 113]  [106, 106]  [62, 11]  [79, 116]  ()\n",
        "[30 5]  [106, 21]  [3, 99]  [125, 37]  [61, 70]  [69, 91]  [32, 81]  [95, 74]  [96, 70]  [98, 104]  [114, 121]  [88, 42]  [103, 106]  [52, 62]  [116, 20]  [None, None]  [39, 85]  [112, 54]  [94, 79]  [12, 37]  [31, 5]  [58, 94]  [17, 88]  [73, 27]  [47, 119]  [122, 117]  [43, 45]  [117, 37]  [116, 107]  [109, 113]  [70, 13]  [40, 15]  [103, 21]  [113, 116]  [113, 11]  [62, 11]  [4, 58]  [88, 85]  [22, 64]  [42, 63]  [15, 72]  [115, 0]  [95, 53]  [72, 18]  [70, 114]  [0, 42]  [63, 64]  [86, 86]  [42, 64]  [122, 10]  [102, 62]  [125, 90]  [47, 8]  [19, 67]  [34, 99]  [41, 113]  [1, 25]  [32, 46]  [63, 63]  [33, 9]  [80, 110]  [23, 86]  [67, 50]  [97, 57]  [56, 16]  [100, 65]  [90, 28]  [109, 14]  [1, 102]  [50, 26]  [123, 52]  [34, 28]  [79, 116]  [41, 14]  [69, 36]  [30, 122]  [72, 109]  [112, 73]  [19, 60]  [66, 122]  [9, 108]  [114, 6]  [104, 14]  [79, 11]  [61, 57]  [106, 106]  [96, 57]  [80, 17]  [90, 99]  [102, 65]  [4, 69]  [22, 63]  [123, 75]  [40, 112]  [3, 28]  [67, 77]  [94, 48]  [31, 122]  [117, 90]  [18, 41]  [58, 33]  [87, 126]  [97, 70]  [39, 42]  [43, 82]  [87, 1]  [86, 41]  [18, 86]  [45, 21]  [33, 118]  [10, 0]  [12, 90]  [73, 100]  [15, 55]  [104, 113]  [98, 23]  [62, 116]  [100, 62]  [0, 85]  [56, 111]  [23, 41]  [66, 5]  [17, 39]  [52, 65]  [50, 101]  [45, 106]  [9, 19]  [2, 0]  ()\n",
        "[31 5]  [18, 86]  [39, 85]  [112, 73]  [79, 11]  [41, 14]  [100, 62]  [97, 70]  [109, 113]  [103, 106]  [50, 26]  [0, 85]  [113, 11]  [106, 21]  [125, 37]  [39, 42]  [None, None]  [125, 90]  [67, 50]  [56, 16]  [1, 102]  [98, 104]  [4, 58]  [3, 99]  [88, 42]  [86, 41]  [117, 90]  [43, 82]  [41, 113]  [66, 5]  [102, 62]  [15, 72]  [98, 23]  [103, 21]  [56, 111]  [102, 65]  [115, 0]  [47, 8]  [0, 42]  [95, 74]  [19, 60]  [4, 69]  [42, 64]  [90, 99]  [90, 28]  [88, 85]  [62, 11]  [122, 10]  [1, 25]  [40, 15]  [62, 116]  [116, 107]  [67, 77]  [15, 55]  [123, 52]  [69, 36]  [31, 122]  [33, 9]  [123, 75]  [117, 37]  [69, 91]  [17, 88]  [47, 119]  [95, 53]  [113, 116]  [32, 46]  [72, 109]  [96, 57]  [42, 63]  [80, 110]  [63, 64]  [72, 18]  [61, 57]  [116, 20]  [80, 17]  [79, 116]  [34, 99]  [114, 121]  [66, 122]  [109, 14]  [94, 79]  [112, 54]  [22, 64]  [30, 5]  [97, 57]  [52, 65]  [86, 86]  [50, 101]  [70, 13]  [70, 114]  [17, 39]  [104, 113]  [34, 28]  [122, 117]  [73, 100]  [94, 48]  [9, 19]  [30, 122]  [33, 118]  [106, 106]  [45, 21]  [12, 37]  [61, 70]  [3, 28]  [18, 41]  [45, 106]  [96, 70]  [43, 45]  [87, 126]  [32, 81]  [73, 27]  [87, 1]  [10, 0]  [40, 112]  [9, 108]  [58, 33]  [63, 63]  [52, 62]  [22, 63]  [12, 90]  [2, 0]  [19, 67]  [23, 41]  [100, 65]  [114, 6]  [58, 94]  [104, 14]  [23, 86]  ()\n",
        "[32 46]  [97, 57]  [116, 20]  [66, 122]  [52, 65]  [40, 15]  [30, 122]  [18, 41]  [114, 6]  [34, 99]  [96, 57]  [70, 13]  [123, 52]  [61, 57]  [19, 60]  [112, 73]  [125, 37]  [None, None]  [34, 28]  [33, 118]  [33, 9]  [72, 109]  [42, 63]  [41, 14]  [90, 99]  [80, 17]  [42, 64]  [87, 1]  [3, 28]  [112, 54]  [87, 126]  [22, 63]  [52, 62]  [100, 62]  [63, 64]  [22, 64]  [95, 74]  [86, 41]  [40, 112]  [43, 82]  [104, 113]  [97, 70]  [4, 69]  [58, 33]  [88, 85]  [122, 117]  [104, 14]  [88, 42]  [17, 39]  [0, 85]  [12, 37]  [39, 42]  [96, 70]  [116, 107]  [94, 48]  [73, 100]  [23, 41]  [56, 111]  [113, 116]  [12, 90]  [122, 10]  [1, 102]  [72, 18]  [115, 0]  [32, 81]  [113, 11]  [47, 8]  [67, 50]  [117, 37]  [86, 86]  [9, 19]  [98, 23]  [17, 88]  [15, 72]  [10, 0]  [23, 86]  [67, 77]  [109, 14]  [9, 108]  [94, 79]  [123, 75]  [39, 85]  [15, 55]  [100, 65]  [4, 58]  [98, 104]  [47, 119]  [73, 27]  [45, 21]  [0, 42]  [61, 70]  [62, 116]  [103, 21]  [69, 36]  [50, 26]  [109, 113]  [66, 5]  [2, 0]  [1, 25]  [58, 94]  [18, 86]  [117, 90]  [106, 106]  [114, 121]  [45, 106]  [70, 114]  [50, 101]  [95, 53]  [43, 45]  [31, 122]  [69, 91]  [102, 65]  [80, 110]  [41, 113]  [63, 63]  [106, 21]  [56, 16]  [79, 116]  [102, 62]  [62, 11]  [30, 5]  [125, 90]  [79, 11]  [103, 106]  [3, 99]  [90, 28]  [19, 67]  [31, 5]  ()\n",
        "[33 118]  [67, 50]  [47, 8]  [109, 113]  [43, 45]  [122, 117]  [104, 113]  [106, 21]  [58, 94]  [4, 69]  [19, 67]  [73, 100]  [17, 39]  [94, 79]  [96, 70]  [94, 48]  [67, 77]  [34, 99]  [None, None]  [40, 15]  [32, 81]  [115, 0]  [103, 21]  [88, 85]  [3, 28]  [87, 1]  [88, 42]  [79, 116]  [63, 64]  [98, 104]  [80, 110]  [80, 17]  [66, 122]  [19, 60]  [23, 41]  [31, 5]  [98, 23]  [43, 82]  [33, 9]  [52, 62]  [50, 101]  [58, 33]  [90, 99]  [114, 121]  [42, 63]  [117, 37]  [30, 5]  [41, 113]  [70, 13]  [69, 36]  [69, 91]  [123, 52]  [18, 41]  [113, 11]  [61, 70]  [62, 11]  [102, 62]  [31, 122]  [116, 20]  [30, 122]  [40, 112]  [113, 116]  [39, 42]  [72, 18]  [15, 72]  [1, 25]  [95, 74]  [125, 90]  [100, 62]  [15, 55]  [79, 11]  [112, 73]  [123, 75]  [86, 41]  [102, 65]  [63, 63]  [97, 70]  [66, 5]  [114, 6]  [112, 54]  [39, 85]  [72, 109]  [32, 46]  [117, 90]  [34, 28]  [95, 53]  [116, 107]  [70, 114]  [50, 26]  [1, 102]  [45, 21]  [73, 27]  [125, 37]  [12, 90]  [104, 14]  [106, 106]  [52, 65]  [62, 116]  [0, 85]  [97, 57]  [96, 57]  [122, 10]  [18, 86]  [9, 19]  [61, 57]  [17, 88]  [45, 106]  [47, 119]  [86, 86]  [22, 63]  [0, 42]  [23, 86]  [22, 64]  [56, 111]  [3, 99]  [109, 14]  [41, 14]  [9, 108]  [10, 0]  [2, 0]  [12, 37]  [103, 106]  [87, 126]  [42, 64]  [90, 28]  [4, 58]  [100, 65]  [56, 16]  ()\n",
        "[34 28]  [69, 91]  [113, 11]  [62, 11]  [63, 63]  [34, 99]  [114, 121]  [102, 62]  [30, 5]  [32, 81]  [70, 114]  [96, 70]  [100, 62]  [80, 110]  [63, 64]  [12, 90]  [56, 111]  [33, 9]  [40, 112]  [None, None]  [72, 18]  [33, 118]  [88, 42]  [103, 106]  [86, 41]  [61, 70]  [116, 20]  [45, 21]  [43, 82]  [31, 5]  [114, 6]  [94, 48]  [73, 100]  [3, 28]  [52, 62]  [97, 57]  [0, 85]  [17, 39]  [115, 0]  [70, 13]  [9, 19]  [22, 63]  [15, 72]  [80, 17]  [42, 64]  [4, 69]  [61, 57]  [47, 8]  [19, 60]  [67, 77]  [112, 54]  [117, 37]  [23, 41]  [42, 63]  [30, 122]  [18, 41]  [66, 122]  [98, 23]  [116, 107]  [58, 33]  [72, 109]  [47, 119]  [122, 117]  [40, 15]  [39, 42]  [103, 21]  [1, 25]  [0, 42]  [90, 99]  [90, 28]  [79, 116]  [69, 36]  [86, 86]  [123, 52]  [106, 106]  [96, 57]  [31, 122]  [102, 65]  [104, 14]  [22, 64]  [15, 55]  [32, 46]  [4, 58]  [123, 75]  [122, 10]  [56, 16]  [88, 85]  [52, 65]  [50, 101]  [95, 53]  [104, 113]  [66, 5]  [41, 113]  [97, 70]  [45, 106]  [2, 0]  [23, 86]  [109, 14]  [125, 37]  [12, 37]  [73, 27]  [39, 85]  [62, 116]  [87, 1]  [87, 126]  [43, 45]  [79, 11]  [41, 14]  [3, 99]  [112, 73]  [98, 104]  [18, 86]  [58, 94]  [95, 74]  [19, 67]  [10, 0]  [125, 90]  [50, 26]  [109, 113]  [106, 21]  [94, 79]  [1, 102]  [9, 108]  [113, 116]  [100, 65]  [117, 90]  [17, 88]  [67, 50]  ()\n",
        "[39 85]  [22, 64]  [42, 64]  [23, 41]  [73, 27]  [115, 0]  [94, 48]  [73, 100]  [87, 126]  [40, 15]  [23, 86]  [43, 82]  [15, 72]  [104, 14]  [17, 39]  [31, 122]  "
       ]
      },
      {
       "output_type": "stream",
       "stream": "stdout",
       "text": [
        "[1, 25]  [33, 118]  [32, 46]  [72, 109]  [None, None]  [122, 10]  [116, 107]  [95, 53]  [117, 37]  [58, 33]  [88, 85]  [114, 121]  [100, 62]  [12, 37]  [45, 106]  [97, 70]  [63, 64]  [123, 52]  [19, 60]  [94, 79]  [41, 113]  [90, 99]  [34, 28]  [3, 28]  [61, 70]  [69, 36]  [122, 117]  [12, 90]  [47, 119]  [72, 18]  [9, 108]  [42, 63]  [86, 41]  [95, 74]  [58, 94]  [32, 81]  [70, 13]  [113, 116]  [22, 63]  [52, 62]  [96, 70]  [125, 37]  [103, 106]  [112, 73]  [4, 58]  [125, 90]  [33, 9]  [40, 112]  [34, 99]  [116, 20]  [88, 42]  [31, 5]  [39, 42]  [17, 88]  [104, 113]  [56, 111]  [19, 67]  [4, 69]  [106, 21]  [66, 5]  [0, 85]  [2, 0]  [79, 11]  [30, 5]  [100, 65]  [117, 90]  [123, 75]  [3, 99]  [15, 55]  [69, 91]  [1, 102]  [18, 86]  [87, 1]  [67, 50]  [80, 17]  [106, 106]  [113, 11]  [98, 23]  [79, 116]  [102, 62]  [62, 116]  [109, 113]  [47, 8]  [80, 110]  [102, 65]  [90, 28]  [10, 0]  [30, 122]  [50, 26]  [96, 57]  [45, 21]  [0, 42]  [70, 114]  [67, 77]  [97, 57]  [109, 14]  [61, 57]  [103, 21]  [52, 65]  [62, 11]  [98, 104]  [9, 19]  [18, 41]  [66, 122]  [114, 6]  [56, 16]  [50, 101]  [41, 14]  [43, 45]  [86, 86]  [63, 63]  [112, 54]  ()\n",
        "[40 112]  [98, 104]  [103, 21]  [106, 21]  [19, 67]  [32, 81]  [87, 1]  [109, 113]  [94, 79]  [39, 42]  [43, 45]  [23, 41]  [3, 28]  [58, 94]  [52, 62]  [58, 33]  [98, 23]  [72, 18]  [115, 0]  [33, 9]  [122, 117]  [None, None]  [47, 8]  [113, 116]  [17, 39]  [104, 113]  [113, 11]  [50, 101]  [70, 13]  [67, 50]  [30, 5]  [30, 122]  [18, 41]  [43, 82]  [73, 100]  [69, 91]  [67, 77]  [19, 60]  [40, 15]  [96, 70]  [79, 116]  [94, 48]  [123, 52]  [61, 70]  [116, 20]  [15, 72]  [80, 110]  [1, 25]  [63, 64]  [31, 122]  [31, 5]  [90, 99]  [66, 122]  [88, 42]  [114, 121]  [102, 62]  [62, 11]  [69, 36]  [42, 63]  [80, 17]  [33, 118]  [88, 85]  [4, 69]  [34, 99]  [117, 37]  [41, 113]  [125, 37]  [95, 53]  [86, 41]  [117, 90]  [50, 26]  [97, 70]  [90, 28]  [100, 62]  [62, 116]  [70, 114]  [112, 73]  [18, 86]  [61, 57]  [97, 57]  [4, 58]  [34, 28]  [122, 10]  [15, 55]  [72, 109]  [125, 90]  [42, 64]  [63, 63]  [79, 11]  [41, 14]  [9, 19]  [23, 86]  [95, 74]  [22, 63]  [87, 126]  [109, 14]  [96, 57]  [102, 65]  [56, 111]  [112, 54]  [52, 65]  [32, 46]  [66, 5]  [45, 21]  [114, 6]  [3, 99]  [9, 108]  [103, 106]  [100, 65]  [12, 90]  [56, 16]  [73, 27]  [12, 37]  [0, 85]  [17, 88]  [106, 106]  [1, 102]  [45, 106]  [2, 0]  [10, 0]  [22, 64]  [47, 119]  [104, 14]  [116, 107]  [123, 75]  [39, 85]  [86, 86]  [0, 42]  ()\n",
        "[41 14]  [19, 67]  [115, 0]  [61, 70]  [80, 110]  [42, 63]  [96, 70]  [114, 121]  [18, 86]  [88, 42]  [30, 5]  [12, 90]  [0, 85]  [66, 5]  [97, 70]  [17, 39]  [4, 69]  [42, 64]  [103, 106]  [88, 85]  [116, 20]  [47, 119]  [None, None]  [4, 58]  [56, 111]  [52, 62]  [40, 112]  [66, 122]  [31, 122]  [43, 45]  [102, 65]  [43, 82]  [94, 48]  [67, 77]  [22, 63]  [63, 63]  [39, 42]  [98, 23]  [113, 116]  [112, 73]  [18, 41]  [3, 28]  [41, 113]  [63, 64]  [34, 28]  [103, 21]  [62, 116]  [33, 9]  [69, 36]  [117, 37]  [70, 114]  [1, 25]  [58, 33]  [33, 118]  [70, 13]  [30, 122]  [80, 17]  [15, 72]  [72, 109]  [19, 60]  [1, 102]  [39, 85]  [113, 11]  [116, 107]  [47, 8]  [40, 15]  [72, 18]  [100, 65]  [125, 37]  [31, 5]  [102, 62]  [123, 52]  [112, 54]  [95, 74]  [79, 116]  [114, 6]  [90, 99]  [79, 11]  [106, 106]  [52, 65]  [98, 104]  [95, 53]  [56, 16]  [69, 91]  [125, 90]  [86, 86]  [32, 46]  [61, 57]  [62, 11]  [123, 75]  [73, 100]  [45, 106]  [34, 99]  [100, 62]  [2, 0]  [45, 21]  [87, 126]  [50, 101]  [122, 117]  [96, 57]  [104, 14]  [0, 42]  [50, 26]  [23, 41]  [109, 14]  [94, 79]  [106, 21]  [15, 55]  [22, 64]  [86, 41]  [17, 88]  [9, 108]  [23, 86]  [32, 81]  [58, 94]  [9, 19]  [90, 28]  [109, 113]  [87, 1]  [104, 113]  [73, 27]  [117, 90]  [10, 0]  [122, 10]  [97, 57]  [67, 50]  [12, 37]  [3, 99]  ()\n",
        "[42 63]  [117, 90]  [39, 42]  [50, 26]  [31, 5]  [125, 37]  [106, 21]  [79, 11]  [19, 67]  [56, 111]  [69, 91]  [104, 113]  [12, 90]  [43, 45]  [114, 121]  [73, 100]  [3, 28]  [41, 113]  [88, 42]  [103, 21]  [95, 74]  [113, 11]  [4, 69]  [None, None]  [22, 63]  [109, 113]  [32, 81]  [106, 106]  [80, 17]  [15, 55]  [63, 63]  [66, 122]  [45, 21]  [58, 33]  [87, 1]  [90, 28]  [17, 39]  [94, 48]  [47, 8]  [61, 70]  [109, 14]  [23, 41]  [31, 122]  [102, 62]  [34, 99]  [67, 77]  [70, 114]  [15, 72]  [30, 122]  [19, 60]  [123, 75]  [69, 36]  [9, 19]  [122, 117]  [62, 11]  [50, 101]  [79, 116]  [43, 82]  [72, 18]  [18, 41]  [116, 20]  [115, 0]  [0, 85]  [1, 25]  [98, 23]  [117, 37]  [123, 52]  [122, 10]  [97, 70]  [41, 14]  [102, 65]  [70, 13]  [95, 53]  [112, 73]  [114, 6]  [97, 57]  [63, 64]  [80, 110]  [96, 57]  [86, 86]  [47, 119]  [116, 107]  [88, 85]  [1, 102]  [42, 64]  [32, 46]  [40, 15]  [112, 54]  [62, 116]  [72, 109]  [2, 0]  [94, 79]  [90, 99]  [96, 70]  [73, 27]  [104, 14]  [22, 64]  [61, 57]  [100, 62]  [100, 65]  [12, 37]  [113, 116]  [30, 5]  [10, 0]  [52, 65]  [98, 104]  [66, 5]  [33, 118]  [56, 16]  [52, 62]  [39, 85]  [58, 94]  [3, 99]  [86, 41]  [67, 50]  [87, 126]  [34, 28]  [18, 86]  [9, 108]  [45, 106]  [17, 88]  [40, 112]  [23, 86]  [33, 9]  [125, 90]  [103, 106]  [0, 42]  [4, 58]  ()\n",
        "[43 45]  [9, 108]  [0, 42]  [86, 41]  [106, 21]  [15, 55]  [0, 85]  [100, 62]  [87, 1]  [4, 58]  [109, 113]  [39, 42]  [115, 0]  [104, 113]  [122, 117]  [47, 8]  [88, 85]  [90, 28]  [3, 99]  [86, 86]  [117, 90]  [17, 88]  [56, 16]  [22, 64]  [None, None]  [56, 111]  [67, 50]  [31, 122]  [34, 99]  [45, 106]  [114, 121]  [41, 113]  [15, 72]  [40, 15]  [4, 69]  [79, 11]  [113, 116]  [33, 9]  [100, 65]  [32, 81]  [69, 36]  [103, 21]  [34, 28]  [125, 37]  [31, 5]  [32, 46]  [61, 70]  [125, 90]  [72, 18]  [116, 107]  [50, 26]  [72, 109]  [117, 37]  [98, 104]  [95, 74]  [123, 52]  [90, 99]  [42, 64]  [69, 91]  [1, 25]  [19, 67]  [12, 37]  [39, 85]  [123, 75]  [122, 10]  [95, 53]  [1, 102]  [114, 6]  [33, 118]  [66, 5]  [97, 70]  [116, 20]  [62, 116]  [40, 112]  [63, 64]  [102, 62]  [42, 63]  [96, 70]  [80, 17]  [50, 101]  [73, 27]  [70, 114]  [52, 65]  [18, 86]  [63, 63]  [61, 57]  [112, 54]  [62, 11]  [112, 73]  [30, 5]  [98, 23]  [73, 100]  [41, 14]  [113, 11]  [94, 48]  [43, 82]  [18, 41]  [70, 13]  [47, 119]  [79, 116]  [66, 122]  [96, 57]  [52, 62]  [67, 77]  [30, 122]  [2, 0]  [12, 90]  [94, 79]  [109, 14]  [88, 42]  [104, 14]  [23, 41]  [9, 19]  [103, 106]  [10, 0]  [19, 60]  [80, 110]  [22, 63]  [3, 28]  [17, 39]  [45, 21]  [58, 94]  [58, 33]  [97, 57]  [102, 65]  [23, 86]  [106, 106]  [87, 126]  ()\n",
        "[45 106]  [23, 41]  [96, 57]  [88, 42]  [12, 90]  [94, 79]  [115, 0]  [113, 11]  [3, 28]  [22, 64]  [22, 63]  [113, 116]  [0, 42]  [17, 39]  [47, 119]  [122, 10]  [86, 86]  [80, 110]  [87, 126]  [61, 57]  [58, 94]  [104, 14]  [52, 65]  [109, 14]  [56, 16]  [None, None]  [23, 86]  [34, 99]  [41, 14]  [73, 100]  [100, 62]  [34, 28]  [42, 64]  [95, 53]  [88, 85]  [96, 70]  [100, 65]  [125, 90]  [114, 6]  [103, 106]  [72, 18]  [32, 46]  [31, 5]  [33, 118]  [66, 5]  [112, 54]  [86, 41]  [63, 63]  [1, 102]  [123, 75]  [52, 62]  [69, 91]  [116, 107]  [73, 27]  [40, 112]  [116, 20]  [42, 63]  [90, 28]  [18, 86]  [72, 109]  [9, 108]  [106, 106]  [12, 37]  [30, 5]  [97, 57]  [70, 114]  [19, 67]  [102, 62]  [98, 104]  [104, 113]  [122, 117]  [117, 90]  [61, 70]  [67, 50]  [125, 37]  [97, 70]  [15, 55]  [0, 85]  [90, 99]  [70, 13]  [45, 21]  [50, 26]  [50, 101]  [87, 1]  [79, 11]  [62, 11]  [62, 116]  [112, 73]  [32, 81]  [109, 113]  [33, 9]  [98, 23]  [43, 45]  [39, 85]  [15, 72]  [41, 113]  [69, 36]  [95, 74]  [17, 88]  [63, 64]  [31, 122]  [79, 116]  [56, 111]  [40, 15]  [123, 52]  [94, 48]  [39, 42]  [2, 0]  [30, 122]  [4, 58]  [66, 122]  [67, 77]  [19, 60]  [3, 99]  [58, 33]  [1, 25]  [106, 21]  [4, 69]  [103, 21]  [47, 8]  [43, 82]  [10, 0]  [117, 37]  [102, 65]  [114, 121]  [9, 19]  [80, 17]  [18, 41]  ()\n",
        "[47 119]  [3, 99]  [33, 9]  [87, 1]  [94, 79]  [113, 11]  [73, 100]  [104, 113]  [23, 86]  [103, 21]  [58, 94]  [94, 48]  [98, 23]  [73, 27]  [12, 90]  [43, 82]  [117, 37]  [42, 63]  [88, 85]  [116, 107]  [88, 42]  [113, 116]  [40, 15]  [32, 46]  [67, 77]  [23, 41]  [None, None]  [102, 62]  [97, 70]  [17, 88]  [66, 5]  [63, 64]  [80, 17]  [69, 36]  [58, 33]  [43, 45]  [15, 72]  [31, 122]  [42, 64]  [22, 63]  [62, 11]  [19, 60]  [125, 37]  [96, 70]  [33, 118]  [1, 25]  [18, 86]  [34, 99]  [112, 73]  [123, 52]  [19, 67]  [95, 74]  [30, 122]  [115, 0]  [52, 62]  [61, 70]  [114, 121]  [90, 99]  [40, 112]  [70, 13]  [103, 106]  [122, 10]  [47, 8]  [116, 20]  [41, 113]  [72, 18]  [32, 81]  [90, 28]  [0, 85]  [98, 104]  [106, 21]  [86, 41]  [69, 91]  [56, 111]  [79, 11]  [80, 110]  [100, 62]  [45, 106]  [102, 65]  [70, 114]  [0, 42]  [1, 102]  [95, 53]  [67, 50]  [41, 14]  [123, 75]  [72, 109]  [30, 5]  [109, 113]  [117, 90]  [66, 122]  [104, 14]  [122, 117]  [17, 39]  [106, 106]  [79, 116]  [61, 57]  [50, 26]  [39, 42]  [63, 63]  [114, 6]  [125, 90]  [9, 108]  [18, 41]  [62, 116]  [12, 37]  [2, 0]  [39, 85]  [112, 54]  [3, 28]  [100, 65]  [87, 126]  [52, 65]  [4, 69]  [22, 64]  [50, 101]  [15, 55]  [10, 0]  [9, 19]  [45, 21]  [96, 57]  [4, 58]  [109, 14]  [34, 28]  [31, 5]  [56, 16]  [97, 57]  [86, 86]  ()\n",
        "[50 101]  [63, 64]  [18, 86]  [42, 64]  [69, 36]  [61, 57]  [72, 109]  [116, 107]  [90, 99]  [80, 110]  [31, 122]  [1, 102]  [69, 91]  [123, 52]  [95, 53]  [117, 90]  [43, 45]  [87, 126]  [79, 11]  [45, 106]  [114, 6]  [50, 26]  [66, 5]  [106, 21]  [31, 5]  [34, 28]  [102, 65]  [None, None]  [56, 16]  [70, 13]  [117, 37]  [4, 58]  [103, 106]  [98, 104]  [41, 14]  [19, 60]  [19, 67]  [67, 50]  [9, 108]  [125, 90]  [115, 0]  [15, 55]  [22, 64]  [32, 46]  [109, 14]  [94, 79]  [15, 72]  [23, 86]  [0, 42]  [17, 88]  [43, 82]  [12, 37]  [47, 119]  [62, 116]  [122, 10]  [113, 116]  [88, 85]  [3, 99]  [106, 106]  [39, 85]  [79, 116]  [109, 113]  [30, 5]  [104, 14]  [58, 94]  [73, 27]  [96, 57]  [23, 41]  [112, 54]  [30, 122]  [40, 15]  [100, 65]  [94, 48]  [97, 57]  [103, 21]  [67, 77]  [86, 86]  [1, 25]  [4, 69]  [17, 39]  [61, 70]  [45, 21]  [104, 113]  [80, 17]  [9, 19]  [73, 100]  [2, 0]  [98, 23]  [33, 9]  [66, 122]  [40, 112]  [95, 74]  [52, 65]  [123, 75]  [32, 81]  [88, 42]  [0, 85]  [47, 8]  [70, 114]  [3, 28]  [56, 111]  [87, 1]  [41, 113]  [33, 118]  [39, 42]  [112, 73]  [72, 18]  [62, 11]  [12, 90]  [90, 28]  [52, 62]  [125, 37]  [100, 62]  [63, 63]  [97, 70]  [113, 11]  [18, 41]  [34, 99]  [42, 63]  [116, 20]  [86, 41]  [102, 62]  [122, 117]  [10, 0]  [58, 33]  [114, 121]  [22, 63]  [96, 70]  ()\n",
        "[52 65]  [79, 116]  [69, 91]  [15, 72]  [18, 41]  [86, 86]  [1, 25]  [117, 37]  [80, 17]  [90, 28]  [66, 122]  [72, 18]  [72, 109]  [30, 122]  [40, 15]  [116, 20]  [41, 14]  [3, 99]  [63, 63]  [43, 45]  [100, 65]  [70, 114]  [31, 5]  [80, 110]  [34, 28]  [41, 113]  [97, 57]  [56, 111]  [None, None]  [50, 101]  [58, 33]  [88, 42]  [32, 81]  [33, 118]  [34, 99]  [9, 19]  [1, 102]  [40, 112]  [19, 67]  [33, 9]  [0, 85]  [42, 63]  [4, 58]  [103, 21]  [22, 64]  [15, 55]  [94, 48]  [67, 50]  [115, 0]  [47, 119]  [45, 21]  [39, 85]  [122, 117]  [112, 54]  [47, 8]  [39, 42]  [4, 69]  [103, 106]  [12, 37]  [113, 11]  [96, 57]  [30, 5]  [123, 75]  [17, 88]  [117, 90]  [98, 104]  [0, 42]  [9, 108]  [32, 46]  [109, 14]  [67, 77]  [113, 116]  [2, 0]  [122, 10]  [3, 28]  [23, 41]  [88, 85]  [19, 60]  [22, 63]  [104, 113]  [62, 116]  [73, 27]  [66, 5]  [106, 106]  [23, 86]  [45, 106]  [94, 79]  [73, 100]  [98, 23]  [104, 14]  [95, 74]  [70, 13]  [56, 16]  [116, 107]  [112, 73]  [86, 41]  [96, 70]  [17, 39]  [95, 53]  [87, 1]  [52, 62]  [18, 86]  [43, 82]  [125, 37]  [12, 90]  [62, 11]  [69, 36]  [61, 57]  [106, 21]  [42, 64]  [50, 26]  [63, 64]  [114, 121]  [125, 90]  [102, 62]  [100, 62]  [87, 126]  [31, 122]  [90, 99]  [123, 52]  [61, 70]  [114, 6]  [97, 70]  [58, 94]  [10, 0]  [102, 65]  [109, 113]  [79, 11]  ()\n",
        "[56 111]  [115, 0]  [19, 60]  [94, 79]  [103, 106]  [22, 63]  [23, 86]  [58, 94]  [39, 85]  [94, 48]  [47, 119]  [87, 126]  [9, 19]  [4, 58]  [9, 108]  [109, 14]  [66, 122]  [112, 73]  [98, 23]  [31, 122]  [12, 90]  [67, 77]  [43, 82]  [15, 72]  [45, 21]  [73, 27]  [17, 39]  [70, 114]  [50, 26]  [None, None]  [117, 90]  [62, 116]  [61, 57]  [79, 116]  [104, 14]  [40, 112]  [18, 41]  [50, 101]  [69, 36]  [45, 106]  [63, 63]  [106, 106]  [61, 70]  [18, 86]  [86, 41]  [80, 17]  [15, 55]  [70, 13]  [79, 11]  [102, 62]  [33, 118]  [114, 121]  [114, 6]  [3, 28]  [66, 5]  [80, 110]  [30, 5]  [62, 11]  [100, 62]  [102, 65]  [0, 85]  [117, 37]  [58, 33]  [97, 70]  [30, 122]  [63, 64]  [96, 70]  [72, 18]  [87, 1]  [88, 42]  [19, 67]  [106, 21]  [42, 63]  [104, 113]  [69, 91]  [1, 102]  [109, 113]  [67, 50]  [123, 75]  [34, 28]  [103, 21]  [125, 37]  [41, 113]  [113, 11]  [95, 74]  [34, 99]  [90, 99]  [41, 14]  [43, 45]  [122, 117]  [52, 65]  [56, 16]  [52, 62]  [10, 0]  [86, 86]  [112, 54]  [125, 90]  [31, 5]  [23, 41]  [72, 109]  [95, 53]  [1, 25]  [98, 104]  [96, 57]  [90, 28]  [88, 85]  [3, 99]  [4, 69]  [42, 64]  [2, 0]  [40, 15]  [0, 42]  [122, 10]  [73, 100]  [113, 116]  [97, 57]  [32, 81]  [17, 88]  [12, 37]  [22, 64]  [32, 46]  [39, 42]  [100, 65]  [123, 52]  [116, 20]  [47, 8]  [116, 107]  [33, 9]  ()\n",
        "[58 33]  [15, 72]  [62, 11]  [0, 42]  [103, 21]  [9, 19]  [86, 86]  [56, 16]  [33, 9]  [79, 116]  [47, 8]  [112, 54]  [61, 57]  [40, 15]  [22, 64]  [70, 114]  [102, 65]  [87, 1]  [80, 17]  [114, 121]  [45, 21]  [30, 122]  [102, 62]  [63, 64]  [114, 6]  [100, 65]  [66, 122]  [117, 90]  [58, 94]  [117, 37]  [None, None]  [19, 67]  [69, 91]  [80, 110]  [97, 57]  [4, 69]  [62, 116]  [30, 5]  [61, 70]  [12, 37]  [15, 55]  [63, 63]  [9, 108]  [3, 99]  [23, 41]  [79, 11]  [115, 0]  [109, 113]  [94, 79]  [66, 5]  [39, 42]  [45, 106]  [31, 5]  [18, 41]  [17, 88]  [98, 104]  [67, 50]  [18, 86]  [73, 100]  [43, 45]  [94, 48]  [70, 13]  [50, 101]  [104, 113]  [50, 26]  [106, 21]  [2, 0]  [86, 41]  [87, 126]  [67, 77]  [4, 58]  [73, 27]  [0, 85]  [104, 14]  [103, 106]  [88, 42]  [23, 86]  [88, 85]  [40, 112]  [122, 117]  [69, 36]  [12, 90]  [97, 70]  [98, 23]  [22, 63]  [100, 62]  [96, 70]  [113, 11]  [39, 85]  [17, 39]  [123, 75]  [116, 107]  [10, 0]  [52, 65]  [72, 109]  [1, 102]  [42, 63]  [47, 119]  [109, 14]  [32, 81]  [116, 20]  [112, 73]  [113, 116]  [90, 28]  [33, 118]  [1, 25]  [32, 46]  [19, 60]  [125, 37]  [96, 57]  [123, 52]  [42, 64]  [34, 99]  [106, 106]  [41, 113]  [41, 14]  [3, 28]  [122, 10]  [125, 90]  [95, 53]  [72, 18]  [43, 82]  [34, 28]  [52, 62]  [56, 111]  [31, 122]  [95, 74]  [90, 99]  ()\n",
        "[61 57]  [102, 62]  [19, 67]  [41, 113]  [30, 122]  [112, 54]  [72, 18]  [1, 25]  [63, 64]  [31, 5]  [80, 17]"
       ]
      },
      {
       "output_type": "stream",
       "stream": "stdout",
       "text": [
        "  [116, 20]  [1, 102]  [70, 13]  [116, 107]  [40, 112]  [15, 55]  [22, 64]  [80, 110]  [94, 79]  [97, 57]  [30, 5]  [43, 45]  [66, 5]  [41, 14]  [34, 99]  [63, 63]  [4, 69]  [88, 85]  [62, 11]  [19, 60]  [None, None]  [88, 42]  [47, 119]  [42, 63]  [18, 41]  [117, 90]  [103, 106]  [58, 94]  [42, 64]  [39, 42]  [33, 118]  [56, 16]  [40, 15]  [52, 65]  [98, 104]  [43, 82]  [3, 99]  [113, 116]  [39, 85]  [66, 122]  [0, 42]  [113, 11]  [70, 114]  [33, 9]  [47, 8]  [103, 21]  [4, 58]  [96, 57]  [115, 0]  [114, 6]  [18, 86]  [69, 91]  [12, 37]  [67, 50]  [17, 88]  [100, 65]  [10, 0]  [95, 53]  [50, 101]  [117, 37]  [122, 10]  [45, 21]  [125, 90]  [67, 77]  [58, 33]  [32, 46]  [69, 36]  [3, 28]  [73, 100]  [50, 26]  [104, 14]  [45, 106]  [79, 116]  [87, 126]  [2, 0]  [73, 27]  [94, 48]  [15, 72]  [106, 106]  [32, 81]  [112, 73]  [86, 86]  [72, 109]  [86, 41]  [56, 111]  [12, 90]  [98, 23]  [123, 75]  [23, 41]  [22, 63]  [9, 108]  [31, 122]  [122, 117]  [17, 39]  [61, 70]  [123, 52]  [62, 116]  [104, 113]  [34, 28]  [109, 113]  [97, 70]  [96, 70]  [90, 28]  [114, 121]  [0, 85]  [109, 14]  [90, 99]  [125, 37]  [95, 74]  [52, 62]  [102, 65]  [100, 62]  [23, 86]  [9, 19]  [79, 11]  [87, 1]  [106, 21]  ()\n",
        "[62 116]  [114, 121]  [58, 94]  [34, 99]  [70, 13]  [70, 114]  [116, 20]  [72, 18]  [97, 70]  [43, 45]  [63, 64]  [40, 112]  [117, 90]  [112, 73]  [72, 109]  [103, 106]  [98, 104]  [52, 65]  [66, 5]  [73, 27]  [63, 63]  [18, 86]  [94, 79]  [45, 106]  [15, 55]  [42, 63]  [80, 110]  [103, 21]  [32, 46]  [61, 70]  [69, 36]  [88, 85]  [None, None]  [39, 85]  [33, 118]  [30, 122]  [67, 50]  [4, 58]  [23, 86]  [34, 28]  [47, 8]  [47, 119]  [86, 86]  [116, 107]  [61, 57]  [17, 88]  [31, 122]  [22, 64]  [122, 10]  [0, 42]  [80, 17]  [100, 65]  [115, 0]  [30, 5]  [42, 64]  [33, 9]  [40, 15]  [56, 16]  [114, 6]  [113, 116]  [102, 65]  [9, 108]  [19, 67]  [96, 57]  [3, 99]  [12, 37]  [97, 57]  [9, 19]  [123, 75]  [62, 11]  [1, 25]  [125, 90]  [66, 122]  [90, 28]  [117, 37]  [19, 60]  [95, 53]  [123, 52]  [67, 77]  [94, 48]  [109, 113]  [106, 106]  [2, 0]  [102, 62]  [109, 14]  [45, 21]  [104, 14]  [43, 82]  [41, 113]  [79, 116]  [88, 42]  [86, 41]  [112, 54]  [1, 102]  [56, 111]  [4, 69]  [17, 39]  [15, 72]  [69, 91]  [58, 33]  [3, 28]  [10, 0]  [90, 99]  [113, 11]  [98, 23]  [52, 62]  [95, 74]  [50, 26]  [73, 100]  [41, 14]  [87, 1]  [100, 62]  [12, 90]  [31, 5]  [96, 70]  [39, 42]  [50, 101]  [125, 37]  [122, 117]  [32, 81]  [22, 63]  [79, 11]  [0, 85]  [87, 126]  [18, 41]  [106, 21]  [23, 41]  [104, 113]  ()\n",
        "[63 63]  [50, 26]  [98, 104]  [123, 52]  [102, 62]  [90, 28]  [125, 37]  [90, 99]  [61, 70]  [117, 90]  [62, 11]  [122, 117]  [33, 118]  [114, 121]  [34, 99]  [113, 11]  [103, 106]  [100, 65]  [19, 67]  [3, 99]  [123, 75]  [43, 45]  [67, 50]  [58, 94]  [40, 112]  [95, 74]  [69, 91]  [98, 23]  [33, 9]  [79, 11]  [80, 17]  [47, 8]  [39, 42]  [None, None]  [32, 81]  [79, 116]  [47, 119]  [115, 0]  [17, 88]  [72, 18]  [67, 77]  [88, 42]  [122, 10]  [41, 113]  [97, 57]  [4, 58]  [30, 122]  [0, 42]  [40, 15]  [88, 85]  [50, 101]  [32, 46]  [4, 69]  [31, 5]  [1, 25]  [117, 37]  [15, 72]  [113, 116]  [112, 54]  [103, 21]  [70, 114]  [94, 79]  [15, 55]  [86, 86]  [39, 85]  [56, 16]  [95, 53]  [104, 14]  [34, 28]  [102, 65]  [31, 122]  [116, 107]  [109, 14]  [72, 109]  [43, 82]  [66, 122]  [42, 64]  [63, 64]  [94, 48]  [9, 19]  [66, 5]  [52, 65]  [23, 86]  [62, 116]  [96, 57]  [87, 126]  [22, 64]  [18, 41]  [69, 36]  [61, 57]  [0, 85]  [96, 70]  [125, 90]  [42, 63]  [12, 90]  [17, 39]  [23, 41]  [19, 60]  [41, 14]  [45, 21]  [73, 100]  [73, 27]  [70, 13]  [56, 111]  [58, 33]  [106, 21]  [97, 70]  [80, 110]  [10, 0]  [116, 20]  [45, 106]  [52, 62]  [87, 1]  [1, 102]  [109, 113]  [3, 28]  [114, 6]  [112, 73]  [86, 41]  [100, 62]  [104, 113]  [30, 5]  [22, 63]  [12, 37]  [106, 106]  [18, 86]  [2, 0]  [9, 108]  ()\n",
        "[66 5]  [87, 1]  [12, 37]  [32, 81]  [96, 70]  [43, 45]  [113, 11]  [122, 117]  [22, 63]  [3, 99]  [52, 62]  [115, 0]  [39, 85]  [12, 90]  [33, 118]  [113, 116]  [56, 16]  [63, 63]  [23, 86]  [52, 65]  [19, 67]  [73, 27]  [22, 64]  [87, 126]  [4, 58]  [88, 42]  [58, 94]  [41, 113]  [34, 28]  [104, 113]  [97, 70]  [42, 64]  [33, 9]  [32, 46]  [None, None]  [114, 121]  [0, 42]  [122, 10]  [96, 57]  [40, 112]  [1, 25]  [88, 85]  [90, 28]  [42, 63]  [80, 110]  [86, 86]  [112, 73]  [97, 57]  [72, 109]  [95, 53]  [61, 70]  [123, 75]  [40, 15]  [94, 79]  [116, 20]  [72, 18]  [34, 99]  [125, 90]  [30, 5]  [116, 107]  [18, 86]  [104, 14]  [17, 88]  [70, 114]  [100, 65]  [112, 54]  [69, 91]  [79, 116]  [15, 55]  [106, 21]  [125, 37]  [1, 102]  [62, 11]  [117, 90]  [90, 99]  [63, 64]  [41, 14]  [100, 62]  [31, 122]  [30, 122]  [2, 0]  [62, 116]  [109, 14]  [109, 113]  [102, 65]  [50, 101]  [61, 57]  [70, 13]  [95, 74]  [50, 26]  [47, 8]  [17, 39]  [31, 5]  [47, 119]  [98, 23]  [15, 72]  [19, 60]  [123, 52]  [98, 104]  [80, 17]  [43, 82]  [106, 106]  [86, 41]  [103, 21]  [69, 36]  [73, 100]  [0, 85]  [45, 106]  [18, 41]  [103, 106]  [45, 21]  [3, 28]  [58, 33]  [67, 50]  [23, 41]  [117, 37]  [79, 11]  [56, 111]  [4, 69]  [39, 42]  [94, 48]  [9, 108]  [67, 77]  [114, 6]  [102, 62]  [10, 0]  [66, 122]  [9, 19]  ()\n",
        "[67 77]  [33, 9]  [70, 13]  [12, 37]  [88, 85]  [58, 33]  [52, 65]  [22, 64]  [122, 10]  [80, 17]  [113, 116]  [61, 57]  [50, 101]  [32, 46]  [87, 126]  [62, 116]  [102, 62]  [22, 63]  [31, 122]  [97, 70]  [94, 48]  [69, 36]  [63, 64]  [90, 99]  [79, 116]  [96, 57]  [43, 82]  [19, 67]  [9, 108]  [40, 15]  [4, 58]  [18, 86]  [30, 5]  [79, 11]  [114, 6]  [None, None]  [62, 11]  [50, 26]  [112, 73]  [104, 14]  [43, 45]  [102, 65]  [87, 1]  [23, 86]  [3, 28]  [114, 121]  [39, 85]  [52, 62]  [45, 106]  [106, 21]  [115, 0]  [104, 113]  [80, 110]  [19, 60]  [73, 27]  [94, 79]  [58, 94]  [109, 113]  [17, 39]  [66, 5]  [98, 23]  [123, 52]  [30, 122]  [12, 90]  [61, 70]  [96, 70]  [73, 100]  [32, 81]  [9, 19]  [103, 21]  [3, 99]  [2, 0]  [113, 11]  [45, 21]  [67, 50]  [103, 106]  [10, 0]  [56, 16]  [117, 90]  [33, 118]  [1, 25]  [0, 85]  [125, 37]  [47, 8]  [56, 111]  [122, 117]  [100, 62]  [47, 119]  [17, 88]  [39, 42]  [70, 114]  [95, 53]  [23, 41]  [109, 14]  [123, 75]  [69, 91]  [41, 14]  [98, 104]  [18, 41]  [40, 112]  [1, 102]  [95, 74]  [0, 42]  [63, 63]  [15, 55]  [116, 107]  [86, 86]  [117, 37]  [42, 63]  [106, 106]  [72, 18]  [125, 90]  [34, 28]  [66, 122]  [42, 64]  [31, 5]  [4, 69]  [100, 65]  [97, 57]  [112, 54]  [72, 109]  [15, 72]  [90, 28]  [86, 41]  [88, 42]  [41, 113]  [116, 20]  [34, 99]  ()\n",
        "[69 91]  [66, 5]  [4, 58]  [97, 70]  [50, 26]  [1, 102]  [86, 41]  [112, 73]  [106, 21]  [47, 119]  [79, 11]  [56, 111]  [88, 42]  [109, 113]  [95, 74]  [4, 69]  [115, 0]  [95, 53]  [98, 104]  [0, 42]  [41, 14]  [67, 50]  [39, 85]  [17, 88]  [113, 11]  [100, 62]  [15, 55]  [19, 60]  [1, 25]  [18, 86]  [62, 11]  [117, 37]  [67, 77]  [47, 8]  [0, 85]  [62, 116]  [None, None]  [103, 21]  [56, 16]  [125, 37]  [43, 82]  [39, 42]  [116, 107]  [123, 52]  [123, 75]  [113, 116]  [102, 62]  [32, 46]  [41, 113]  [33, 9]  [102, 65]  [42, 64]  [98, 23]  [117, 90]  [90, 99]  [31, 122]  [69, 36]  [40, 15]  [90, 28]  [15, 72]  [31, 5]  [3, 99]  [103, 106]  [125, 90]  [88, 85]  [122, 10]  [34, 28]  [52, 65]  [116, 20]  [30, 5]  [70, 13]  [34, 99]  [114, 6]  [42, 63]  [30, 122]  [50, 101]  [72, 18]  [61, 70]  [18, 41]  [106, 106]  [58, 94]  [97, 57]  [12, 37]  [80, 110]  [112, 54]  [96, 57]  [100, 65]  [79, 116]  [63, 64]  [63, 63]  [3, 28]  [87, 1]  [72, 109]  [32, 81]  [23, 41]  [58, 33]  [45, 21]  [80, 17]  [40, 112]  [109, 14]  [9, 19]  [22, 64]  [114, 121]  [17, 39]  [66, 122]  [9, 108]  [52, 62]  [19, 67]  [104, 14]  [122, 117]  [23, 86]  [104, 113]  [2, 0]  [33, 118]  [45, 106]  [94, 48]  [70, 114]  [96, 70]  [12, 90]  [22, 63]  [10, 0]  [43, 45]  [73, 100]  [86, 86]  [61, 57]  [94, 79]  [87, 126]  [73, 27]  ()\n",
        "[70 114]  [79, 11]  [67, 50]  [90, 99]  [62, 11]  [123, 75]  [95, 74]  [123, 52]  [114, 121]  [15, 55]  [102, 62]  [32, 81]  [40, 112]  [61, 70]  [72, 18]  [88, 42]  [47, 119]  [86, 86]  [43, 45]  [17, 88]  [90, 28]  [19, 67]  [98, 104]  [94, 79]  [33, 118]  [125, 37]  [31, 5]  [67, 77]  [40, 15]  [50, 26]  [30, 122]  [103, 21]  [4, 69]  [115, 0]  [122, 117]  [50, 101]  [103, 106]  [None, None]  [3, 99]  [34, 99]  [98, 23]  [113, 11]  [32, 46]  [1, 25]  [112, 54]  [39, 85]  [80, 17]  [56, 16]  [33, 9]  [113, 116]  [79, 116]  [122, 10]  [39, 42]  [69, 91]  [41, 113]  [15, 72]  [117, 37]  [88, 85]  [97, 57]  [47, 8]  [63, 63]  [58, 94]  [117, 90]  [100, 65]  [4, 58]  [0, 42]  [125, 90]  [87, 126]  [72, 109]  [62, 116]  [69, 36]  [42, 64]  [106, 106]  [34, 28]  [19, 60]  [18, 41]  [116, 107]  [70, 13]  [58, 33]  [45, 21]  [18, 86]  [96, 57]  [73, 27]  [102, 65]  [52, 65]  [104, 14]  [12, 37]  [66, 122]  [31, 122]  [114, 6]  [56, 111]  [52, 62]  [95, 53]  [116, 20]  [22, 63]  [3, 28]  [73, 100]  [43, 82]  [1, 102]  [9, 19]  [23, 41]  [23, 86]  [63, 64]  [0, 85]  [94, 48]  [109, 113]  [112, 73]  [30, 5]  [2, 0]  [42, 63]  [9, 108]  [96, 70]  [104, 113]  [41, 14]  [106, 21]  [17, 39]  [61, 57]  [97, 70]  [100, 62]  [86, 41]  [87, 1]  [80, 110]  [12, 90]  [22, 64]  [109, 14]  [66, 5]  [10, 0]  [45, 106]  ()\n",
        "[72 109]  [31, 5]  [88, 42]  [102, 62]  [70, 114]  [72, 18]  [61, 70]  [62, 11]  [80, 110]  [122, 117]  [63, 63]  [52, 62]  [86, 41]  [30, 5]  [70, 13]  [22, 63]  [0, 85]  [40, 15]  [33, 118]  [115, 0]  [34, 99]  [40, 112]  [113, 11]  [47, 119]  [100, 62]  [114, 121]  [42, 63]  [9, 19]  [19, 60]  [69, 91]  [61, 57]  [58, 33]  [23, 41]  [17, 39]  [96, 70]  [112, 54]  [56, 111]  [3, 28]  [None, None]  [63, 64]  [45, 21]  [12, 90]  [117, 37]  [30, 122]  [116, 107]  [39, 42]  [114, 6]  [103, 21]  [43, 82]  [98, 23]  [97, 57]  [15, 72]  [73, 100]  [116, 20]  [80, 17]  [66, 122]  [18, 41]  [67, 77]  [42, 64]  [94, 48]  [34, 28]  [103, 106]  [32, 81]  [33, 9]  [4, 69]  [47, 8]  [41, 113]  [56, 16]  [123, 52]  [123, 75]  [50, 101]  [31, 122]  [100, 65]  [90, 99]  [109, 14]  [52, 65]  [69, 36]  [62, 116]  [87, 126]  [12, 37]  [117, 90]  [122, 10]  [39, 85]  [90, 28]  [32, 46]  [0, 42]  [113, 116]  [96, 57]  [79, 116]  [125, 90]  [87, 1]  [18, 86]  [1, 25]  [112, 73]  [9, 108]  [10, 0]  [73, 27]  [106, 106]  [95, 74]  [22, 64]  [23, 86]  [4, 58]  [102, 65]  [104, 113]  [104, 14]  [19, 67]  [50, 26]  [1, 102]  [17, 88]  [97, 70]  [67, 50]  [66, 5]  [94, 79]  [125, 37]  [43, 45]  [2, 0]  [95, 53]  [79, 11]  [106, 21]  [109, 113]  [58, 94]  [41, 14]  [45, 106]  [88, 85]  [86, 86]  [15, 55]  [3, 99]  [98, 104]  ()\n",
        "[73 27]  [9, 19]  [97, 57]  [4, 69]  [73, 100]  [17, 88]  [47, 8]  [39, 42]  [58, 33]  [86, 86]  [23, 41]  [33, 9]  [122, 10]  [94, 48]  [115, 0]  [42, 64]  [95, 53]  [43, 45]  [52, 65]  [70, 114]  [3, 99]  [96, 57]  [112, 54]  [61, 57]  [32, 46]  [103, 21]  [22, 64]  [125, 37]  [33, 118]  [45, 21]  [12, 90]  [42, 63]  [34, 99]  [72, 109]  [40, 15]  [104, 113]  [125, 90]  [34, 28]  [63, 63]  [None, None]  [95, 74]  [116, 107]  [15, 55]  [113, 11]  [94, 79]  [123, 75]  [22, 63]  [31, 5]  [40, 112]  [1, 102]  [87, 1]  [117, 90]  [72, 18]  [12, 37]  [88, 42]  [32, 81]  [122, 117]  [41, 14]  [58, 94]  [116, 20]  [23, 86]  [114, 6]  [100, 65]  [19, 67]  [90, 28]  [69, 91]  [67, 50]  [79, 11]  [39, 85]  [2, 0]  [0, 85]  [103, 106]  [109, 113]  [4, 58]  [100, 62]  [96, 70]  [47, 119]  [17, 39]  [97, 70]  [61, 70]  [106, 106]  [18, 86]  [62, 116]  [10, 0]  [66, 5]  [50, 26]  [30, 5]  [52, 62]  [56, 111]  [9, 108]  [41, 113]  [43, 82]  [98, 104]  [113, 116]  [31, 122]  [90, 99]  [70, 13]  [86, 41]  [0, 42]  [114, 121]  [63, 64]  [102, 65]  [3, 28]  [1, 25]  [112, 73]  [66, 122]  [98, 23]  [104, 14]  [62, 11]  [88, 85]  [79, 116]  [19, 60]  [30, 122]  [56, 16]  [18, 41]  [123, 52]  [45, 106]  [67, 77]  [117, 37]  [15, 72]  [80, 17]  [87, 126]  [69, 36]  [80, 110]  [106, 21]  [109, 14]  [102, 62]  [50, 101]  ()\n",
        "[79 116]  [70, 13]  [66, 5]  [116, 107]  [31, 122]  [114, 6]  [34, 28]  [42, 64]  [123, 52]  [30, 5]  [69, 36]  [41, 14]  [31, 5]  [90, 99]  [125, 90]  [15, 55]  [19, 67]  [104, 14]  [50, 26]  [9, 108]  [61, 57]  [79, 11]  [18, 86]  [109, 113]  [69, 91]  [72, 109]  [62, 116]  [115, 0]  [0, 42]  [63, 64]  [15, 72]  [39, 85]  [47, 119]  [67, 50]  [1, 102]  [43, 82]  [43, 45]  [98, 104]  [45, 106]  [95, 53]  [None, None]  [117, 90]  [12, 37]  [122, 10]  [106, 106]  [58, 94]  [117, 37]  [73, 27]  [56, 16]  [3, 99]  [19, 60]  [22, 64]  [103, 106]  [102, 65]  [32, 46]  [88, 85]  [113, 116]  [17, 88]  [109, 14]  [4, 58]  [50, 101]  [106, 21]  "
       ]
      },
      {
       "output_type": "stream",
       "stream": "stdout",
       "text": [
        "[80, 110]  [87, 126]  [94, 79]  [23, 86]  [52, 65]  [73, 100]  [97, 57]  [80, 17]  [33, 9]  [86, 86]  [58, 33]  [112, 54]  [47, 8]  [98, 23]  [100, 65]  [41, 113]  [39, 42]  [3, 28]  [114, 121]  [9, 19]  [87, 1]  [30, 122]  [45, 21]  [23, 41]  [10, 0]  [67, 77]  [40, 15]  [18, 41]  [33, 118]  [125, 37]  [96, 57]  [90, 28]  [122, 117]  [113, 11]  [56, 111]  [103, 21]  [63, 63]  [17, 39]  [0, 85]  [104, 113]  [1, 25]  [40, 112]  [4, 69]  [97, 70]  [34, 99]  [102, 62]  [22, 63]  [123, 75]  [96, 70]  [95, 74]  [86, 41]  [70, 114]  [112, 73]  [88, 42]  [66, 122]  [72, 18]  [116, 20]  [42, 63]  [100, 62]  [62, 11]  [32, 81]  [2, 0]  [94, 48]  [61, 70]  [12, 90]  [52, 62]  ()\n",
        "[80 110]  [109, 113]  [17, 88]  [95, 74]  [114, 121]  [31, 5]  [122, 117]  [125, 37]  [52, 62]  [67, 50]  [61, 70]  [113, 11]  [47, 119]  [96, 70]  [42, 63]  [115, 0]  [4, 58]  [97, 57]  [58, 94]  [22, 64]  [69, 91]  [94, 79]  [3, 99]  [23, 86]  [103, 106]  [32, 81]  [19, 67]  [15, 72]  [42, 64]  [106, 21]  [63, 64]  [33, 9]  [47, 8]  [88, 85]  [88, 42]  [102, 62]  [39, 85]  [113, 116]  [12, 37]  [116, 20]  [117, 37]  [None, None]  [125, 90]  [34, 99]  [63, 63]  [56, 16]  [70, 13]  [100, 65]  [116, 107]  [32, 46]  [62, 11]  [95, 53]  [103, 21]  [43, 45]  [72, 18]  [1, 25]  [41, 113]  [122, 10]  [70, 114]  [40, 15]  [30, 5]  [73, 27]  [98, 104]  [112, 54]  [0, 42]  [86, 86]  [123, 75]  [106, 106]  [41, 14]  [79, 11]  [90, 99]  [72, 109]  [50, 101]  [1, 102]  [31, 122]  [80, 17]  [34, 28]  [97, 70]  [43, 82]  [18, 41]  [45, 106]  [61, 57]  [87, 126]  [50, 26]  [114, 6]  [109, 14]  [52, 65]  [30, 122]  [123, 52]  [62, 116]  [39, 42]  [12, 90]  [90, 28]  [33, 118]  [17, 39]  [98, 23]  [58, 33]  [69, 36]  [15, 55]  [66, 122]  [94, 48]  [104, 14]  [112, 73]  [4, 69]  [19, 60]  [104, 113]  [100, 62]  [66, 5]  [9, 19]  [40, 112]  [2, 0]  [22, 63]  [23, 41]  [117, 90]  [87, 1]  [67, 77]  [102, 65]  [86, 41]  [56, 111]  [0, 85]  [73, 100]  [18, 86]  [3, 28]  [96, 57]  [79, 116]  [9, 108]  [45, 21]  [10, 0]  ()\n",
        "[86 86]  [114, 6]  [1, 102]  [43, 82]  [109, 14]  [32, 46]  [69, 36]  [19, 60]  [79, 116]  [34, 28]  [106, 106]  [123, 52]  [72, 18]  [50, 101]  [117, 37]  [95, 74]  [42, 63]  [4, 58]  [90, 28]  [15, 55]  [122, 10]  [123, 75]  [41, 14]  [31, 5]  [34, 99]  [31, 122]  [125, 90]  [22, 63]  [4, 69]  [61, 57]  [9, 19]  [56, 111]  [86, 41]  [122, 117]  [90, 99]  [87, 126]  [116, 20]  [32, 81]  [117, 90]  [15, 72]  [12, 90]  [125, 37]  [None, None]  [67, 77]  [56, 16]  [33, 118]  [45, 21]  [103, 106]  [39, 42]  [113, 11]  [104, 14]  [115, 0]  [100, 62]  [95, 53]  [98, 23]  [17, 39]  [3, 28]  [88, 42]  [0, 42]  [0, 85]  [100, 65]  [69, 91]  [72, 109]  [39, 85]  [40, 112]  [47, 119]  [113, 116]  [58, 94]  [40, 15]  [52, 65]  [58, 33]  [47, 8]  [73, 27]  [33, 9]  [23, 41]  [10, 0]  [103, 21]  [18, 41]  [87, 1]  [45, 106]  [70, 114]  [17, 88]  [43, 45]  [96, 57]  [3, 99]  [94, 79]  [98, 104]  [2, 0]  [94, 48]  [12, 37]  [112, 73]  [62, 11]  [88, 85]  [1, 25]  [61, 70]  [52, 62]  [106, 21]  [73, 100]  [116, 107]  [9, 108]  [109, 113]  [19, 67]  [66, 122]  [97, 70]  [104, 113]  [62, 116]  [30, 122]  [112, 54]  [66, 5]  [41, 113]  [30, 5]  [102, 62]  [79, 11]  [42, 64]  [102, 65]  [96, 70]  [22, 64]  [80, 17]  [63, 64]  [70, 13]  [50, 26]  [97, 57]  [114, 121]  [67, 50]  [23, 86]  [63, 63]  [18, 86]  [80, 110]  ()\n",
        "[87 126]  [66, 122]  [70, 114]  [47, 8]  [58, 33]  [22, 64]  [40, 15]  [103, 21]  [43, 82]  [97, 57]  [94, 48]  [116, 107]  [95, 53]  [19, 60]  [88, 85]  [72, 109]  [90, 28]  [58, 94]  [114, 6]  [80, 110]  [12, 37]  [61, 57]  [63, 63]  [102, 65]  [125, 90]  [33, 9]  [96, 57]  [32, 81]  [103, 106]  [18, 41]  [3, 28]  [40, 112]  [116, 20]  [41, 14]  [42, 64]  [23, 41]  [123, 75]  [1, 102]  [30, 5]  [113, 116]  [122, 117]  [34, 28]  [67, 50]  [None, None]  [23, 86]  [31, 5]  [17, 39]  [19, 67]  [47, 119]  [15, 55]  [73, 100]  [98, 104]  [42, 63]  [52, 65]  [115, 0]  [113, 11]  [88, 42]  [117, 90]  [73, 27]  [33, 118]  [104, 14]  [62, 116]  [112, 54]  [94, 79]  [69, 91]  [43, 45]  [17, 88]  [109, 113]  [56, 16]  [9, 19]  [4, 69]  [39, 85]  [104, 113]  [0, 42]  [56, 111]  [22, 63]  [4, 58]  [67, 77]  [86, 41]  [96, 70]  [50, 101]  [45, 106]  [79, 11]  [45, 21]  [9, 108]  [106, 21]  [66, 5]  [12, 90]  [39, 42]  [2, 0]  [72, 18]  [69, 36]  [3, 99]  [32, 46]  [123, 52]  [95, 74]  [97, 70]  [0, 85]  [86, 86]  [52, 62]  [112, 73]  [50, 26]  [98, 23]  [34, 99]  [100, 62]  [30, 122]  [117, 37]  [109, 14]  [114, 121]  [122, 10]  [62, 11]  [31, 122]  [63, 64]  [100, 65]  [80, 17]  [125, 37]  [10, 0]  [15, 72]  [41, 113]  [1, 25]  [70, 13]  [106, 106]  [90, 99]  [18, 86]  [87, 1]  [79, 116]  [61, 70]  [102, 62]  ()\n",
        "[88 85]  [100, 65]  [72, 18]  [45, 21]  [22, 64]  [103, 21]  [18, 41]  [9, 19]  [96, 57]  [41, 113]  [12, 37]  [30, 122]  [69, 36]  [52, 65]  [58, 33]  [70, 13]  [90, 99]  [88, 42]  [42, 64]  [42, 63]  [47, 8]  [116, 107]  [34, 99]  [34, 28]  [31, 122]  [66, 122]  [33, 9]  [109, 113]  [22, 63]  [86, 86]  [23, 86]  [52, 62]  [61, 70]  [97, 70]  [80, 17]  [3, 99]  [123, 52]  [112, 73]  [116, 20]  [94, 48]  [106, 21]  [63, 64]  [56, 111]  [23, 41]  [None, None]  [125, 37]  [73, 27]  [32, 81]  [12, 90]  [100, 62]  [17, 88]  [0, 85]  [114, 121]  [40, 15]  [73, 100]  [104, 113]  [87, 1]  [86, 41]  [115, 0]  [96, 70]  [113, 116]  [72, 109]  [1, 25]  [113, 11]  [95, 74]  [122, 117]  [39, 42]  [117, 90]  [67, 77]  [56, 16]  [10, 0]  [17, 39]  [98, 104]  [98, 23]  [9, 108]  [58, 94]  [3, 28]  [87, 126]  [18, 86]  [43, 45]  [95, 53]  [47, 119]  [41, 14]  [0, 42]  [103, 106]  [15, 55]  [33, 118]  [94, 79]  [2, 0]  [39, 85]  [62, 11]  [61, 57]  [4, 69]  [19, 60]  [62, 116]  [50, 26]  [80, 110]  [45, 106]  [117, 37]  [19, 67]  [30, 5]  [1, 102]  [104, 14]  [102, 62]  [66, 5]  [112, 54]  [109, 14]  [32, 46]  [31, 5]  [43, 82]  [123, 75]  [114, 6]  [63, 63]  [15, 72]  [97, 57]  [79, 11]  [4, 58]  [106, 106]  [79, 116]  [50, 101]  [70, 114]  [122, 10]  [102, 65]  [40, 112]  [67, 50]  [125, 90]  [69, 91]  [90, 28]  ()\n",
        "[90 28]  [30, 5]  [47, 119]  [70, 13]  [102, 65]  [34, 28]  [97, 70]  [63, 64]  [50, 26]  [40, 112]  [62, 116]  [100, 62]  [122, 117]  [79, 11]  [90, 99]  [0, 85]  [88, 42]  [122, 10]  [117, 90]  [4, 58]  [72, 109]  [15, 55]  [103, 106]  [67, 50]  [32, 81]  [112, 73]  [1, 102]  [94, 48]  [15, 72]  [80, 110]  [79, 116]  [98, 23]  [17, 39]  [4, 69]  [86, 41]  [114, 6]  [113, 11]  [39, 42]  [39, 85]  [123, 52]  [58, 33]  [56, 111]  [33, 9]  [31, 122]  [125, 90]  [None, None]  [50, 101]  [113, 116]  [117, 37]  [103, 21]  [61, 57]  [40, 15]  [3, 28]  [41, 14]  [69, 36]  [19, 60]  [43, 82]  [47, 8]  [95, 53]  [67, 77]  [123, 75]  [98, 104]  [33, 118]  [32, 46]  [115, 0]  [88, 85]  [116, 107]  [12, 37]  [34, 99]  [63, 63]  [80, 17]  [1, 25]  [52, 65]  [72, 18]  [66, 122]  [106, 106]  [41, 113]  [102, 62]  [45, 21]  [87, 126]  [43, 45]  [86, 86]  [3, 99]  [70, 114]  [100, 65]  [22, 64]  [56, 16]  [109, 14]  [30, 122]  [112, 54]  [12, 90]  [106, 21]  [42, 64]  [125, 37]  [104, 113]  [73, 100]  [10, 0]  [18, 41]  [42, 63]  [104, 14]  [2, 0]  [17, 88]  [62, 11]  [22, 63]  [9, 19]  [66, 5]  [114, 121]  [31, 5]  [23, 86]  [95, 74]  [94, 79]  [109, 113]  [9, 108]  [116, 20]  [18, 86]  [23, 41]  [97, 57]  [61, 70]  [52, 62]  [96, 70]  [45, 106]  [69, 91]  [87, 1]  [0, 42]  [96, 57]  [19, 67]  [73, 27]  [58, 94]  ()\n",
        "[94 48]  [117, 37]  [102, 62]  [56, 16]  [47, 8]  [45, 21]  [100, 65]  [0, 42]  [40, 15]  [50, 101]  [103, 21]  [97, 57]  [114, 6]  [33, 9]  [12, 37]  [63, 63]  [62, 116]  [104, 113]  [30, 122]  [61, 70]  [9, 19]  [80, 17]  [62, 11]  [70, 13]  [61, 57]  [86, 86]  [18, 41]  [15, 55]  [94, 79]  [15, 72]  [115, 0]  [43, 45]  [31, 5]  [30, 5]  [112, 54]  [39, 42]  [102, 65]  [80, 110]  [114, 121]  [22, 64]  [117, 90]  [70, 114]  [45, 106]  [17, 88]  [73, 100]  [50, 26]  [None, None]  [106, 21]  [58, 94]  [18, 86]  [4, 69]  [9, 108]  [69, 91]  [66, 122]  [3, 99]  [67, 50]  [98, 104]  [66, 5]  [23, 41]  [19, 67]  [58, 33]  [63, 64]  [79, 116]  [87, 1]  [79, 11]  [109, 113]  [10, 0]  [100, 62]  [104, 14]  [98, 23]  [39, 85]  [23, 86]  [56, 111]  [87, 126]  [47, 119]  [113, 11]  [73, 27]  [113, 116]  [33, 118]  [32, 81]  [31, 122]  [22, 63]  [112, 73]  [67, 77]  [12, 90]  [86, 41]  [52, 62]  [88, 42]  [4, 58]  [3, 28]  [90, 28]  [42, 64]  [2, 0]  [96, 57]  [34, 28]  [41, 14]  [116, 20]  [103, 106]  [106, 106]  [122, 117]  [42, 63]  [97, 70]  [88, 85]  [123, 75]  [40, 112]  [41, 113]  [122, 10]  [43, 82]  [95, 74]  [52, 65]  [90, 99]  [116, 107]  [72, 18]  [109, 14]  [1, 25]  [1, 102]  [17, 39]  [32, 46]  [95, 53]  [125, 90]  [34, 99]  [19, 60]  [72, 109]  [96, 70]  [0, 85]  [69, 36]  [125, 37]  [123, 52]  ()\n",
        "[95 53]  [63, 63]  [40, 112]  [80, 17]  [61, 57]  [116, 107]  [70, 13]  [30, 122]  [102, 65]  [42, 63]  [114, 6]  [112, 73]  [95, 74]  [62, 116]  [69, 36]  [86, 41]  [122, 117]  [88, 85]  [41, 14]  [47, 119]  [42, 64]  [1, 102]  [33, 118]  [15, 55]  [125, 37]  [63, 64]  [34, 28]  [23, 41]  [67, 77]  [70, 114]  [109, 14]  [3, 28]  [22, 63]  [0, 85]  [97, 70]  [52, 65]  [32, 81]  [56, 111]  [103, 106]  [31, 122]  [73, 100]  [100, 62]  [103, 21]  [19, 60]  [32, 46]  [113, 11]  [106, 106]  [None, None]  [98, 23]  [39, 42]  [96, 57]  [47, 8]  [12, 90]  [72, 109]  [43, 82]  [94, 48]  [58, 33]  [4, 69]  [122, 10]  [17, 39]  [125, 90]  [117, 90]  [116, 20]  [113, 116]  [88, 42]  [115, 0]  [33, 9]  [3, 99]  [1, 25]  [112, 54]  [18, 41]  [15, 72]  [12, 37]  [41, 113]  [9, 19]  [87, 126]  [117, 37]  [50, 101]  [10, 0]  [73, 27]  [69, 91]  [0, 42]  [98, 104]  [97, 57]  [56, 16]  [17, 88]  [39, 85]  [104, 14]  [66, 122]  [100, 65]  [52, 62]  [50, 26]  [40, 15]  [123, 52]  [109, 113]  [87, 1]  [45, 106]  [45, 21]  [72, 18]  [23, 86]  [9, 108]  [67, 50]  [79, 116]  [96, 70]  [2, 0]  [30, 5]  [62, 11]  [123, 75]  [94, 79]  [90, 99]  [19, 67]  [79, 11]  [66, 5]  [34, 99]  [80, 110]  [104, 113]  [86, 86]  [102, 62]  [114, 121]  [61, 70]  [18, 86]  [90, 28]  [106, 21]  [4, 58]  [22, 64]  [31, 5]  [58, 94]  [43, 45]  ()\n",
        "[96 57]  [50, 101]  [31, 5]  [117, 37]  [66, 122]  [100, 65]  [41, 113]  [15, 72]  [30, 122]  [123, 75]  [18, 41]  [34, 99]  [34, 28]  [80, 17]  [33, 9]  [42, 63]  [1, 102]  [17, 88]  [70, 114]  [19, 67]  [86, 86]  [63, 63]  [69, 91]  [30, 5]  [72, 109]  [1, 25]  [112, 54]  [0, 85]  [115, 0]  [79, 116]  [94, 48]  [113, 11]  [122, 117]  [40, 112]  [72, 18]  [45, 21]  [41, 14]  [33, 118]  [43, 45]  [40, 15]  [56, 111]  [116, 20]  [39, 85]  [47, 8]  [12, 37]  [117, 90]  [58, 33]  [98, 104]  [None, None]  [103, 106]  [9, 19]  [4, 58]  [32, 81]  [97, 57]  [103, 21]  [4, 69]  [39, 42]  [47, 119]  [22, 64]  [88, 42]  [52, 65]  [80, 110]  [90, 28]  [3, 99]  [15, 55]  [67, 50]  [56, 16]  [45, 106]  [122, 10]  [106, 106]  [98, 23]  [88, 85]  [10, 0]  [32, 46]  [17, 39]  [73, 100]  [113, 116]  [43, 82]  [12, 90]  [87, 1]  [102, 65]  [23, 86]  [18, 86]  [109, 14]  [73, 27]  [9, 108]  [58, 94]  [23, 41]  [67, 77]  [87, 126]  [125, 37]  [63, 64]  [0, 42]  [42, 64]  [97, 70]  [100, 62]  [52, 62]  [3, 28]  [125, 90]  [104, 113]  [96, 70]  [66, 5]  [19, 60]  [95, 74]  [22, 63]  [102, 62]  [31, 122]  [114, 6]  [109, 113]  [116, 107]  [79, 11]  [70, 13]  [61, 70]  [95, 53]  [62, 11]  [86, 41]  [104, 14]  [69, 36]  [123, 52]  [90, 99]  [114, 121]  [61, 57]  [112, 73]  [94, 79]  [2, 0]  [62, 116]  [106, 21]  [50, 26]  ()\n",
        "[97 57]  [62, 116]  [15, 55]  [69, 36]  [79, 116]  [125, 90]  [90, 99]  [31, 122]  [62, 11]  [1, 102]  [50, 101]  [125, 37]  [42, 63]  [102, 62]  [41, 113]  [122, 117]  [40, 112]  [0, 42]  [69, 91]  [67, 50]  [95, 53]  [31, 5]  [117, 90]  [19, 67]  [116, 20]  [123, 52]  [123, 75]  [17, 39]  [47, 8]  [102, 65]  [66, 122]  [39, 42]  [0, 85]  [88, 42]  [95, 74]  [106, 106]  [33, 118]  [113, 11]  [98, 104]  [1, 25]  [3, 28]  [32, 81]  [113, 116]  [15, 72]  [100, 65]  [103, 106]  [18, 41]  [39, 85]  [103, 21]  [None, None]  [109, 14]  [88, 85]  [56, 111]  [90, 28]  [117, 37]  [67, 77]  [98, 23]  [115, 0]  [86, 86]  [4, 69]  [112, 54]  [43, 45]  [41, 14]  [56, 16]  [47, 119]  [4, 58]  [32, 46]  [73, 27]  [42, 64]  [114, 6]  [43, 82]  [40, 15]  [87, 126]  [116, 107]  [94, 48]  [45, 21]  [33, 9]  [80, 17]  [73, 100]  [10, 0]  [80, 110]  [22, 64]  [58, 94]  [61, 57]  [12, 37]  [23, 86]  [3, 99]  [9, 19]  [19, 60]  [52, 65]  [100, 62]  [114, 121]  [122, 10]  [34, 99]  [96, 70]  [12, 90]  [87, 1]  [58, 33]  [34, 28]  [2, 0]  [104, 113]  [94, 79]  [30, 122]  [86, 41]  [23, 41]  [79, 11]  [63, 64]  [63, 63]  [9, 108]  [72, 18]  [66, 5]  [61, 70]  [109, 113]  [72, 109]  [50, 26]  [22, 63]  [96, 57]  [70, 13]  [112, 73]  [97, 70]  [106, 21]  [70, 114]  [52, 62]  [17, 88]  [104, 14]  [30, 5]  [45, 106]  [18, 86]  ()\n",
        "[98 23]  [40, 15]  [63, 64]  [22, 64]  [113, 116]  [94, 48]  [96, 57]  [12, 37]  [32, 46]  [30, 122]  [88, 85]  [114, 6]  [79, 116]  [122, 10]  [104, 14]  [102, 65]  [62, 11]  [12, 90]  [69, 36]  [112, 73]  [58, 33]  [31, 122]  [70, 13]  [123, 52]  [50, 101]  [52, 65]  [19, 60]  [43, 45]  [45, 106]  [33, 9]  [39, 85]  [66, 5]  [80, 110]  "
       ]
      },
      {
       "output_type": "stream",
       "stream": "stdout",
       "text": [
        "[50, 26]  [61, 57]  [115, 0]  [102, 62]  [79, 11]  [97, 70]  [87, 126]  [19, 67]  [62, 116]  [104, 113]  [73, 27]  [17, 39]  [61, 70]  [4, 58]  [96, 70]  [9, 108]  [109, 113]  [None, None]  [87, 1]  [30, 5]  [43, 82]  [23, 86]  [58, 94]  [94, 79]  [106, 21]  [3, 28]  [18, 86]  [67, 77]  [90, 99]  [80, 17]  [22, 63]  [114, 121]  [52, 62]  [23, 41]  [122, 117]  [45, 21]  [47, 8]  [17, 88]  [10, 0]  [88, 42]  [9, 19]  [98, 104]  [47, 119]  [2, 0]  [0, 42]  [15, 55]  [40, 112]  [41, 113]  [56, 111]  [95, 74]  [103, 21]  [0, 85]  [32, 81]  [86, 41]  [103, 106]  [3, 99]  [4, 69]  [63, 63]  [125, 90]  [73, 100]  [106, 106]  [90, 28]  [31, 5]  [1, 102]  [67, 50]  [66, 122]  [33, 118]  [41, 14]  [125, 37]  [56, 16]  [70, 114]  [117, 90]  [42, 64]  [100, 65]  [15, 72]  [116, 20]  [109, 14]  [34, 99]  [95, 53]  [72, 109]  [18, 41]  [116, 107]  [69, 91]  [39, 42]  [86, 86]  [112, 54]  [97, 57]  [34, 28]  [117, 37]  [123, 75]  [100, 62]  [113, 11]  [1, 25]  [42, 63]  [72, 18]  ()\n",
        "[100 65]  [61, 57]  [41, 14]  [19, 60]  [106, 106]  [122, 10]  [31, 122]  [43, 82]  [50, 101]  [72, 109]  [109, 14]  [90, 99]  [34, 99]  [79, 116]  [15, 72]  [125, 37]  [116, 20]  [39, 85]  [123, 75]  [117, 90]  [32, 46]  [90, 28]  [1, 102]  [69, 91]  [72, 18]  [69, 36]  [95, 53]  [12, 90]  [39, 42]  [114, 6]  [45, 21]  [0, 85]  [100, 62]  [32, 81]  [123, 52]  [104, 14]  [42, 63]  [122, 117]  [15, 55]  [117, 37]  [22, 63]  [95, 74]  [115, 0]  [98, 23]  [0, 42]  [40, 112]  [9, 19]  [47, 119]  [4, 69]  [88, 42]  [87, 126]  [None, None]  [86, 41]  [125, 90]  [67, 77]  [3, 28]  [17, 39]  [113, 11]  [56, 16]  [56, 111]  [86, 86]  [31, 5]  [34, 28]  [4, 58]  [33, 118]  [103, 106]  [88, 85]  [94, 79]  [33, 9]  [96, 57]  [94, 48]  [103, 21]  [23, 86]  [40, 15]  [73, 100]  [2, 0]  [47, 8]  [66, 122]  [104, 113]  [9, 108]  [63, 63]  [3, 99]  [19, 67]  [52, 65]  [17, 88]  [58, 94]  [67, 50]  [10, 0]  [58, 33]  [22, 64]  [97, 70]  [102, 62]  [113, 116]  [41, 113]  [114, 121]  [96, 70]  [109, 113]  [23, 41]  [42, 64]  [45, 106]  [106, 21]  [43, 45]  [18, 41]  [112, 73]  [87, 1]  [102, 65]  [80, 17]  [97, 57]  [18, 86]  [1, 25]  [80, 110]  [62, 11]  [50, 26]  [116, 107]  [62, 116]  [52, 62]  [12, 37]  [30, 122]  [70, 13]  [63, 64]  [79, 11]  [112, 54]  [61, 70]  [98, 104]  [73, 27]  [70, 114]  [66, 5]  [30, 5]  ()\n",
        "[102 65]  [61, 70]  [94, 79]  [72, 18]  [63, 64]  [63, 63]  [42, 63]  [34, 99]  [112, 73]  [19, 67]  [70, 13]  [33, 118]  [15, 55]  [97, 70]  [34, 28]  [47, 119]  [67, 50]  [96, 57]  [18, 86]  [23, 86]  [70, 114]  [66, 5]  [58, 94]  [9, 108]  [117, 90]  [116, 20]  [30, 5]  [47, 8]  [122, 10]  [114, 121]  [31, 122]  [113, 116]  [115, 0]  [4, 58]  [40, 112]  [80, 17]  [98, 104]  [39, 85]  [73, 27]  [72, 109]  [103, 21]  [103, 106]  [100, 65]  [42, 64]  [114, 6]  [3, 99]  [69, 36]  [12, 37]  [32, 46]  [56, 16]  [30, 122]  [86, 86]  [None, None]  [80, 110]  [116, 107]  [40, 15]  [33, 9]  [0, 42]  [61, 57]  [88, 85]  [62, 116]  [45, 106]  [43, 45]  [52, 65]  [17, 88]  [22, 64]  [112, 54]  [45, 21]  [90, 28]  [102, 62]  [41, 113]  [95, 53]  [18, 41]  [123, 75]  [15, 72]  [43, 82]  [125, 90]  [90, 99]  [98, 23]  [58, 33]  [106, 21]  [109, 14]  [10, 0]  [62, 11]  [106, 106]  [9, 19]  [87, 126]  [19, 60]  [1, 25]  [50, 101]  [113, 11]  [100, 62]  [97, 57]  [41, 14]  [0, 85]  [39, 42]  [3, 28]  [117, 37]  [31, 5]  [94, 48]  [17, 39]  [2, 0]  [123, 52]  [88, 42]  [67, 77]  [96, 70]  [125, 37]  [79, 11]  [23, 41]  [1, 102]  [104, 113]  [86, 41]  [22, 63]  [69, 91]  [52, 62]  [4, 69]  [79, 116]  [95, 74]  [32, 81]  [122, 117]  [12, 90]  [50, 26]  [56, 111]  [104, 14]  [66, 122]  [109, 113]  [73, 100]  [87, 1]  ()\n",
        "[103 106]  [17, 88]  [40, 15]  [104, 113]  [58, 94]  [88, 42]  [23, 41]  [87, 1]  [73, 27]  [47, 8]  [94, 79]  [58, 33]  [67, 77]  [23, 86]  [22, 63]  [19, 60]  [15, 72]  [116, 20]  [113, 116]  [42, 64]  [113, 11]  [88, 85]  [33, 9]  [122, 10]  [98, 23]  [73, 100]  [115, 0]  [62, 11]  [112, 73]  [3, 99]  [18, 86]  [70, 13]  [30, 122]  [31, 122]  [94, 48]  [19, 67]  [117, 37]  [69, 36]  [116, 107]  [12, 90]  [102, 62]  [43, 82]  [95, 74]  [52, 62]  [40, 112]  [41, 113]  [66, 5]  [72, 18]  [97, 70]  [90, 99]  [43, 45]  [125, 37]  [80, 17]  [None, None]  [96, 70]  [114, 121]  [61, 70]  [123, 52]  [33, 118]  [63, 64]  [47, 119]  [32, 46]  [103, 21]  [42, 63]  [1, 25]  [34, 99]  [122, 117]  [123, 75]  [56, 111]  [67, 50]  [109, 113]  [100, 62]  [31, 5]  [0, 85]  [50, 26]  [30, 5]  [86, 41]  [9, 108]  [62, 116]  [63, 63]  [56, 16]  [41, 14]  [125, 90]  [98, 104]  [1, 102]  [90, 28]  [34, 28]  [80, 110]  [106, 21]  [15, 55]  [18, 41]  [87, 126]  [32, 81]  [3, 28]  [109, 14]  [50, 101]  [114, 6]  [79, 11]  [4, 69]  [70, 114]  [61, 57]  [95, 53]  [45, 106]  [66, 122]  [102, 65]  [22, 64]  [10, 0]  [4, 58]  [97, 57]  [17, 39]  [86, 86]  [104, 14]  [96, 57]  [39, 42]  [12, 37]  [79, 116]  [117, 90]  [2, 0]  [45, 21]  [9, 19]  [52, 65]  [39, 85]  [106, 106]  [72, 109]  [69, 91]  [0, 42]  [112, 54]  [100, 65]  ()\n",
        "[104 14]  [18, 41]  [63, 63]  [103, 21]  [94, 48]  [12, 37]  [33, 9]  [47, 8]  [19, 60]  [112, 54]  [58, 33]  [42, 64]  [125, 90]  [43, 82]  [113, 116]  [34, 28]  [123, 75]  [94, 79]  [61, 57]  [30, 5]  [22, 64]  [114, 6]  [70, 114]  [62, 116]  [95, 53]  [40, 15]  [52, 65]  [122, 117]  [47, 119]  [66, 122]  [17, 39]  [33, 118]  [42, 63]  [1, 102]  [116, 107]  [73, 100]  [90, 28]  [41, 14]  [80, 110]  [88, 85]  [32, 81]  [72, 109]  [98, 104]  [115, 0]  [73, 27]  [69, 91]  [3, 28]  [43, 45]  [103, 106]  [117, 90]  [23, 41]  [67, 50]  [116, 20]  [96, 57]  [None, None]  [88, 42]  [113, 11]  [15, 55]  [23, 86]  [40, 112]  [87, 126]  [102, 65]  [97, 57]  [58, 94]  [31, 5]  [19, 67]  [3, 99]  [106, 21]  [0, 42]  [45, 21]  [39, 42]  [4, 58]  [87, 1]  [56, 16]  [0, 85]  [12, 90]  [39, 85]  [98, 23]  [100, 62]  [52, 62]  [79, 116]  [9, 108]  [50, 26]  [9, 19]  [45, 106]  [109, 113]  [18, 86]  [22, 63]  [4, 69]  [10, 0]  [34, 99]  [31, 122]  [17, 88]  [122, 10]  [90, 99]  [125, 37]  [112, 73]  [56, 111]  [100, 65]  [96, 70]  [97, 70]  [79, 11]  [67, 77]  [72, 18]  [86, 41]  [80, 17]  [15, 72]  [106, 106]  [61, 70]  [32, 46]  [102, 62]  [69, 36]  [70, 13]  [86, 86]  [30, 122]  [95, 74]  [2, 0]  [117, 37]  [1, 25]  [41, 113]  [63, 64]  [109, 14]  [123, 52]  [66, 5]  [104, 113]  [50, 101]  [114, 121]  [62, 11]  ()\n",
        "[106 106]  [30, 122]  [80, 110]  [40, 15]  [43, 82]  [96, 57]  [42, 64]  [33, 9]  [69, 36]  [70, 114]  [19, 60]  [34, 28]  [90, 28]  [31, 122]  [122, 10]  [41, 14]  [69, 91]  [73, 27]  [62, 116]  [18, 86]  [52, 65]  [102, 65]  [30, 5]  [50, 26]  [123, 75]  [116, 107]  [61, 57]  [113, 11]  [39, 85]  [80, 17]  [98, 23]  [47, 119]  [33, 118]  [117, 90]  [72, 109]  [94, 48]  [31, 5]  [15, 55]  [66, 5]  [32, 46]  [88, 42]  [1, 102]  [17, 88]  [113, 116]  [104, 14]  [19, 67]  [67, 77]  [94, 79]  [4, 58]  [67, 50]  [58, 33]  [3, 99]  [40, 112]  [114, 6]  [88, 85]  [None, None]  [115, 0]  [98, 104]  [87, 126]  [103, 106]  [109, 14]  [79, 11]  [63, 63]  [23, 86]  [43, 45]  [58, 94]  [22, 64]  [104, 113]  [100, 65]  [66, 122]  [47, 8]  [56, 16]  [23, 41]  [86, 86]  [39, 42]  [17, 39]  [0, 42]  [15, 72]  [0, 85]  [22, 63]  [102, 62]  [10, 0]  [109, 113]  [18, 41]  [2, 0]  [87, 1]  [9, 108]  [3, 28]  [103, 21]  [9, 19]  [42, 63]  [90, 99]  [12, 37]  [125, 90]  [125, 37]  [122, 117]  [86, 41]  [4, 69]  [97, 57]  [12, 90]  [100, 62]  [106, 21]  [117, 37]  [116, 20]  [56, 111]  [63, 64]  [41, 113]  [79, 116]  [52, 62]  [95, 53]  [114, 121]  [123, 52]  [112, 73]  [112, 54]  [70, 13]  [32, 81]  [45, 21]  [1, 25]  [72, 18]  [34, 99]  [97, 70]  [50, 101]  [95, 74]  [45, 106]  [73, 100]  [62, 11]  [96, 70]  [61, 70]  ()\n",
        "[109 14]  [80, 17]  [30, 5]  [33, 9]  [19, 60]  [52, 65]  [116, 107]  [40, 15]  [31, 122]  [63, 63]  [43, 82]  [72, 109]  [123, 75]  [69, 36]  [32, 46]  [1, 102]  [31, 5]  [23, 86]  [102, 65]  [66, 5]  [96, 57]  [62, 116]  [80, 110]  [79, 11]  [90, 28]  [42, 64]  [114, 6]  [88, 42]  [4, 58]  [30, 122]  [67, 77]  [103, 106]  [40, 112]  [15, 55]  [34, 28]  [58, 33]  [69, 91]  [117, 90]  [18, 86]  [122, 10]  [113, 11]  [41, 14]  [3, 99]  [88, 85]  [87, 126]  [43, 45]  [98, 23]  [58, 94]  [39, 85]  [98, 104]  [94, 48]  [17, 88]  [33, 118]  [61, 57]  [113, 116]  [115, 0]  [None, None]  [67, 50]  [104, 14]  [47, 119]  [106, 106]  [50, 26]  [70, 114]  [73, 27]  [19, 67]  [94, 79]  [12, 37]  [87, 1]  [86, 86]  [18, 41]  [103, 21]  [0, 42]  [73, 100]  [100, 65]  [4, 69]  [3, 28]  [56, 16]  [117, 37]  [56, 111]  [12, 90]  [62, 11]  [2, 0]  [106, 21]  [66, 122]  [10, 0]  [104, 113]  [45, 106]  [17, 39]  [47, 8]  [45, 21]  [116, 20]  [123, 52]  [22, 64]  [95, 53]  [95, 74]  [32, 81]  [100, 62]  [39, 42]  [112, 54]  [22, 63]  [86, 41]  [109, 113]  [15, 72]  [42, 63]  [0, 85]  [70, 13]  [1, 25]  [50, 101]  [96, 70]  [125, 90]  [61, 70]  [90, 99]  [97, 70]  [97, 57]  [63, 64]  [122, 117]  [9, 19]  [41, 113]  [34, 99]  [72, 18]  [112, 73]  [79, 116]  [125, 37]  [9, 108]  [23, 41]  [102, 62]  [52, 62]  [114, 121]  ()\n",
        "[112 54]  [102, 65]  [117, 90]  [31, 122]  [50, 101]  [95, 53]  [123, 52]  [69, 36]  [102, 62]  [41, 14]  [79, 116]  [95, 74]  [116, 20]  [62, 11]  [1, 25]  [32, 81]  [33, 118]  [56, 16]  [31, 5]  [98, 104]  [125, 90]  [69, 91]  [15, 55]  [43, 45]  [42, 63]  [90, 99]  [90, 28]  [3, 28]  [103, 21]  [62, 116]  [18, 41]  [4, 69]  [56, 111]  [113, 11]  [125, 37]  [109, 14]  [40, 112]  [88, 42]  [67, 50]  [41, 113]  [17, 39]"
       ]
      },
      {
       "output_type": "stream",
       "stream": "stdout",
       "text": [
        "  [122, 117]  [88, 85]  [117, 37]  [86, 86]  [47, 119]  [66, 122]  [4, 58]  [47, 8]  [115, 0]  [106, 106]  [113, 116]  [0, 85]  [123, 75]  [15, 72]  [98, 23]  [67, 77]  [None, None]  [100, 65]  [39, 42]  [97, 57]  [19, 67]  [1, 102]  [0, 42]  [103, 106]  [39, 85]  [122, 10]  [23, 86]  [116, 107]  [61, 57]  [19, 60]  [33, 9]  [104, 14]  [42, 64]  [58, 33]  [9, 19]  [40, 15]  [30, 122]  [23, 41]  [2, 0]  [30, 5]  [12, 37]  [94, 79]  [114, 6]  [22, 64]  [73, 27]  [17, 88]  [45, 21]  [43, 82]  [96, 57]  [86, 41]  [61, 70]  [32, 46]  [72, 18]  [52, 62]  [22, 63]  [104, 113]  [94, 48]  [72, 109]  [10, 0]  [87, 1]  [58, 94]  [80, 17]  [100, 62]  [73, 100]  [50, 26]  [70, 13]  [70, 114]  [45, 106]  [34, 99]  [18, 86]  [114, 121]  [106, 21]  [34, 28]  [79, 11]  [12, 90]  [52, 65]  [63, 64]  [97, 70]  [112, 73]  [109, 113]  [63, 63]  [96, 70]  [3, 99]  [87, 126]  [80, 110]  [9, 108]  [66, 5]  ()\n",
        "[113 116]  [86, 86]  [34, 99]  [9, 19]  [12, 37]  [47, 8]  [66, 122]  [45, 21]  [52, 65]  [1, 25]  [22, 64]  [80, 17]  [31, 122]  [96, 57]  [94, 48]  [63, 64]  [123, 52]  [113, 11]  [116, 107]  [116, 20]  [103, 21]  [42, 64]  [72, 18]  [72, 109]  [69, 36]  [18, 41]  [40, 15]  [106, 21]  [12, 90]  [100, 65]  [73, 27]  [96, 70]  [114, 121]  [112, 73]  [30, 122]  [17, 88]  [90, 99]  [97, 70]  [42, 63]  [58, 33]  [109, 113]  [70, 13]  [0, 85]  [73, 100]  [115, 0]  [95, 74]  [23, 86]  [122, 117]  [22, 63]  [86, 41]  [3, 99]  [56, 111]  [61, 70]  [33, 9]  [23, 41]  [87, 1]  [104, 113]  [100, 62]  [None, None]  [52, 62]  [88, 85]  [34, 28]  [41, 113]  [88, 42]  [125, 37]  [32, 81]  [4, 69]  [15, 55]  [98, 23]  [0, 42]  [2, 0]  [3, 28]  [67, 50]  [67, 77]  [45, 106]  [94, 79]  [17, 39]  [104, 14]  [66, 5]  [19, 67]  [125, 90]  [103, 106]  [1, 102]  [56, 16]  [47, 119]  [117, 90]  [40, 112]  [58, 94]  [10, 0]  [4, 58]  [102, 62]  [114, 6]  [39, 42]  [43, 82]  [102, 65]  [79, 11]  [30, 5]  [9, 108]  [15, 72]  [43, 45]  [80, 110]  [41, 14]  [87, 126]  [62, 11]  [18, 86]  [97, 57]  [106, 106]  [122, 10]  [69, 91]  [19, 60]  [90, 28]  [61, 57]  [70, 114]  [117, 37]  [112, 54]  [50, 26]  [39, 85]  [109, 14]  [50, 101]  [79, 116]  [63, 63]  [32, 46]  [62, 116]  [33, 118]  [98, 104]  [95, 53]  [31, 5]  [123, 75]  ()\n",
        "[114 6]  [62, 11]  [43, 45]  [1, 25]  [80, 17]  [97, 57]  [34, 99]  [41, 113]  [70, 13]  [69, 91]  [30, 122]  [42, 63]  [41, 14]  [63, 64]  [42, 64]  [33, 118]  [117, 90]  [12, 37]  [30, 5]  [58, 94]  [112, 54]  [80, 110]  [19, 67]  [18, 86]  [1, 102]  [72, 18]  [70, 114]  [39, 42]  [113, 116]  [102, 62]  [43, 82]  [115, 0]  [113, 11]  [103, 106]  [116, 20]  [66, 122]  [15, 55]  [47, 119]  [94, 79]  [116, 107]  [4, 69]  [40, 112]  [0, 42]  [33, 9]  [96, 57]  [67, 50]  [19, 60]  [17, 88]  [88, 85]  [4, 58]  [18, 41]  [56, 16]  [88, 42]  [63, 63]  [40, 15]  [103, 21]  [47, 8]  [39, 85]  [52, 65]  [None, None]  [61, 57]  [66, 5]  [31, 5]  [22, 64]  [98, 104]  [3, 99]  [86, 86]  [2, 0]  [125, 90]  [79, 116]  [15, 72]  [32, 46]  [9, 19]  [95, 53]  [98, 23]  [94, 48]  [122, 10]  [31, 122]  [17, 39]  [23, 41]  [79, 11]  [87, 126]  [9, 108]  [50, 101]  [104, 14]  [10, 0]  [23, 86]  [58, 33]  [117, 37]  [109, 14]  [122, 117]  [97, 70]  [100, 65]  [34, 28]  [100, 62]  [0, 85]  [22, 63]  [67, 77]  [90, 28]  [73, 100]  [12, 90]  [45, 106]  [69, 36]  [32, 81]  [3, 28]  [114, 121]  [90, 99]  [102, 65]  [87, 1]  [72, 109]  [106, 21]  [112, 73]  [52, 62]  [123, 75]  [61, 70]  [56, 111]  [106, 106]  [123, 52]  [95, 74]  [125, 37]  [96, 70]  [62, 116]  [86, 41]  [73, 27]  [45, 21]  [50, 26]  [104, 113]  [109, 113]  ()\n",
        "[116 20]  [15, 55]  [4, 69]  [79, 11]  [69, 91]  [95, 74]  [109, 113]  [50, 26]  [43, 45]  [0, 85]  [31, 5]  [87, 1]  [22, 63]  [19, 67]  [61, 70]  [23, 41]  [17, 39]  [1, 25]  [113, 11]  [47, 8]  [125, 37]  [88, 42]  [39, 42]  [115, 0]  [12, 90]  [106, 21]  [122, 117]  [109, 14]  [30, 122]  [117, 90]  [70, 114]  [18, 41]  [9, 19]  [94, 48]  [104, 113]  [123, 75]  [3, 28]  [58, 33]  [103, 21]  [114, 121]  [106, 106]  [73, 100]  [69, 36]  [62, 11]  [72, 18]  [98, 23]  [63, 63]  [117, 37]  [80, 17]  [43, 82]  [90, 28]  [31, 122]  [45, 21]  [32, 81]  [102, 62]  [79, 116]  [50, 101]  [19, 60]  [34, 99]  [66, 122]  [42, 63]  [None, None]  [56, 111]  [41, 113]  [67, 77]  [15, 72]  [90, 99]  [32, 46]  [112, 73]  [1, 102]  [62, 116]  [63, 64]  [125, 90]  [97, 70]  [61, 57]  [112, 54]  [70, 13]  [30, 5]  [52, 65]  [100, 65]  [103, 106]  [42, 64]  [113, 116]  [41, 14]  [116, 107]  [122, 10]  [33, 9]  [97, 57]  [102, 65]  [34, 28]  [10, 0]  [58, 94]  [123, 52]  [52, 62]  [23, 86]  [87, 126]  [12, 37]  [114, 6]  [86, 41]  [86, 86]  [22, 64]  [88, 85]  [80, 110]  [2, 0]  [96, 57]  [67, 50]  [18, 86]  [40, 112]  [0, 42]  [96, 70]  [4, 58]  [94, 79]  [17, 88]  [100, 62]  [98, 104]  [104, 14]  [72, 109]  [66, 5]  [45, 106]  [9, 108]  [3, 99]  [33, 118]  [73, 27]  [40, 15]  [95, 53]  [47, 119]  [56, 16]  [39, 85]  ()\n",
        "[117 90]  [94, 79]  [88, 85]  [96, 70]  [18, 86]  [40, 112]  [22, 63]  [52, 62]  [45, 106]  [115, 0]  [66, 5]  [3, 28]  [4, 69]  [9, 108]  [86, 41]  [67, 77]  [47, 8]  [72, 109]  [39, 85]  [122, 10]  [33, 118]  [4, 58]  [113, 116]  [0, 42]  [39, 42]  [12, 90]  [47, 119]  [30, 122]  [123, 52]  [58, 94]  [50, 26]  [69, 36]  [19, 60]  [15, 72]  [17, 39]  [30, 5]  [103, 21]  [117, 37]  [32, 46]  [100, 62]  [80, 17]  [98, 23]  [72, 18]  [112, 73]  [1, 102]  [33, 9]  [79, 11]  [116, 107]  [90, 99]  [41, 113]  [80, 110]  [34, 99]  [43, 82]  [103, 106]  [97, 70]  [63, 64]  [70, 13]  [1, 25]  [41, 14]  [31, 122]  [15, 55]  [56, 16]  [None, None]  [34, 28]  [40, 15]  [42, 64]  [42, 63]  [112, 54]  [32, 81]  [19, 67]  [61, 70]  [125, 37]  [63, 63]  [122, 117]  [62, 11]  [62, 116]  [95, 74]  [109, 113]  [50, 101]  [114, 6]  [3, 99]  [90, 28]  [100, 65]  [43, 45]  [123, 75]  [97, 57]  [125, 90]  [102, 65]  [114, 121]  [31, 5]  [58, 33]  [10, 0]  [116, 20]  [56, 111]  [9, 19]  [18, 41]  [106, 106]  [102, 62]  [88, 42]  [61, 57]  [109, 14]  [86, 86]  [106, 21]  [94, 48]  [79, 116]  [23, 86]  [87, 1]  [67, 50]  [96, 57]  [0, 85]  [22, 64]  [2, 0]  [104, 14]  [113, 11]  [73, 27]  [66, 122]  [69, 91]  [104, 113]  [73, 100]  [23, 41]  [87, 126]  [98, 104]  [45, 21]  [95, 53]  [70, 114]  [17, 88]  [52, 65]  [12, 37]  ()\n",
        "[122 10]  [112, 54]  [42, 63]  [18, 41]  [96, 57]  [33, 9]  [80, 17]  [66, 122]  [61, 57]  [72, 18]  [52, 65]  [63, 64]  [90, 99]  [114, 6]  [43, 82]  [97, 70]  [95, 74]  [115, 0]  [72, 109]  [40, 112]  [40, 15]  [34, 28]  [116, 20]  [1, 102]  [123, 52]  [30, 122]  [116, 107]  [104, 113]  [17, 39]  [97, 57]  [104, 14]  [12, 90]  [96, 70]  [86, 41]  [70, 13]  [12, 37]  [125, 37]  [100, 62]  [33, 118]  [19, 60]  [87, 1]  [112, 73]  [39, 42]  [94, 48]  [113, 116]  [32, 81]  [87, 126]  [113, 11]  [3, 28]  [56, 111]  [22, 64]  [4, 69]  [52, 62]  [42, 64]  [58, 33]  [23, 41]  [73, 100]  [0, 85]  [88, 85]  [22, 63]  [32, 46]  [41, 14]  [34, 99]  [None, None]  [122, 117]  [88, 42]  [103, 21]  [98, 104]  [15, 72]  [100, 65]  [45, 21]  [67, 77]  [3, 99]  [117, 37]  [2, 0]  [73, 27]  [98, 23]  [106, 106]  [45, 106]  [58, 94]  [90, 28]  [4, 58]  [117, 90]  [86, 86]  [39, 85]  [67, 50]  [103, 106]  [23, 86]  [9, 19]  [56, 16]  [114, 121]  [102, 65]  [47, 8]  [31, 122]  [79, 11]  [106, 21]  [18, 86]  [10, 0]  [41, 113]  [94, 79]  [66, 5]  [15, 55]  [109, 14]  [61, 70]  [9, 108]  [63, 63]  [79, 116]  [125, 90]  [19, 67]  [69, 36]  [31, 5]  [62, 116]  [30, 5]  [1, 25]  [70, 114]  [109, 113]  [0, 42]  [50, 101]  [62, 11]  [102, 62]  [80, 110]  [95, 53]  [50, 26]  [47, 119]  [17, 88]  [123, 75]  [43, 45]  [69, 91]  ()\n",
        "[123 75]  [80, 110]  [103, 106]  [63, 64]  [62, 116]  [72, 109]  [112, 73]  [70, 13]  [79, 11]  [33, 118]  [102, 65]  [86, 41]  [32, 81]  [50, 26]  [123, 52]  [56, 111]  [113, 11]  [32, 46]  [15, 55]  [39, 85]  [34, 28]  [117, 90]  [47, 119]  [98, 104]  [122, 117]  [97, 70]  [41, 14]  [58, 33]  [117, 37]  [30, 5]  [50, 101]  [67, 77]  [3, 28]  [39, 42]  [100, 62]  [61, 57]  [88, 42]  [4, 69]  [4, 58]  [90, 99]  [94, 48]  [0, 85]  [40, 15]  [69, 36]  [95, 53]  [115, 0]  [79, 116]  [88, 85]  [15, 72]  [47, 8]  [114, 6]  [33, 9]  [17, 39]  [1, 102]  [31, 122]  [43, 82]  [19, 60]  [103, 21]  [125, 90]  [98, 23]  [90, 28]  [67, 50]  [40, 112]  [122, 10]  [None, None]  [113, 116]  [42, 64]  [22, 64]  [72, 18]  [70, 114]  [30, 122]  [41, 113]  [96, 57]  [34, 99]  [18, 41]  [109, 14]  [1, 25]  [62, 11]  [9, 19]  [104, 14]  [19, 67]  [100, 65]  [17, 88]  [63, 63]  [86, 86]  [12, 37]  [0, 42]  [106, 106]  [80, 17]  [97, 57]  [22, 63]  [109, 113]  [116, 107]  [95, 74]  [87, 1]  [23, 41]  [2, 0]  [66, 122]  [116, 20]  [87, 126]  [10, 0]  [3, 99]  [102, 62]  [12, 90]  [45, 21]  [18, 86]  [61, 70]  [69, 91]  [73, 27]  [125, 37]  [58, 94]  [106, 21]  [45, 106]  [42, 63]  [66, 5]  [73, 100]  [112, 54]  [114, 121]  [96, 70]  [52, 62]  [9, 108]  [31, 5]  [104, 113]  [56, 16]  [52, 65]  [43, 45]  [23, 86]  [94, 79]  ()\n",
        "[125 90]  [70, 114]  [33, 118]  [30, 122]  [114, 6]  [42, 64]  [63, 64]  [80, 17]  [62, 116]  [116, 20]  [61, 57]  [97, 70]  [125, 37]  [102, 65]  [31, 122]  [100, 62]  [32, 81]  [113, 116]  [1, 102]  [103, 106]  [116, 107]  [41, 14]  [40, 112]  [117, 90]  [95, 74]  [70, 13]  [72, 109]  [73, 100]  [98, 23]  [63, 63]  [106, 106]  [17, 39]  [12, 90]  [56, 111]  [112, 73]  [96, 57]  [122, 117]  [0, 85]  [47, 119]  [69, 36]  [23, 41]  [86, 41]  [47, 8]  [43, 82]  [122, 10]  [88, 42]  [109, 14]  [115, 0]  [67, 77]  [4, 69]  [52, 65]  [103, 21]  [22, 63]  [34, 28]  [19, 60]  [58, 33]  [94, 48]  [39, 42]  [32, 46]  [3, 28]  [95, 53]  [15, 55]  [42, 63]  [88, 85]  [113, 11]  [None, None]  [40, 15]  [17, 88]  [41, 113]  [97, 57]  [66, 122]  [117, 37]  [22, 64]  [1, 25]  [45, 21]  [104, 14]  [15, 72]  [79, 116]  [2, 0]  [23, 86]  [31, 5]  [56, 16]  [67, 50]  [112, 54]  [0, 42]  [3, 99]  [4, 58]"
       ]
      },
      {
       "output_type": "stream",
       "stream": "stdout",
       "text": [
        "  [87, 126]  [18, 41]  [86, 86]  [96, 70]  [79, 11]  [33, 9]  [90, 99]  [106, 21]  [104, 113]  [9, 108]  [9, 19]  [34, 99]  [73, 27]  [45, 106]  [98, 104]  [50, 101]  [52, 62]  [10, 0]  [80, 110]  [102, 62]  [90, 28]  [58, 94]  [123, 52]  [43, 45]  [50, 26]  [18, 86]  [72, 18]  [30, 5]  [87, 1]  [100, 65]  [62, 11]  [61, 70]  [114, 121]  [66, 5]  [123, 75]  [109, 113]  [39, 85]  [12, 37]  [69, 91]  [94, 79]  [19, 67]  ()\n"
       ]
      }
     ],
     "prompt_number": 165
    },
    {
     "cell_type": "code",
     "collapsed": false,
     "input": [
      "#Um Leiterchen (#) zu ermitteln, z\u00e4hlen wir, wann das neutrale Element vorkommt. (Dazu addieren wir den Punkt n-mal mit sich selbst)\n",
      "#Die einzelnen Gruppengr\u00f6\u00dfen m\u00fcssen Leiterchen teilen\n",
      "for i in range(punkte.size/2 - 1):\n",
      "    z = punkte[i]\n",
      "    zaehler = 1\n",
      "    while(z[0] != None):\n",
      "        #print z,  punkte[i]\n",
      "        z = addec(z,punkte[i])\n",
      "        zaehler = zaehler + 1\n",
      "\n",
      "    print \"Punkt \", punkte[i], \"\\tLeiterchen: \",zaehler"
     ],
     "language": "python",
     "metadata": {},
     "outputs": [
      {
       "output_type": "stream",
       "stream": "stdout",
       "text": [
        "Punkt  [0 42] \tLeiterchen:  64\n",
        "Punkt  [1 25] \tLeiterchen:  64\n",
        "Punkt  [2 0] \tLeiterchen:  2\n",
        "Punkt  [3 99] \tLeiterchen:  4\n",
        "Punkt  [4 69] \tLeiterchen:  8\n",
        "Punkt  [9 19] \tLeiterchen:  64\n",
        "Punkt  [10 0] \tLeiterchen:  2\n",
        "Punkt  [12 37] \tLeiterchen:  64\n",
        "Punkt  [15 72] \tLeiterchen:  32\n",
        "Punkt  [17 88] \tLeiterchen:  4\n",
        "Punkt  [18 41] \tLeiterchen:  32\n",
        "Punkt  [19 60] \tLeiterchen:  32\n",
        "Punkt  [22 64] \tLeiterchen:  64\n",
        "Punkt  [23 41] \tLeiterchen:  8\n",
        "Punkt  [30 122] \tLeiterchen:  64\n",
        "Punkt  [31 122] \tLeiterchen:  64\n",
        "Punkt  [32 81] \tLeiterchen:  32\n",
        "Punkt  [33 9] \tLeiterchen:  32\n",
        "Punkt  [34 99] \tLeiterchen:  16\n",
        "Punkt  [39 42] \tLeiterchen:  8\n",
        "Punkt  [40 15] \tLeiterchen:  32\n",
        "Punkt  [41 113] \tLeiterchen:  64\n",
        "Punkt  [42 64] \tLeiterchen:  64\n",
        "Punkt  [43 82] \tLeiterchen:  32\n",
        "Punkt  [45 21] \tLeiterchen:  64\n",
        "Punkt  [47 8] \tLeiterchen:  64\n",
        "Punkt  [50 26] \tLeiterchen:  64\n",
        "Punkt  [52 62] \tLeiterchen:  32\n",
        "Punkt  [56 16] \tLeiterchen:  64\n",
        "Punkt  [58 94] \tLeiterchen:  64\n",
        "Punkt  [61 70] \tLeiterchen:  64\n",
        "Punkt  [62 11] \tLeiterchen:  16\n",
        "Punkt  [63 64] \tLeiterchen:  16\n",
        "Punkt  [66 122] \tLeiterchen:  32\n",
        "Punkt  [67 50] \tLeiterchen:  64\n",
        "Punkt  [69 36] \tLeiterchen:  64\n",
        "Punkt  [70 13] \tLeiterchen:  16\n",
        "Punkt  [72 18] \tLeiterchen:  16\n",
        "Punkt  [73 100] \tLeiterchen:  8\n",
        "Punkt  [79 11] \tLeiterchen:  64\n",
        "Punkt  [80 17] \tLeiterchen:  64\n",
        "Punkt  [86 41] \tLeiterchen:  32\n",
        "Punkt  [87 1] \tLeiterchen:  64\n",
        "Punkt  [88 42] \tLeiterchen:  64\n",
        "Punkt  [90 99] \tLeiterchen:  16\n",
        "Punkt  [94 79] \tLeiterchen:  64\n",
        "Punkt  [95 74] \tLeiterchen:  64\n",
        "Punkt  [96 70] \tLeiterchen:  32\n",
        "Punkt  [97 70] \tLeiterchen:  64\n",
        "Punkt  [98 104] \tLeiterchen:  64\n",
        "Punkt  [100 62] \tLeiterchen:  32\n",
        "Punkt  [102 62] \tLeiterchen:  16\n",
        "Punkt  [103 21] \tLeiterchen:  64\n",
        "Punkt  [104 113] \tLeiterchen:  64\n",
        "Punkt  [106 21] \tLeiterchen:  32\n",
        "Punkt  [109 113] \tLeiterchen:  32\n",
        "Punkt  [112 73] \tLeiterchen:  64\n",
        "Punkt  [113 11] \tLeiterchen:  64\n",
        "Punkt  [114 121] \tLeiterchen:  64\n",
        "Punkt  [115 0] \tLeiterchen:  2\n",
        "Punkt "
       ]
      },
      {
       "output_type": "stream",
       "stream": "stdout",
       "text": [
        " [116 107] \tLeiterchen:  64\n",
        "Punkt  [117 37] \tLeiterchen:  32\n",
        "Punkt  [122 117] \tLeiterchen:  32\n",
        "Punkt  [123 52] \tLeiterchen:  16\n",
        "Punkt  [125 37] \tLeiterchen:  64\n",
        "Punkt  [0 85] \tLeiterchen:  64\n",
        "Punkt  [1 102] \tLeiterchen:  64\n",
        "Punkt  [3 28] \tLeiterchen:  4\n",
        "Punkt  [4 58] \tLeiterchen:  8\n",
        "Punkt  [9 108] \tLeiterchen:  64\n",
        "Punkt  [12 90] \tLeiterchen:  64\n",
        "Punkt  [15 55] \tLeiterchen:  32\n",
        "Punkt  [17 39] \tLeiterchen:  4\n",
        "Punkt  [18 86] \tLeiterchen:  32\n",
        "Punkt  [19 67] \tLeiterchen:  32\n",
        "Punkt  [22 63] \tLeiterchen:  64\n",
        "Punkt  [23 86] \tLeiterchen:  8\n",
        "Punkt  [30 5] \tLeiterchen:  64\n",
        "Punkt  [31 5] \tLeiterchen:  64\n",
        "Punkt  [32 46] \tLeiterchen:  32\n",
        "Punkt  [33 118] \tLeiterchen:  32\n",
        "Punkt  [34 28] \tLeiterchen:  16\n",
        "Punkt  [39 85] \tLeiterchen:  8\n",
        "Punkt  [40 112] \tLeiterchen:  32\n",
        "Punkt  [41 14] \tLeiterchen:  64\n",
        "Punkt  [42 63] \tLeiterchen:  64\n",
        "Punkt  [43 45] \tLeiterchen:  32\n",
        "Punkt  [45 106] \tLeiterchen:  64\n",
        "Punkt  [47 119] \tLeiterchen:  64\n",
        "Punkt  [50 101] \tLeiterchen:  64\n",
        "Punkt  [52 65] \tLeiterchen:  32\n",
        "Punkt  [56 111] \tLeiterchen:  64\n",
        "Punkt  [58 33] \tLeiterchen:  64\n",
        "Punkt  [61 57] \tLeiterchen:  64\n",
        "Punkt  [62 116] \tLeiterchen:  16\n",
        "Punkt  [63 63] \tLeiterchen:  16\n",
        "Punkt  [66 5] \tLeiterchen:  32\n",
        "Punkt  [67 77] \tLeiterchen:  64\n",
        "Punkt  [69 91] \tLeiterchen:  64\n",
        "Punkt  [70 114] \tLeiterchen:  16\n",
        "Punkt  [72 109] \tLeiterchen:  16\n",
        "Punkt  [73 27] \tLeiterchen:  8\n",
        "Punkt  [79 116] \tLeiterchen:  64\n",
        "Punkt  [80 110] \tLeiterchen:  64\n",
        "Punkt  [86 86] \tLeiterchen:  32\n",
        "Punkt  [87 126] \tLeiterchen:  64\n",
        "Punkt  [88 85] \tLeiterchen:  64\n",
        "Punkt  [90 28] \tLeiterchen:  16\n",
        "Punkt  [94 48] \tLeiterchen:  64\n",
        "Punkt  [95 53] \tLeiterchen:  64\n",
        "Punkt  [96 57] \tLeiterchen:  32\n",
        "Punkt  [97 57] \tLeiterchen:  64\n",
        "Punkt  [98 23] \tLeiterchen:  64\n",
        "Punkt  [100 65] \tLeiterchen:  32\n",
        "Punkt  [102 65] \tLeiterchen:  16\n",
        "Punkt  [103 106] \tLeiterchen:  64\n",
        "Punkt  [104 14] \tLeiterchen:  64\n",
        "Punkt  [106 106] \tLeiterchen:  32\n",
        "Punkt  [109 14] \tLeiterchen:  32\n",
        "Punkt  [112 54] \tLeiterchen:  64\n",
        "Punkt "
       ]
      },
      {
       "output_type": "stream",
       "stream": "stdout",
       "text": [
        " [113 116] \tLeiterchen:  64\n",
        "Punkt  [114 6] \tLeiterchen:  64\n",
        "Punkt  [116 20] \tLeiterchen:  64\n",
        "Punkt  [117 90] \tLeiterchen:  32\n",
        "Punkt  [122 10] \tLeiterchen:  32\n",
        "Punkt  [123 75] \tLeiterchen:  16\n",
        "Punkt  [125 90] \tLeiterchen:  64\n"
       ]
      }
     ],
     "prompt_number": 166
    },
    {
     "cell_type": "code",
     "collapsed": false,
     "input": [
      "def ggt(a, b):\n",
      "    while b != 0:\n",
      "        c = a % b\n",
      "        a, b = b, c\n",
      "    return a\n"
     ],
     "language": "python",
     "metadata": {},
     "outputs": [],
     "prompt_number": 167
    },
    {
     "cell_type": "code",
     "collapsed": false,
     "input": [
      "#El-Gamal Verschl\u00fcsselung\n",
      "\n",
      "#Domainparameter a und b\n",
      "#print a,b\n",
      "\n",
      "#generator w\u00e4hlen g=(0/42)\n",
      "g = [0,42]\n",
      "#p w\u00e4hlen g^p=1: also Leiterchen f\u00fcr g\n",
      "p=64\n",
      "\n",
      "#print expec(g,p)\n",
      "\n",
      "#########\n",
      "#  BOB  #\n",
      "#########\n",
      "#privater Schl\u00fcssel a: ggT(a,p)=1\n",
      "a=7\n",
      "#print ggt(a,p)\n",
      "\n",
      "A=expec(g,a)\n",
      "\n",
      "#########\n",
      "# ALICE #\n",
      "#########\n",
      "\n",
      "#Lookup-table\n",
      "lt = {}\n",
      "t=0\n",
      "for i in string.letters: #letters: oder printable: Alle Zeichen\n",
      "    lt.update({i:expec(g,t)})\n",
      "    t = t+1\n",
      "\n",
      "\n",
      "\n",
      "m=\"T\"\n",
      "#print lt\n",
      "#zuf\u00e4lliges r w\u00e4hlen ggT(r,p)=1 (f\u00fcr jeden Buchstaben)\n",
      "r=27\n",
      "#print ggt(r,p)\n",
      "R=expec(g,r)\n",
      "\n",
      "C=addec(expec(A,r),lt[m])\n",
      "\n",
      "\n",
      "#########\n",
      "#  BOB  #\n",
      "#########\n",
      "\n",
      "#rLT={v:k for k, v in lt.items()}\n",
      "\n",
      "R1 = [R[1], R[0]]\n",
      "Nachricht = addec(C,expec(R1,a))\n",
      "\n",
      "\n",
      "print Nachricht\n",
      "\n",
      "\n"
     ],
     "language": "python",
     "metadata": {},
     "outputs": [
      {
       "output_type": "stream",
       "stream": "stdout",
       "text": [
        "[123, 23] [23, 123]\n",
        "[17, 26]\n"
       ]
      }
     ],
     "prompt_number": 217
    },
    {
     "cell_type": "code",
     "collapsed": false,
     "input": [],
     "language": "python",
     "metadata": {},
     "outputs": []
    },
    {
     "cell_type": "code",
     "collapsed": false,
     "input": [],
     "language": "python",
     "metadata": {},
     "outputs": []
    }
   ],
   "metadata": {}
  }
 ]
}